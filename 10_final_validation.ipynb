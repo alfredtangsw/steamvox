{
 "cells": [
  {
   "cell_type": "markdown",
   "metadata": {},
   "source": [
    "# Final Validation\n",
    "\n",
    "After previous sampling, I realised that training data should not be used to test the model."
   ]
  },
  {
   "cell_type": "code",
   "execution_count": 164,
   "metadata": {},
   "outputs": [
    {
     "name": "stdout",
     "output_type": "stream",
     "text": [
      "[appID = 779340] expected #reviews = 8462\n"
     ]
    }
   ],
   "source": [
    "#WARNING: This scrapes live data. Only run this when you are absolutely sure you want to scrape current data!\n",
    "#I previously scraped this so I will go straight to loading the file in the next cell\n",
    "\n",
    "request_params = dict()\n",
    "request_params['filter'] = 'recent'\n",
    "request_params['language'] = 'english'\n",
    "request_params['day_range'] = '365'\n",
    "\n",
    "app_id = 779340\n",
    "review_dict, query_count = steamreviews.download_reviews_for_app_id(app_id, chosen_request_params=request_params)"
   ]
  },
  {
   "cell_type": "code",
   "execution_count": 189,
   "metadata": {},
   "outputs": [],
   "source": [
    "#read in a json file\n",
    "with open('./data/review_779340_2.json') as jsonfile:\n",
    "    jayson = json.load(jsonfile)"
   ]
  },
  {
   "cell_type": "code",
   "execution_count": 190,
   "metadata": {},
   "outputs": [],
   "source": [
    "review_data = [v for v in jayson['reviews'].values()]\n",
    "author_key_list = list(review_data[0]['author'].keys())"
   ]
  },
  {
   "cell_type": "code",
   "execution_count": 191,
   "metadata": {},
   "outputs": [
    {
     "data": {
      "text/plain": [
       "8422"
      ]
     },
     "execution_count": 191,
     "metadata": {},
     "output_type": "execute_result"
    }
   ],
   "source": [
    "len(review_data)"
   ]
  },
  {
   "cell_type": "code",
   "execution_count": 192,
   "metadata": {},
   "outputs": [
    {
     "data": {
      "text/plain": [
       "'2019-05-23'"
      ]
     },
     "execution_count": 192,
     "metadata": {},
     "output_type": "execute_result"
    }
   ],
   "source": [
    "datetime.datetime.utcfromtimestamp(min([review_data[i]['timestamp_created'] for i in range(len(review_data))])).strftime('%Y-%m-%d')"
   ]
  },
  {
   "cell_type": "code",
   "execution_count": 193,
   "metadata": {},
   "outputs": [
    {
     "data": {
      "text/plain": [
       "'2019-07-20'"
      ]
     },
     "execution_count": 193,
     "metadata": {},
     "output_type": "execute_result"
    }
   ],
   "source": [
    "datetime.datetime.utcfromtimestamp(max([review_data[i]['timestamp_created'] for i in range(len(review_data))])).strftime('%Y-%m-%d')"
   ]
  },
  {
   "cell_type": "code",
   "execution_count": 194,
   "metadata": {},
   "outputs": [
    {
     "data": {
      "text/plain": [
       "1563618842"
      ]
     },
     "execution_count": 194,
     "metadata": {},
     "output_type": "execute_result"
    }
   ],
   "source": [
    "#previous max value was 1562591773; 2019-07-08\n",
    "max([review_data[i]['timestamp_created'] for i in range(len(review_data))])"
   ]
  },
  {
   "cell_type": "code",
   "execution_count": 195,
   "metadata": {},
   "outputs": [],
   "source": [
    "#for definition of each field in the JSON files, visit (here)[https://partner.steamgames.com/doc/store/getreviews]\n",
    "\n",
    "steam_dict = {'recommendationid':[review_data[i]['recommendationid'] for i in range(len(review_data))],\n",
    "              \n",
    "              'author_steamid':[review_data[i]['author']['steamid'] for i in range(len(review_data))],\n",
    "              \n",
    "              'author_num_games_owned':[review_data[i]['author']['num_games_owned'] for i in range(len(review_data))],\n",
    "              \n",
    "              'author_num_reviews':[review_data[i]['author']['num_reviews'] for i in range(len(review_data))],\n",
    "              \n",
    "              'author_playtime_forever':[review_data[i]['author']['playtime_forever'] for i in range(len(review_data))], \n",
    "              #data recorded in minutes - independently verified: https://steamcommunity.com/id/mydogsnameissnowballball/recommended/730/ - 43586 divided by 724.6h on record = 60 min\n",
    "              \n",
    "              'author_playtime_last_two_weeks':[review_data[i]['author']['playtime_last_two_weeks'] for i in range(len(review_data))],\n",
    "              \n",
    "              'author_last_played':[review_data[i]['author']['last_played'] for i in range(len(review_data))],\n",
    "              \n",
    "              'review':[review_data[i]['review'] for i in range(len(review_data))],\n",
    "              \n",
    "              'timestamp_created':[review_data[i]['timestamp_created'] for i in range(len(review_data))],\n",
    "              \n",
    "              'timestamp_updated':[review_data[i]['timestamp_updated'] for i in range(len(review_data))],\n",
    "              \n",
    "              'voted_up':[review_data[i]['voted_up'] for i in range(len(review_data))],\n",
    "              \n",
    "              'weighted_vote_score':[review_data[i]['weighted_vote_score'] for i in range(len(review_data))],\n",
    "              \n",
    "              'steam_purchase':[review_data[i]['steam_purchase'] for i in range(len(review_data))],\n",
    "              \n",
    "              'received_for_free':[review_data[i]['received_for_free'] for i in range(len(review_data))],\n",
    "              \n",
    "              'written_during_early_access':[review_data[i]['written_during_early_access'] for i in range(len(review_data))]}"
   ]
  },
  {
   "cell_type": "code",
   "execution_count": 196,
   "metadata": {},
   "outputs": [
    {
     "data": {
      "text/html": [
       "<div>\n",
       "<style scoped>\n",
       "    .dataframe tbody tr th:only-of-type {\n",
       "        vertical-align: middle;\n",
       "    }\n",
       "\n",
       "    .dataframe tbody tr th {\n",
       "        vertical-align: top;\n",
       "    }\n",
       "\n",
       "    .dataframe thead th {\n",
       "        text-align: right;\n",
       "    }\n",
       "</style>\n",
       "<table border=\"1\" class=\"dataframe\">\n",
       "  <thead>\n",
       "    <tr style=\"text-align: right;\">\n",
       "      <th></th>\n",
       "      <th>recommendationid</th>\n",
       "      <th>author_steamid</th>\n",
       "      <th>author_num_games_owned</th>\n",
       "      <th>author_num_reviews</th>\n",
       "      <th>author_playtime_forever</th>\n",
       "      <th>author_playtime_last_two_weeks</th>\n",
       "      <th>author_last_played</th>\n",
       "      <th>review</th>\n",
       "      <th>timestamp_created</th>\n",
       "      <th>timestamp_updated</th>\n",
       "      <th>voted_up</th>\n",
       "      <th>weighted_vote_score</th>\n",
       "      <th>steam_purchase</th>\n",
       "      <th>received_for_free</th>\n",
       "      <th>written_during_early_access</th>\n",
       "    </tr>\n",
       "  </thead>\n",
       "  <tbody>\n",
       "    <tr>\n",
       "      <th>0</th>\n",
       "      <td>54192944</td>\n",
       "      <td>76561198859964653</td>\n",
       "      <td>57</td>\n",
       "      <td>24</td>\n",
       "      <td>1694</td>\n",
       "      <td>1694</td>\n",
       "      <td>1563886009</td>\n",
       "      <td>Its a chess within a chess, two layers of comp...</td>\n",
       "      <td>1563618842</td>\n",
       "      <td>1563810779</td>\n",
       "      <td>True</td>\n",
       "      <td>0.495412856340408325</td>\n",
       "      <td>True</td>\n",
       "      <td>False</td>\n",
       "      <td>False</td>\n",
       "    </tr>\n",
       "    <tr>\n",
       "      <th>1</th>\n",
       "      <td>54192696</td>\n",
       "      <td>76561198433597055</td>\n",
       "      <td>2</td>\n",
       "      <td>1</td>\n",
       "      <td>7441</td>\n",
       "      <td>4943</td>\n",
       "      <td>1563870098</td>\n",
       "      <td>Please give us more Chinese theme game.I will ...</td>\n",
       "      <td>1563617491</td>\n",
       "      <td>1563617491</td>\n",
       "      <td>True</td>\n",
       "      <td>0.523809552192687988</td>\n",
       "      <td>True</td>\n",
       "      <td>False</td>\n",
       "      <td>False</td>\n",
       "    </tr>\n",
       "  </tbody>\n",
       "</table>\n",
       "</div>"
      ],
      "text/plain": [
       "  recommendationid     author_steamid  author_num_games_owned  \\\n",
       "0         54192944  76561198859964653                      57   \n",
       "1         54192696  76561198433597055                       2   \n",
       "\n",
       "   author_num_reviews  author_playtime_forever  \\\n",
       "0                  24                     1694   \n",
       "1                   1                     7441   \n",
       "\n",
       "   author_playtime_last_two_weeks  author_last_played  \\\n",
       "0                            1694          1563886009   \n",
       "1                            4943          1563870098   \n",
       "\n",
       "                                              review  timestamp_created  \\\n",
       "0  Its a chess within a chess, two layers of comp...         1563618842   \n",
       "1  Please give us more Chinese theme game.I will ...         1563617491   \n",
       "\n",
       "   timestamp_updated  voted_up   weighted_vote_score  steam_purchase  \\\n",
       "0         1563810779      True  0.495412856340408325            True   \n",
       "1         1563617491      True  0.523809552192687988            True   \n",
       "\n",
       "   received_for_free  written_during_early_access  \n",
       "0              False                        False  \n",
       "1              False                        False  "
      ]
     },
     "execution_count": 196,
     "metadata": {},
     "output_type": "execute_result"
    }
   ],
   "source": [
    "df_raw = pd.DataFrame(steam_dict)\n",
    "df_raw.head(2)"
   ]
  },
  {
   "cell_type": "code",
   "execution_count": 197,
   "metadata": {},
   "outputs": [
    {
     "data": {
      "text/plain": [
       "8422"
      ]
     },
     "execution_count": 197,
     "metadata": {},
     "output_type": "execute_result"
    }
   ],
   "source": [
    "len(df_raw['recommendationid'].unique())"
   ]
  },
  {
   "cell_type": "code",
   "execution_count": 198,
   "metadata": {},
   "outputs": [],
   "source": [
    "df_raw = df_raw[df_raw['received_for_free']==False] # Redundant for F2P games, because nobody can buy them"
   ]
  },
  {
   "cell_type": "code",
   "execution_count": 201,
   "metadata": {},
   "outputs": [
    {
     "data": {
      "text/plain": [
       "recommendationid                  object\n",
       "author_steamid                    object\n",
       "author_num_games_owned             int64\n",
       "author_num_reviews                 int64\n",
       "author_playtime_forever            int64\n",
       "author_playtime_last_two_weeks     int64\n",
       "author_last_played                 int64\n",
       "review                            object\n",
       "timestamp_created                  int64\n",
       "timestamp_updated                  int64\n",
       "voted_up                            bool\n",
       "weighted_vote_score               object\n",
       "steam_purchase                      bool\n",
       "received_for_free                   bool\n",
       "written_during_early_access         bool\n",
       "dtype: object"
      ]
     },
     "execution_count": 201,
     "metadata": {},
     "output_type": "execute_result"
    }
   ],
   "source": [
    "df_raw.dtypes"
   ]
  },
  {
   "cell_type": "code",
   "execution_count": 203,
   "metadata": {},
   "outputs": [],
   "source": [
    "df_raw = df_raw[df_raw['timestamp_created']>1562591773]"
   ]
  },
  {
   "cell_type": "code",
   "execution_count": 204,
   "metadata": {},
   "outputs": [
    {
     "data": {
      "text/plain": [
       "206"
      ]
     },
     "execution_count": 204,
     "metadata": {},
     "output_type": "execute_result"
    }
   ],
   "source": [
    "len(df_raw)"
   ]
  },
  {
   "cell_type": "code",
   "execution_count": 205,
   "metadata": {},
   "outputs": [
    {
     "data": {
      "text/html": [
       "<div>\n",
       "<style scoped>\n",
       "    .dataframe tbody tr th:only-of-type {\n",
       "        vertical-align: middle;\n",
       "    }\n",
       "\n",
       "    .dataframe tbody tr th {\n",
       "        vertical-align: top;\n",
       "    }\n",
       "\n",
       "    .dataframe thead th {\n",
       "        text-align: right;\n",
       "    }\n",
       "</style>\n",
       "<table border=\"1\" class=\"dataframe\">\n",
       "  <thead>\n",
       "    <tr style=\"text-align: right;\">\n",
       "      <th></th>\n",
       "      <th>author_num_games_owned</th>\n",
       "      <th>author_num_reviews</th>\n",
       "      <th>author_playtime_forever</th>\n",
       "      <th>author_playtime_last_two_weeks</th>\n",
       "      <th>author_last_played</th>\n",
       "      <th>timestamp_created</th>\n",
       "      <th>timestamp_updated</th>\n",
       "    </tr>\n",
       "  </thead>\n",
       "  <tbody>\n",
       "    <tr>\n",
       "      <th>count</th>\n",
       "      <td>206.000000</td>\n",
       "      <td>206.000000</td>\n",
       "      <td>206.000000</td>\n",
       "      <td>206.000000</td>\n",
       "      <td>2.060000e+02</td>\n",
       "      <td>2.060000e+02</td>\n",
       "      <td>2.060000e+02</td>\n",
       "    </tr>\n",
       "    <tr>\n",
       "      <th>mean</th>\n",
       "      <td>136.820388</td>\n",
       "      <td>12.461165</td>\n",
       "      <td>4731.038835</td>\n",
       "      <td>1242.344660</td>\n",
       "      <td>1.563050e+09</td>\n",
       "      <td>1.563089e+09</td>\n",
       "      <td>1.563102e+09</td>\n",
       "    </tr>\n",
       "    <tr>\n",
       "      <th>std</th>\n",
       "      <td>157.885700</td>\n",
       "      <td>20.120514</td>\n",
       "      <td>4680.173901</td>\n",
       "      <td>1543.339617</td>\n",
       "      <td>1.106116e+06</td>\n",
       "      <td>2.940085e+05</td>\n",
       "      <td>3.000377e+05</td>\n",
       "    </tr>\n",
       "    <tr>\n",
       "      <th>min</th>\n",
       "      <td>1.000000</td>\n",
       "      <td>1.000000</td>\n",
       "      <td>30.000000</td>\n",
       "      <td>0.000000</td>\n",
       "      <td>1.558703e+09</td>\n",
       "      <td>1.562595e+09</td>\n",
       "      <td>1.562595e+09</td>\n",
       "    </tr>\n",
       "    <tr>\n",
       "      <th>25%</th>\n",
       "      <td>36.250000</td>\n",
       "      <td>2.000000</td>\n",
       "      <td>1318.000000</td>\n",
       "      <td>33.500000</td>\n",
       "      <td>1.562953e+09</td>\n",
       "      <td>1.562823e+09</td>\n",
       "      <td>1.562849e+09</td>\n",
       "    </tr>\n",
       "    <tr>\n",
       "      <th>50%</th>\n",
       "      <td>96.000000</td>\n",
       "      <td>5.000000</td>\n",
       "      <td>3315.500000</td>\n",
       "      <td>688.000000</td>\n",
       "      <td>1.563451e+09</td>\n",
       "      <td>1.563075e+09</td>\n",
       "      <td>1.563089e+09</td>\n",
       "    </tr>\n",
       "    <tr>\n",
       "      <th>75%</th>\n",
       "      <td>179.750000</td>\n",
       "      <td>14.000000</td>\n",
       "      <td>6401.000000</td>\n",
       "      <td>1872.000000</td>\n",
       "      <td>1.563786e+09</td>\n",
       "      <td>1.563361e+09</td>\n",
       "      <td>1.563374e+09</td>\n",
       "    </tr>\n",
       "    <tr>\n",
       "      <th>max</th>\n",
       "      <td>1417.000000</td>\n",
       "      <td>142.000000</td>\n",
       "      <td>24184.000000</td>\n",
       "      <td>9085.000000</td>\n",
       "      <td>1.563886e+09</td>\n",
       "      <td>1.563619e+09</td>\n",
       "      <td>1.563811e+09</td>\n",
       "    </tr>\n",
       "  </tbody>\n",
       "</table>\n",
       "</div>"
      ],
      "text/plain": [
       "       author_num_games_owned  author_num_reviews  author_playtime_forever  \\\n",
       "count              206.000000          206.000000               206.000000   \n",
       "mean               136.820388           12.461165              4731.038835   \n",
       "std                157.885700           20.120514              4680.173901   \n",
       "min                  1.000000            1.000000                30.000000   \n",
       "25%                 36.250000            2.000000              1318.000000   \n",
       "50%                 96.000000            5.000000              3315.500000   \n",
       "75%                179.750000           14.000000              6401.000000   \n",
       "max               1417.000000          142.000000             24184.000000   \n",
       "\n",
       "       author_playtime_last_two_weeks  author_last_played  timestamp_created  \\\n",
       "count                      206.000000        2.060000e+02       2.060000e+02   \n",
       "mean                      1242.344660        1.563050e+09       1.563089e+09   \n",
       "std                       1543.339617        1.106116e+06       2.940085e+05   \n",
       "min                          0.000000        1.558703e+09       1.562595e+09   \n",
       "25%                         33.500000        1.562953e+09       1.562823e+09   \n",
       "50%                        688.000000        1.563451e+09       1.563075e+09   \n",
       "75%                       1872.000000        1.563786e+09       1.563361e+09   \n",
       "max                       9085.000000        1.563886e+09       1.563619e+09   \n",
       "\n",
       "       timestamp_updated  \n",
       "count       2.060000e+02  \n",
       "mean        1.563102e+09  \n",
       "std         3.000377e+05  \n",
       "min         1.562595e+09  \n",
       "25%         1.562849e+09  \n",
       "50%         1.563089e+09  \n",
       "75%         1.563374e+09  \n",
       "max         1.563811e+09  "
      ]
     },
     "execution_count": 205,
     "metadata": {},
     "output_type": "execute_result"
    }
   ],
   "source": [
    "df_raw.describe()"
   ]
  },
  {
   "cell_type": "code",
   "execution_count": 206,
   "metadata": {},
   "outputs": [],
   "source": [
    "df_raw['author_playtime_forever']=df_raw['author_playtime_forever']/60\n",
    "df_raw['author_playtime_last_two_weeks']=df_raw['author_playtime_last_two_weeks']/60"
   ]
  },
  {
   "cell_type": "code",
   "execution_count": 207,
   "metadata": {},
   "outputs": [],
   "source": [
    "df_raw_num = df_raw.select_dtypes(exclude=['O','bool'])"
   ]
  },
  {
   "cell_type": "code",
   "execution_count": 208,
   "metadata": {},
   "outputs": [],
   "source": [
    "df_raw_num_high_play = df_raw_num[(df_raw_num['author_playtime_forever']>2) & (df_raw_num['author_playtime_last_two_weeks']>=0.5)]"
   ]
  },
  {
   "cell_type": "code",
   "execution_count": 209,
   "metadata": {},
   "outputs": [
    {
     "data": {
      "text/plain": [
       "150"
      ]
     },
     "execution_count": 209,
     "metadata": {},
     "output_type": "execute_result"
    }
   ],
   "source": [
    "len(df_raw_num_high_play)"
   ]
  },
  {
   "cell_type": "code",
   "execution_count": 210,
   "metadata": {},
   "outputs": [
    {
     "data": {
      "text/html": [
       "<div>\n",
       "<style scoped>\n",
       "    .dataframe tbody tr th:only-of-type {\n",
       "        vertical-align: middle;\n",
       "    }\n",
       "\n",
       "    .dataframe tbody tr th {\n",
       "        vertical-align: top;\n",
       "    }\n",
       "\n",
       "    .dataframe thead th {\n",
       "        text-align: right;\n",
       "    }\n",
       "</style>\n",
       "<table border=\"1\" class=\"dataframe\">\n",
       "  <thead>\n",
       "    <tr style=\"text-align: right;\">\n",
       "      <th></th>\n",
       "      <th>recommendationid</th>\n",
       "      <th>author_steamid</th>\n",
       "      <th>author_num_games_owned</th>\n",
       "      <th>author_num_reviews</th>\n",
       "      <th>author_playtime_forever</th>\n",
       "      <th>author_playtime_last_two_weeks</th>\n",
       "      <th>author_last_played</th>\n",
       "      <th>review</th>\n",
       "      <th>timestamp_created</th>\n",
       "      <th>timestamp_updated</th>\n",
       "      <th>voted_up</th>\n",
       "      <th>weighted_vote_score</th>\n",
       "      <th>steam_purchase</th>\n",
       "      <th>received_for_free</th>\n",
       "      <th>written_during_early_access</th>\n",
       "    </tr>\n",
       "  </thead>\n",
       "  <tbody>\n",
       "    <tr>\n",
       "      <th>0</th>\n",
       "      <td>54192944</td>\n",
       "      <td>76561198859964653</td>\n",
       "      <td>57</td>\n",
       "      <td>24</td>\n",
       "      <td>28.233333</td>\n",
       "      <td>28.233333</td>\n",
       "      <td>1563886009</td>\n",
       "      <td>Its a chess within a chess, two layers of comp...</td>\n",
       "      <td>1563618842</td>\n",
       "      <td>1563810779</td>\n",
       "      <td>True</td>\n",
       "      <td>0.495412856340408325</td>\n",
       "      <td>True</td>\n",
       "      <td>False</td>\n",
       "      <td>False</td>\n",
       "    </tr>\n",
       "    <tr>\n",
       "      <th>1</th>\n",
       "      <td>54192696</td>\n",
       "      <td>76561198433597055</td>\n",
       "      <td>2</td>\n",
       "      <td>1</td>\n",
       "      <td>124.016667</td>\n",
       "      <td>82.383333</td>\n",
       "      <td>1563870098</td>\n",
       "      <td>Please give us more Chinese theme game.I will ...</td>\n",
       "      <td>1563617491</td>\n",
       "      <td>1563617491</td>\n",
       "      <td>True</td>\n",
       "      <td>0.523809552192687988</td>\n",
       "      <td>True</td>\n",
       "      <td>False</td>\n",
       "      <td>False</td>\n",
       "    </tr>\n",
       "  </tbody>\n",
       "</table>\n",
       "</div>"
      ],
      "text/plain": [
       "  recommendationid     author_steamid  author_num_games_owned  \\\n",
       "0         54192944  76561198859964653                      57   \n",
       "1         54192696  76561198433597055                       2   \n",
       "\n",
       "   author_num_reviews  author_playtime_forever  \\\n",
       "0                  24                28.233333   \n",
       "1                   1               124.016667   \n",
       "\n",
       "   author_playtime_last_two_weeks  author_last_played  \\\n",
       "0                       28.233333          1563886009   \n",
       "1                       82.383333          1563870098   \n",
       "\n",
       "                                              review  timestamp_created  \\\n",
       "0  Its a chess within a chess, two layers of comp...         1563618842   \n",
       "1  Please give us more Chinese theme game.I will ...         1563617491   \n",
       "\n",
       "   timestamp_updated  voted_up   weighted_vote_score  steam_purchase  \\\n",
       "0         1563810779      True  0.495412856340408325            True   \n",
       "1         1563617491      True  0.523809552192687988            True   \n",
       "\n",
       "   received_for_free  written_during_early_access  \n",
       "0              False                        False  \n",
       "1              False                        False  "
      ]
     },
     "execution_count": 210,
     "metadata": {},
     "output_type": "execute_result"
    }
   ],
   "source": [
    "df_usable = df_raw[(df_raw['author_playtime_forever']>=3)& (df_raw_num['author_playtime_last_two_weeks']>=(10/60))] #recent opinions are more important, and user must have played longer than refundable playtime cutoff\n",
    "df_usable.head(2)"
   ]
  },
  {
   "cell_type": "code",
   "execution_count": 211,
   "metadata": {},
   "outputs": [
    {
     "name": "stdout",
     "output_type": "stream",
     "text": [
      "153\n",
      "82.359477124183\n"
     ]
    },
    {
     "name": "stderr",
     "output_type": "stream",
     "text": [
      "C:\\Users\\Alfred\\Anaconda3\\lib\\site-packages\\ipykernel_launcher.py:4: SettingWithCopyWarning: \n",
      "A value is trying to be set on a copy of a slice from a DataFrame.\n",
      "Try using .loc[row_indexer,col_indexer] = value instead\n",
      "\n",
      "See the caveats in the documentation: http://pandas.pydata.org/pandas-docs/stable/indexing.html#indexing-view-versus-copy\n",
      "  after removing the cwd from sys.path.\n"
     ]
    }
   ],
   "source": [
    "review_lengths = [len(x.split()) for x in df_usable['review']]\n",
    "print(len(review_lengths)) #no of reviews\n",
    "print(sum(review_lengths)/len(review_lengths)) #mean character length of a review\n",
    "df_usable['review_length']=df_usable['review'].map(lambda x: len(x.split()))"
   ]
  },
  {
   "cell_type": "code",
   "execution_count": 212,
   "metadata": {},
   "outputs": [],
   "source": [
    "df_ready = df_usable[df_usable['review_length']>np.percentile(df_usable['review_length'],25)].reset_index(drop=True) #Remove very short reviews that are likely to be junk"
   ]
  },
  {
   "cell_type": "code",
   "execution_count": 214,
   "metadata": {},
   "outputs": [
    {
     "name": "stdout",
     "output_type": "stream",
     "text": [
      "12\n"
     ]
    },
    {
     "data": {
      "text/html": [
       "<div>\n",
       "<style scoped>\n",
       "    .dataframe tbody tr th:only-of-type {\n",
       "        vertical-align: middle;\n",
       "    }\n",
       "\n",
       "    .dataframe tbody tr th {\n",
       "        vertical-align: top;\n",
       "    }\n",
       "\n",
       "    .dataframe thead th {\n",
       "        text-align: right;\n",
       "    }\n",
       "</style>\n",
       "<table border=\"1\" class=\"dataframe\">\n",
       "  <thead>\n",
       "    <tr style=\"text-align: right;\">\n",
       "      <th></th>\n",
       "      <th>recommendationid</th>\n",
       "      <th>author_steamid</th>\n",
       "      <th>author_num_games_owned</th>\n",
       "      <th>author_num_reviews</th>\n",
       "      <th>author_playtime_forever</th>\n",
       "      <th>author_playtime_last_two_weeks</th>\n",
       "      <th>author_last_played</th>\n",
       "      <th>review</th>\n",
       "      <th>timestamp_created</th>\n",
       "      <th>timestamp_updated</th>\n",
       "      <th>voted_up</th>\n",
       "      <th>weighted_vote_score</th>\n",
       "      <th>steam_purchase</th>\n",
       "      <th>received_for_free</th>\n",
       "      <th>written_during_early_access</th>\n",
       "      <th>review_length</th>\n",
       "    </tr>\n",
       "  </thead>\n",
       "  <tbody>\n",
       "    <tr>\n",
       "      <th>0</th>\n",
       "      <td>54183390</td>\n",
       "      <td>76561197984368747</td>\n",
       "      <td>216</td>\n",
       "      <td>6</td>\n",
       "      <td>69.933333</td>\n",
       "      <td>0.300000</td>\n",
       "      <td>1563395139</td>\n",
       "      <td>Awesome. Great game! \\n\\nDo wish they gave you...</td>\n",
       "      <td>1563562610</td>\n",
       "      <td>1563562610</td>\n",
       "      <td>True</td>\n",
       "      <td>0</td>\n",
       "      <td>False</td>\n",
       "      <td>False</td>\n",
       "      <td>False</td>\n",
       "      <td>80</td>\n",
       "    </tr>\n",
       "    <tr>\n",
       "      <th>1</th>\n",
       "      <td>54183023</td>\n",
       "      <td>76561198451245786</td>\n",
       "      <td>155</td>\n",
       "      <td>4</td>\n",
       "      <td>58.450000</td>\n",
       "      <td>2.566667</td>\n",
       "      <td>1563617150</td>\n",
       "      <td>became emperor of china then everyone betrayed...</td>\n",
       "      <td>1563560850</td>\n",
       "      <td>1563560850</td>\n",
       "      <td>True</td>\n",
       "      <td>0</td>\n",
       "      <td>False</td>\n",
       "      <td>False</td>\n",
       "      <td>False</td>\n",
       "      <td>14</td>\n",
       "    </tr>\n",
       "  </tbody>\n",
       "</table>\n",
       "</div>"
      ],
      "text/plain": [
       "  recommendationid     author_steamid  author_num_games_owned  \\\n",
       "0         54183390  76561197984368747                     216   \n",
       "1         54183023  76561198451245786                     155   \n",
       "\n",
       "   author_num_reviews  author_playtime_forever  \\\n",
       "0                   6                69.933333   \n",
       "1                   4                58.450000   \n",
       "\n",
       "   author_playtime_last_two_weeks  author_last_played  \\\n",
       "0                        0.300000          1563395139   \n",
       "1                        2.566667          1563617150   \n",
       "\n",
       "                                              review  timestamp_created  \\\n",
       "0  Awesome. Great game! \\n\\nDo wish they gave you...         1563562610   \n",
       "1  became emperor of china then everyone betrayed...         1563560850   \n",
       "\n",
       "   timestamp_updated  voted_up weighted_vote_score  steam_purchase  \\\n",
       "0         1563562610      True                   0           False   \n",
       "1         1563560850      True                   0           False   \n",
       "\n",
       "   received_for_free  written_during_early_access  review_length  \n",
       "0              False                        False             80  \n",
       "1              False                        False             14  "
      ]
     },
     "execution_count": 214,
     "metadata": {},
     "output_type": "execute_result"
    }
   ],
   "source": [
    "print(min(df_ready['review_length'])) #shortest review length, in words. space-delimited\n",
    "df_ready.head(2)"
   ]
  },
  {
   "cell_type": "code",
   "execution_count": 216,
   "metadata": {},
   "outputs": [],
   "source": [
    "#drop duplicate entries in reviews, because they are considered spam\n",
    "df_cleaning = df_ready.drop_duplicates(subset='review')"
   ]
  },
  {
   "cell_type": "code",
   "execution_count": 217,
   "metadata": {},
   "outputs": [
    {
     "data": {
      "text/html": [
       "<div>\n",
       "<style scoped>\n",
       "    .dataframe tbody tr th:only-of-type {\n",
       "        vertical-align: middle;\n",
       "    }\n",
       "\n",
       "    .dataframe tbody tr th {\n",
       "        vertical-align: top;\n",
       "    }\n",
       "\n",
       "    .dataframe thead th {\n",
       "        text-align: right;\n",
       "    }\n",
       "</style>\n",
       "<table border=\"1\" class=\"dataframe\">\n",
       "  <thead>\n",
       "    <tr style=\"text-align: right;\">\n",
       "      <th></th>\n",
       "      <th>recommendationid</th>\n",
       "      <th>author_steamid</th>\n",
       "      <th>review</th>\n",
       "      <th>weighted_vote_score</th>\n",
       "    </tr>\n",
       "  </thead>\n",
       "  <tbody>\n",
       "    <tr>\n",
       "      <th>count</th>\n",
       "      <td>111</td>\n",
       "      <td>111</td>\n",
       "      <td>111</td>\n",
       "      <td>111</td>\n",
       "    </tr>\n",
       "    <tr>\n",
       "      <th>unique</th>\n",
       "      <td>111</td>\n",
       "      <td>111</td>\n",
       "      <td>111</td>\n",
       "      <td>49</td>\n",
       "    </tr>\n",
       "    <tr>\n",
       "      <th>top</th>\n",
       "      <td>54032935</td>\n",
       "      <td>76561198007691650</td>\n",
       "      <td>I'm usually not a fan of total war but this ga...</td>\n",
       "      <td>0</td>\n",
       "    </tr>\n",
       "    <tr>\n",
       "      <th>freq</th>\n",
       "      <td>1</td>\n",
       "      <td>1</td>\n",
       "      <td>1</td>\n",
       "      <td>53</td>\n",
       "    </tr>\n",
       "  </tbody>\n",
       "</table>\n",
       "</div>"
      ],
      "text/plain": [
       "       recommendationid     author_steamid  \\\n",
       "count               111                111   \n",
       "unique              111                111   \n",
       "top            54032935  76561198007691650   \n",
       "freq                  1                  1   \n",
       "\n",
       "                                                   review  weighted_vote_score  \n",
       "count                                                 111                  111  \n",
       "unique                                                111                   49  \n",
       "top     I'm usually not a fan of total war but this ga...                    0  \n",
       "freq                                                    1                   53  "
      ]
     },
     "execution_count": 217,
     "metadata": {},
     "output_type": "execute_result"
    }
   ],
   "source": [
    "df_cleaning.select_dtypes(include='O').describe()"
   ]
  },
  {
   "cell_type": "code",
   "execution_count": 218,
   "metadata": {},
   "outputs": [
    {
     "name": "stdout",
     "output_type": "stream",
     "text": [
      "0\n",
      "0.0\n"
     ]
    }
   ],
   "source": [
    "deduplicated_rows = abs(len(df_cleaning) - len(df_ready)) #find out how many rows were removed during deduplication\n",
    "print(deduplicated_rows)\n",
    "print(deduplicated_rows/len(df_ready)) #Percentage of data that was duplicated"
   ]
  },
  {
   "cell_type": "code",
   "execution_count": 221,
   "metadata": {},
   "outputs": [],
   "source": [
    "#get languages by document\n",
    "nlp = spacy.load(\"en_core_web_sm\")\n",
    "nlp.add_pipe(LanguageDetector(), name=\"language_detector\", last=True)\n",
    "    \n",
    "def get_lang_doc(text):\n",
    "    doc = nlp(text)\n",
    "    return doc._.language['language']\n",
    "\n",
    "#count languages for sentences in document -- decided not to use this because 1. it slows computation a lot 2. it throws a lot of false positives, especially when splitting short lines\n",
    "def get_langs_sent(text):\n",
    "    langs={}\n",
    "    lang_st={}\n",
    "    doc = nlp(text)\n",
    "    \n",
    "    for i, sent in enumerate(doc.sents):\n",
    "        langs[i]=sent._.language['language'] #Iterating through sentence level, thus only need to add language. Probability scores should be quite high per sentence.\n",
    "    \n",
    "    lang_st = list(set(langs.values())) #Get language code of each language that appeared. As long as more than 1 language appears, the review will be excluded.\n",
    "    \n",
    "    return lang_st"
   ]
  },
  {
   "cell_type": "code",
   "execution_count": 222,
   "metadata": {},
   "outputs": [],
   "source": [
    "#No repeated reviews.\n",
    "\n",
    "doc_langs = [get_lang_doc(x) for x in df_cleaning['review']] #WARNING: SLOW! May take a couple of minutes to finish.\n",
    "df_cleaning['review_lang']=doc_langs"
   ]
  },
  {
   "cell_type": "code",
   "execution_count": 223,
   "metadata": {},
   "outputs": [],
   "source": [
    "df_cleaning.to_csv('./dataframes/vldtn_test_cleaning.csv') #saving so I don't have to run the cleaning operation again"
   ]
  },
  {
   "cell_type": "code",
   "execution_count": 224,
   "metadata": {},
   "outputs": [],
   "source": [
    "df_cleaning = pd.read_csv('./dataframes/vldtn_test_cleaning.csv',index_col=0)"
   ]
  },
  {
   "cell_type": "code",
   "execution_count": 225,
   "metadata": {},
   "outputs": [
    {
     "data": {
      "text/plain": [
       "111"
      ]
     },
     "execution_count": 225,
     "metadata": {},
     "output_type": "execute_result"
    }
   ],
   "source": [
    "df_langs_cleaned = df_cleaning[df_cleaning['review_lang']=='en'].reset_index(drop=True)\n",
    "len(df_langs_cleaned)"
   ]
  },
  {
   "cell_type": "code",
   "execution_count": 226,
   "metadata": {},
   "outputs": [
    {
     "name": "stdout",
     "output_type": "stream",
     "text": [
      "0.0\n"
     ]
    }
   ],
   "source": [
    "mult_ln_reviews_dropped = (len(df_cleaning) - len(df_langs_cleaned))/len(df_cleaning)\n",
    "print(mult_ln_reviews_dropped)"
   ]
  },
  {
   "cell_type": "code",
   "execution_count": 229,
   "metadata": {},
   "outputs": [],
   "source": [
    "parser = bbcode.Parser()\n",
    "\n",
    "def parse(review):\n",
    "    parsed_text = parser.strip(review)\n",
    "    return parsed_text\n",
    "\n",
    "#open pre-defined dictionary of english contractions, saved separately to avoid clutter (long dictionary, can be loaded as dict using json package)\n",
    "with open('./en_contractions/contra_dict.txt') as contra_dict:\n",
    "    cList = json.load(contra_dict)\n",
    "\n",
    "c_re = re.compile('(%s)' % '|'.join(cList.keys()))\n",
    "\n",
    "def expandContractions(text, c_re=c_re):\n",
    "    def replace(match):\n",
    "        return cList[match.group(0)]\n",
    "    return c_re.sub(replace, text.lower())"
   ]
  },
  {
   "cell_type": "code",
   "execution_count": 230,
   "metadata": {},
   "outputs": [],
   "source": [
    "def parse_sent_tokenize(review):\n",
    "    \n",
    "    sent_tokens = [] #store sentence tokens here\n",
    "    \n",
    "    text = parse(review)  #remove BBcode first\n",
    "    \n",
    "    text = expandContractions(text)\n",
    "    \n",
    "    #All word lengths should be >1 character and <= length of the longest word in the English language. It's common for people spam incoherent letters on the Internet. Do not remove stopwords yet.\n",
    "    text = [word for word in text.split() if len(word)>1 and len(word) <= len('pneumonoultramicroscopicsilicovolcanoconiosis')] \n",
    "   \n",
    "    parsed_text = ' '.join(word for word in text)\n",
    "    \n",
    "    doc = nlp(parsed_text)\n",
    "    for i,sent in enumerate(doc.sents):\n",
    "        sent_tokens.append(sent.text)\n",
    "    \n",
    "    return sent_tokens\n",
    "\n",
    "#remove punctuation\n",
    "def remove_punc(sents):\n",
    "    clean_text = [s.translate(str.maketrans('', '', string.punctuation)) \n",
    "                  for s in sents]\n",
    "    return clean_text"
   ]
  },
  {
   "cell_type": "code",
   "execution_count": 232,
   "metadata": {},
   "outputs": [
    {
     "data": {
      "text/html": [
       "<div>\n",
       "<style scoped>\n",
       "    .dataframe tbody tr th:only-of-type {\n",
       "        vertical-align: middle;\n",
       "    }\n",
       "\n",
       "    .dataframe tbody tr th {\n",
       "        vertical-align: top;\n",
       "    }\n",
       "\n",
       "    .dataframe thead th {\n",
       "        text-align: right;\n",
       "    }\n",
       "</style>\n",
       "<table border=\"1\" class=\"dataframe\">\n",
       "  <thead>\n",
       "    <tr style=\"text-align: right;\">\n",
       "      <th></th>\n",
       "      <th>recommendationid</th>\n",
       "      <th>author_steamid</th>\n",
       "      <th>author_num_games_owned</th>\n",
       "      <th>author_num_reviews</th>\n",
       "      <th>author_playtime_forever</th>\n",
       "      <th>author_playtime_last_two_weeks</th>\n",
       "      <th>author_last_played</th>\n",
       "      <th>review</th>\n",
       "      <th>timestamp_created</th>\n",
       "      <th>timestamp_updated</th>\n",
       "      <th>voted_up</th>\n",
       "      <th>weighted_vote_score</th>\n",
       "      <th>steam_purchase</th>\n",
       "      <th>received_for_free</th>\n",
       "      <th>written_during_early_access</th>\n",
       "      <th>review_length</th>\n",
       "      <th>review_lang</th>\n",
       "    </tr>\n",
       "  </thead>\n",
       "  <tbody>\n",
       "    <tr>\n",
       "      <th>0</th>\n",
       "      <td>54183390</td>\n",
       "      <td>76561197984368747</td>\n",
       "      <td>216</td>\n",
       "      <td>6</td>\n",
       "      <td>69.933333</td>\n",
       "      <td>0.300000</td>\n",
       "      <td>1563395139</td>\n",
       "      <td>Awesome. Great game! \\n\\nDo wish they gave you...</td>\n",
       "      <td>1563562610</td>\n",
       "      <td>1563562610</td>\n",
       "      <td>True</td>\n",
       "      <td>0.0</td>\n",
       "      <td>False</td>\n",
       "      <td>False</td>\n",
       "      <td>False</td>\n",
       "      <td>80</td>\n",
       "      <td>en</td>\n",
       "    </tr>\n",
       "    <tr>\n",
       "      <th>1</th>\n",
       "      <td>54183023</td>\n",
       "      <td>76561198451245786</td>\n",
       "      <td>155</td>\n",
       "      <td>4</td>\n",
       "      <td>58.450000</td>\n",
       "      <td>2.566667</td>\n",
       "      <td>1563617150</td>\n",
       "      <td>became emperor of china then everyone betrayed...</td>\n",
       "      <td>1563560850</td>\n",
       "      <td>1563560850</td>\n",
       "      <td>True</td>\n",
       "      <td>0.0</td>\n",
       "      <td>False</td>\n",
       "      <td>False</td>\n",
       "      <td>False</td>\n",
       "      <td>14</td>\n",
       "      <td>en</td>\n",
       "    </tr>\n",
       "  </tbody>\n",
       "</table>\n",
       "</div>"
      ],
      "text/plain": [
       "   recommendationid     author_steamid  author_num_games_owned  \\\n",
       "0          54183390  76561197984368747                     216   \n",
       "1          54183023  76561198451245786                     155   \n",
       "\n",
       "   author_num_reviews  author_playtime_forever  \\\n",
       "0                   6                69.933333   \n",
       "1                   4                58.450000   \n",
       "\n",
       "   author_playtime_last_two_weeks  author_last_played  \\\n",
       "0                        0.300000          1563395139   \n",
       "1                        2.566667          1563617150   \n",
       "\n",
       "                                              review  timestamp_created  \\\n",
       "0  Awesome. Great game! \\n\\nDo wish they gave you...         1563562610   \n",
       "1  became emperor of china then everyone betrayed...         1563560850   \n",
       "\n",
       "   timestamp_updated  voted_up  weighted_vote_score  steam_purchase  \\\n",
       "0         1563562610      True                  0.0           False   \n",
       "1         1563560850      True                  0.0           False   \n",
       "\n",
       "   received_for_free  written_during_early_access  review_length review_lang  \n",
       "0              False                        False             80          en  \n",
       "1              False                        False             14          en  "
      ]
     },
     "execution_count": 232,
     "metadata": {},
     "output_type": "execute_result"
    }
   ],
   "source": [
    "df_langs_cleaned.head(2)"
   ]
  },
  {
   "cell_type": "code",
   "execution_count": 554,
   "metadata": {},
   "outputs": [
    {
     "data": {
      "text/html": [
       "<div>\n",
       "<style scoped>\n",
       "    .dataframe tbody tr th:only-of-type {\n",
       "        vertical-align: middle;\n",
       "    }\n",
       "\n",
       "    .dataframe tbody tr th {\n",
       "        vertical-align: top;\n",
       "    }\n",
       "\n",
       "    .dataframe thead th {\n",
       "        text-align: right;\n",
       "    }\n",
       "</style>\n",
       "<table border=\"1\" class=\"dataframe\">\n",
       "  <thead>\n",
       "    <tr style=\"text-align: right;\">\n",
       "      <th></th>\n",
       "      <th>original_sent</th>\n",
       "      <th>test_set_review_number</th>\n",
       "      <th>token_sentences</th>\n",
       "    </tr>\n",
       "  </thead>\n",
       "  <tbody>\n",
       "    <tr>\n",
       "      <th>0</th>\n",
       "      <td>awesome</td>\n",
       "      <td>1</td>\n",
       "      <td>[awesome]</td>\n",
       "    </tr>\n",
       "    <tr>\n",
       "      <th>1</th>\n",
       "      <td>great game do wish they gave you more factions...</td>\n",
       "      <td>1</td>\n",
       "      <td>[great, game, do, wish, they, gave, you, more,...</td>\n",
       "    </tr>\n",
       "  </tbody>\n",
       "</table>\n",
       "</div>"
      ],
      "text/plain": [
       "                                       original_sent test_set_review_number  \\\n",
       "0                                            awesome                      1   \n",
       "1  great game do wish they gave you more factions...                      1   \n",
       "\n",
       "                                     token_sentences  \n",
       "0                                          [awesome]  \n",
       "1  [great, game, do, wish, they, gave, you, more,...  "
      ]
     },
     "execution_count": 554,
     "metadata": {},
     "output_type": "execute_result"
    }
   ],
   "source": [
    "big_sent_lst =[] #For storing ALL sentences in the dataset. Doesn't matter which reviews they came from\n",
    "\n",
    "review_index_lst = [] #for storing all index numbers for each sentence so we can identify which reviews they belong to and thus group scores by topics and reviews\n",
    "\n",
    "sent_df = pd.DataFrame() #For visualisation of sentence transformations and saving of data\n",
    "\n",
    "review_count = 0\n",
    "for review in df_langs_cleaned['review']:\n",
    "    sent_tokens = parse_sent_tokenize(review)\n",
    "    sent_tokens = remove_punc(sent_tokens)\n",
    "    big_sent_lst.extend(sent_tokens)\n",
    "    \n",
    "    review_count+=1\n",
    "    review_num_lst = [str(review_count)] * len(sent_tokens) #for each review, create list of corresponding review index numbers that is as long as the number of sentences for easier groupby\n",
    "    review_index_lst.extend(review_num_lst)\n",
    "\n",
    "sent_df['original_sent'] = [x for x in big_sent_lst]\n",
    "sent_df['test_set_review_number'] = review_index_lst\n",
    "sent_df['token_sentences'] = [x.split() for x in big_sent_lst]\n",
    "\n",
    "sent_df.head(2)"
   ]
  },
  {
   "cell_type": "code",
   "execution_count": 555,
   "metadata": {},
   "outputs": [],
   "source": [
    "#load dataset for training ngram phraser\n",
    "\n",
    "final_data = pd.read_csv('./dataframes/dominant_topics.csv',index_col=0)"
   ]
  },
  {
   "cell_type": "code",
   "execution_count": 556,
   "metadata": {},
   "outputs": [
    {
     "data": {
      "text/html": [
       "<div>\n",
       "<style scoped>\n",
       "    .dataframe tbody tr th:only-of-type {\n",
       "        vertical-align: middle;\n",
       "    }\n",
       "\n",
       "    .dataframe tbody tr th {\n",
       "        vertical-align: top;\n",
       "    }\n",
       "\n",
       "    .dataframe thead th {\n",
       "        text-align: right;\n",
       "    }\n",
       "</style>\n",
       "<table border=\"1\" class=\"dataframe\">\n",
       "  <thead>\n",
       "    <tr style=\"text-align: right;\">\n",
       "      <th></th>\n",
       "      <th>dominant_topic</th>\n",
       "      <th>original_text</th>\n",
       "      <th>topic_perc_contrib</th>\n",
       "      <th>tokens</th>\n",
       "      <th>num_tokens</th>\n",
       "      <th>unique_tokens</th>\n",
       "      <th>num_unique_tokens</th>\n",
       "      <th>keywords</th>\n",
       "    </tr>\n",
       "  </thead>\n",
       "  <tbody>\n",
       "    <tr>\n",
       "      <th>0</th>\n",
       "      <td>Tactical Gameplay</td>\n",
       "      <td>Well for me game still tons of work. i like it...</td>\n",
       "      <td>0.4715</td>\n",
       "      <td>['ton', 'diplomacy', 'joke', 'military_access'...</td>\n",
       "      <td>85</td>\n",
       "      <td>['guess', 'artillery', 'chain', 'siege', 'sent...</td>\n",
       "      <td>57</td>\n",
       "      <td>unit, battle, faction, army, general, characte...</td>\n",
       "    </tr>\n",
       "    <tr>\n",
       "      <th>1</th>\n",
       "      <td>Characters</td>\n",
       "      <td>I pursued Lu Bu. Now I [b]AM[/b] LU BU.</td>\n",
       "      <td>0.7433</td>\n",
       "      <td>['lu_bu', 'lu_bu']</td>\n",
       "      <td>2</td>\n",
       "      <td>['lu_bu']</td>\n",
       "      <td>1</td>\n",
       "      <td>china, war, cao_cao, lu_bu, liu_bei, yuan_shao...</td>\n",
       "    </tr>\n",
       "    <tr>\n",
       "      <th>2</th>\n",
       "      <td>Series Authenticity</td>\n",
       "      <td>Absolutely great game. \\nAll the new diplomacy...</td>\n",
       "      <td>0.9391</td>\n",
       "      <td>['diplomacy_options', 'depth', 'unit_variety',...</td>\n",
       "      <td>10</td>\n",
       "      <td>['warhammer', 'depth', 'combat', 'rt', 'diplom...</td>\n",
       "      <td>9</td>\n",
       "      <td>three_kingdoms, series, fan, diplomacy, battle...</td>\n",
       "    </tr>\n",
       "    <tr>\n",
       "      <th>3</th>\n",
       "      <td>Series Authenticity</td>\n",
       "      <td>A fine blend of Warhammer I/II: Total War and ...</td>\n",
       "      <td>0.6487</td>\n",
       "      <td>['blend', 'warhammer_three', 'shogun_two', 'lo...</td>\n",
       "      <td>20</td>\n",
       "      <td>['blend', 'warhammer_three', 'character', 'bat...</td>\n",
       "      <td>20</td>\n",
       "      <td>three_kingdoms, series, fan, diplomacy, battle...</td>\n",
       "    </tr>\n",
       "    <tr>\n",
       "      <th>4</th>\n",
       "      <td>Series Authenticity</td>\n",
       "      <td>Innovative Total Game that has lots of persona...</td>\n",
       "      <td>0.7290</td>\n",
       "      <td>['personality', 'diplomacy', 'idea', 'combat',...</td>\n",
       "      <td>11</td>\n",
       "      <td>['art_style', 'paid_dlc', 'combat', 'content',...</td>\n",
       "      <td>10</td>\n",
       "      <td>three_kingdoms, series, fan, diplomacy, battle...</td>\n",
       "    </tr>\n",
       "  </tbody>\n",
       "</table>\n",
       "</div>"
      ],
      "text/plain": [
       "        dominant_topic                                      original_text  \\\n",
       "0    Tactical Gameplay  Well for me game still tons of work. i like it...   \n",
       "1           Characters            I pursued Lu Bu. Now I [b]AM[/b] LU BU.   \n",
       "2  Series Authenticity  Absolutely great game. \\nAll the new diplomacy...   \n",
       "3  Series Authenticity  A fine blend of Warhammer I/II: Total War and ...   \n",
       "4  Series Authenticity  Innovative Total Game that has lots of persona...   \n",
       "\n",
       "   topic_perc_contrib                                             tokens  \\\n",
       "0              0.4715  ['ton', 'diplomacy', 'joke', 'military_access'...   \n",
       "1              0.7433                                 ['lu_bu', 'lu_bu']   \n",
       "2              0.9391  ['diplomacy_options', 'depth', 'unit_variety',...   \n",
       "3              0.6487  ['blend', 'warhammer_three', 'shogun_two', 'lo...   \n",
       "4              0.7290  ['personality', 'diplomacy', 'idea', 'combat',...   \n",
       "\n",
       "   num_tokens                                      unique_tokens  \\\n",
       "0          85  ['guess', 'artillery', 'chain', 'siege', 'sent...   \n",
       "1           2                                          ['lu_bu']   \n",
       "2          10  ['warhammer', 'depth', 'combat', 'rt', 'diplom...   \n",
       "3          20  ['blend', 'warhammer_three', 'character', 'bat...   \n",
       "4          11  ['art_style', 'paid_dlc', 'combat', 'content',...   \n",
       "\n",
       "   num_unique_tokens                                           keywords  \n",
       "0                 57  unit, battle, faction, army, general, characte...  \n",
       "1                  1  china, war, cao_cao, lu_bu, liu_bei, yuan_shao...  \n",
       "2                  9  three_kingdoms, series, fan, diplomacy, battle...  \n",
       "3                 20  three_kingdoms, series, fan, diplomacy, battle...  \n",
       "4                 10  three_kingdoms, series, fan, diplomacy, battle...  "
      ]
     },
     "execution_count": 556,
     "metadata": {},
     "output_type": "execute_result"
    }
   ],
   "source": [
    "final_data.head()"
   ]
  },
  {
   "cell_type": "code",
   "execution_count": 557,
   "metadata": {},
   "outputs": [],
   "source": [
    "#initialise BBcode parser and spacy NLP for parsing and tokenising sentences\n",
    "\n",
    "nlp = spacy.load(\"en_core_web_sm\")\n",
    "parser = bbcode.Parser()\n",
    "\n",
    "def parse(review):\n",
    "    parsed_text = parser.strip(review)\n",
    "    return parsed_text\n",
    "\n",
    "#open pre-defined dictionary of english contractions, saved separately to avoid clutter (long dictionary, can be loaded as dict using json package)\n",
    "with open('./en_contractions/contra_dict.txt') as contra_dict:\n",
    "    cList = json.load(contra_dict)\n",
    "\n",
    "c_re = re.compile('(%s)' % '|'.join(cList.keys()))\n",
    "\n",
    "def expandContractions(text, c_re=c_re):\n",
    "    def replace(match):\n",
    "        return cList[match.group(0)]\n",
    "    return c_re.sub(replace, text.lower())"
   ]
  },
  {
   "cell_type": "code",
   "execution_count": 558,
   "metadata": {},
   "outputs": [],
   "source": [
    "big_sent_lst2 =[] #For storing ALL sentences in the dataset. Doesn't matter which reviews they came from\n",
    "train_sent_df = pd.DataFrame() #For visualisation of sentence transformations and saving of data\n",
    "\n",
    "for review in final_data['original_text']:\n",
    "    sent_tokens = parse_sent_tokenize(review)\n",
    "    sent_tokens = remove_punc(sent_tokens)\n",
    "    big_sent_lst2.extend(sent_tokens)"
   ]
  },
  {
   "cell_type": "code",
   "execution_count": 559,
   "metadata": {},
   "outputs": [
    {
     "data": {
      "text/html": [
       "<div>\n",
       "<style scoped>\n",
       "    .dataframe tbody tr th:only-of-type {\n",
       "        vertical-align: middle;\n",
       "    }\n",
       "\n",
       "    .dataframe tbody tr th {\n",
       "        vertical-align: top;\n",
       "    }\n",
       "\n",
       "    .dataframe thead th {\n",
       "        text-align: right;\n",
       "    }\n",
       "</style>\n",
       "<table border=\"1\" class=\"dataframe\">\n",
       "  <thead>\n",
       "    <tr style=\"text-align: right;\">\n",
       "      <th></th>\n",
       "      <th>original_text</th>\n",
       "      <th>token_sentences</th>\n",
       "    </tr>\n",
       "  </thead>\n",
       "  <tbody>\n",
       "    <tr>\n",
       "      <th>0</th>\n",
       "      <td>well for me game still tons of work</td>\n",
       "      <td>[well, for, me, game, still, tons, of, work]</td>\n",
       "    </tr>\n",
       "    <tr>\n",
       "      <th>1</th>\n",
       "      <td>like it but just cant recommend</td>\n",
       "      <td>[like, it, but, just, cant, recommend]</td>\n",
       "    </tr>\n",
       "    <tr>\n",
       "      <th>2</th>\n",
       "      <td>1</td>\n",
       "      <td>[1]</td>\n",
       "    </tr>\n",
       "    <tr>\n",
       "      <th>3</th>\n",
       "      <td>diplomacy</td>\n",
       "      <td>[diplomacy]</td>\n",
       "    </tr>\n",
       "    <tr>\n",
       "      <th>4</th>\n",
       "      <td>it is joke</td>\n",
       "      <td>[it, is, joke]</td>\n",
       "    </tr>\n",
       "  </tbody>\n",
       "</table>\n",
       "</div>"
      ],
      "text/plain": [
       "                         original_text  \\\n",
       "0  well for me game still tons of work   \n",
       "1      like it but just cant recommend   \n",
       "2                                    1   \n",
       "3                            diplomacy   \n",
       "4                           it is joke   \n",
       "\n",
       "                                token_sentences  \n",
       "0  [well, for, me, game, still, tons, of, work]  \n",
       "1        [like, it, but, just, cant, recommend]  \n",
       "2                                           [1]  \n",
       "3                                   [diplomacy]  \n",
       "4                                [it, is, joke]  "
      ]
     },
     "execution_count": 559,
     "metadata": {},
     "output_type": "execute_result"
    }
   ],
   "source": [
    "train_sent_df['original_text'] = [x for x in big_sent_lst2]\n",
    "train_sent_df['token_sentences'] = [x.split() for x in big_sent_lst2]\n",
    "train_sent_df.head()"
   ]
  },
  {
   "cell_type": "code",
   "execution_count": 560,
   "metadata": {},
   "outputs": [],
   "source": [
    "def num2word(d):\n",
    "    \n",
    "    if (len(d) == 1 and d in '0123')  or (d in ['ii','iii']):\n",
    "        word = num_dict[d]\n",
    "    \n",
    "    elif (len(str(d))==1 and str(d) in '0123'):\n",
    "        word = num_dict(str(d))\n",
    "    \n",
    "    else:\n",
    "        word = d\n",
    "    \n",
    "    return word\n",
    "\n",
    "en_stopwords = list(set(STOPWORDS))\n",
    "en_stopwords.extend(['good','better','great','lot','game','like','I','i'])\n",
    "en_stopwords = [w for w in en_stopwords if w not in ['one','two','three']]\n",
    "\n",
    "def remove_stopwords(doc):\n",
    "    words = [num2word(w) for w in doc if w != '' and w not in en_stopwords]\n",
    "    return words\n",
    "\n",
    "train_sent_df['sents_unstopped'] = train_sent_df['token_sentences'].map(lambda x: remove_stopwords(x))\n",
    "\n",
    "bigram = gensim.models.Phrases(list(train_sent_df['sents_unstopped']), min_count=5, threshold=10) # feed a list of lists of words e.g. [['word1','word2'],['word3','word4'] to get bigrams]\n",
    "trigram = gensim.models.Phrases(bigram[list(train_sent_df['sents_unstopped'])], threshold=10)  \n",
    "\n",
    "# Faster way to get a sentence clubbed as a trigram/bigram\n",
    "bigram_mod = gensim.models.phrases.Phraser(bigram)\n",
    "trigram_mod = gensim.models.phrases.Phraser(trigram)\n",
    "\n",
    "def make_bigrams(texts):\n",
    "    return [bigram_mod[doc] for doc in texts]\n",
    "\n",
    "def make_trigrams(texts):\n",
    "    return [trigram_mod[bigram_mod[doc]] for doc in texts]\n",
    "\n",
    "#at this point we will make n-grams, then lemmatise using spacy since it can go by permitted postags\n",
    "\n",
    "def spacy_lemma(bow,allowed_postags=['NOUN']):\n",
    "    \n",
    "    lemma_doc = nlp(\" \".join(bow)) \n",
    "\n",
    "    lemma_text = [token.text if '_' in token.text else token.lemma_ if token.pos_ in allowed_postags else '' for token in lemma_doc]\n",
    "    \n",
    "    return lemma_text"
   ]
  },
  {
   "cell_type": "code",
   "execution_count": 561,
   "metadata": {},
   "outputs": [
    {
     "data": {
      "text/html": [
       "<div>\n",
       "<style scoped>\n",
       "    .dataframe tbody tr th:only-of-type {\n",
       "        vertical-align: middle;\n",
       "    }\n",
       "\n",
       "    .dataframe tbody tr th {\n",
       "        vertical-align: top;\n",
       "    }\n",
       "\n",
       "    .dataframe thead th {\n",
       "        text-align: right;\n",
       "    }\n",
       "</style>\n",
       "<table border=\"1\" class=\"dataframe\">\n",
       "  <thead>\n",
       "    <tr style=\"text-align: right;\">\n",
       "      <th></th>\n",
       "      <th>original_sent</th>\n",
       "      <th>test_set_review_number</th>\n",
       "      <th>token_sentences</th>\n",
       "      <th>sents_unstopped</th>\n",
       "      <th>3gram_sentences</th>\n",
       "      <th>3gram_sentences_lemma</th>\n",
       "      <th>3gram_sentences_clean</th>\n",
       "    </tr>\n",
       "  </thead>\n",
       "  <tbody>\n",
       "    <tr>\n",
       "      <th>0</th>\n",
       "      <td>awesome</td>\n",
       "      <td>1</td>\n",
       "      <td>[awesome]</td>\n",
       "      <td>[awesome]</td>\n",
       "      <td>[awesome]</td>\n",
       "      <td>[]</td>\n",
       "      <td>[]</td>\n",
       "    </tr>\n",
       "    <tr>\n",
       "      <th>1</th>\n",
       "      <td>great game do wish they gave you more factions...</td>\n",
       "      <td>1</td>\n",
       "      <td>[great, game, do, wish, they, gave, you, more,...</td>\n",
       "      <td>[wish, gave, factions, starting, map, options]</td>\n",
       "      <td>[wish, gave, factions, starting, map, options]</td>\n",
       "      <td>[wish, , faction, , map, option]</td>\n",
       "      <td>[wish, faction, map, option]</td>\n",
       "    </tr>\n",
       "    <tr>\n",
       "      <th>2</th>\n",
       "      <td>the whole bottom of the map is empty which mea...</td>\n",
       "      <td>1</td>\n",
       "      <td>[the, whole, bottom, of, the, map, is, empty, ...</td>\n",
       "      <td>[map, means, wu, takes, free, territory]</td>\n",
       "      <td>[map, means, wu, takes, free, territory]</td>\n",
       "      <td>[map, , , , , territory]</td>\n",
       "      <td>[map, territory]</td>\n",
       "    </tr>\n",
       "    <tr>\n",
       "      <th>3</th>\n",
       "      <td>really enjoy how romance of the three kingdoms...</td>\n",
       "      <td>1</td>\n",
       "      <td>[really, enjoy, how, romance, of, the, three, ...</td>\n",
       "      <td>[enjoy, romance, three, kingdoms, lets, play, ...</td>\n",
       "      <td>[enjoy, romance_three_kingdoms, lets, play, wa...</td>\n",
       "      <td>[, romance_three_kingdoms, let, , , , , starti...</td>\n",
       "      <td>[romance_three_kingdoms, let, starting, map, o...</td>\n",
       "    </tr>\n",
       "    <tr>\n",
       "      <th>4</th>\n",
       "      <td>those are minor complaints to great and amazin...</td>\n",
       "      <td>1</td>\n",
       "      <td>[those, are, minor, complaints, to, great, and...</td>\n",
       "      <td>[minor, complaints, amazing]</td>\n",
       "      <td>[minor, complaints, amazing]</td>\n",
       "      <td>[, complaint, ]</td>\n",
       "      <td>[complaint]</td>\n",
       "    </tr>\n",
       "    <tr>\n",
       "      <th>5</th>\n",
       "      <td>my favorite total war series to date and have ...</td>\n",
       "      <td>1</td>\n",
       "      <td>[my, favorite, total, war, series, to, date, a...</td>\n",
       "      <td>[favorite, total, war, series, date, pretty, p...</td>\n",
       "      <td>[favorite_total_war, series, date, pretty, pla...</td>\n",
       "      <td>[favorite_total_war, series, date, , , medievial]</td>\n",
       "      <td>[favorite_total_war, series, date, medievial]</td>\n",
       "    </tr>\n",
       "    <tr>\n",
       "      <th>6</th>\n",
       "      <td>became emperor of china then everyone betrayed...</td>\n",
       "      <td>2</td>\n",
       "      <td>[became, emperor, of, china, then, everyone, b...</td>\n",
       "      <td>[emperor, china, betrayed, 1010, reunite, china]</td>\n",
       "      <td>[emperor, china, betrayed, 1010, reunite, china]</td>\n",
       "      <td>[emperor, china, , , reunite, china]</td>\n",
       "      <td>[emperor, china, reunite, china]</td>\n",
       "    </tr>\n",
       "    <tr>\n",
       "      <th>7</th>\n",
       "      <td>graphics you forget what reality is beautiful ...</td>\n",
       "      <td>3</td>\n",
       "      <td>[graphics, you, forget, what, reality, is, bea...</td>\n",
       "      <td>[graphics, forget, reality, beautiful, decent,...</td>\n",
       "      <td>[graphics, forget, reality, beautiful, decent,...</td>\n",
       "      <td>[graphic, , reality, , , , don‘t, , , paintexe...</td>\n",
       "      <td>[graphic, reality, don‘t, paintexe, gameplay, ...</td>\n",
       "    </tr>\n",
       "    <tr>\n",
       "      <th>8</th>\n",
       "      <td>audience kids teens adults average solitare pl...</td>\n",
       "      <td>3</td>\n",
       "      <td>[audience, kids, teens, adults, average, solit...</td>\n",
       "      <td>[audience, kids, teens, adults, average, solit...</td>\n",
       "      <td>[audience, kids, teens, adults, average, solit...</td>\n",
       "      <td>[audience, kid, teen, adult, , , player, pc, r...</td>\n",
       "      <td>[audience, kid, teen, adult, player, pc, requi...</td>\n",
       "    </tr>\n",
       "    <tr>\n",
       "      <th>9</th>\n",
       "      <td>decent fast rich boiiiiii ask nasa if they hav...</td>\n",
       "      <td>3</td>\n",
       "      <td>[decent, fast, rich, boiiiiii, ask, nasa, if, ...</td>\n",
       "      <td>[decent, fast, rich, boiiiiii, ask, nasa, spar...</td>\n",
       "      <td>[decent, fast, rich, boiiiiii, ask, nasa, spar...</td>\n",
       "      <td>[, , , boiiiiii, , nasa, , difficulity, press,...</td>\n",
       "      <td>[boiiiiii, nasa, difficulity, press, ‚, brain,...</td>\n",
       "    </tr>\n",
       "  </tbody>\n",
       "</table>\n",
       "</div>"
      ],
      "text/plain": [
       "                                       original_sent test_set_review_number  \\\n",
       "0                                            awesome                      1   \n",
       "1  great game do wish they gave you more factions...                      1   \n",
       "2  the whole bottom of the map is empty which mea...                      1   \n",
       "3  really enjoy how romance of the three kingdoms...                      1   \n",
       "4  those are minor complaints to great and amazin...                      1   \n",
       "5  my favorite total war series to date and have ...                      1   \n",
       "6  became emperor of china then everyone betrayed...                      2   \n",
       "7  graphics you forget what reality is beautiful ...                      3   \n",
       "8  audience kids teens adults average solitare pl...                      3   \n",
       "9  decent fast rich boiiiiii ask nasa if they hav...                      3   \n",
       "\n",
       "                                     token_sentences  \\\n",
       "0                                          [awesome]   \n",
       "1  [great, game, do, wish, they, gave, you, more,...   \n",
       "2  [the, whole, bottom, of, the, map, is, empty, ...   \n",
       "3  [really, enjoy, how, romance, of, the, three, ...   \n",
       "4  [those, are, minor, complaints, to, great, and...   \n",
       "5  [my, favorite, total, war, series, to, date, a...   \n",
       "6  [became, emperor, of, china, then, everyone, b...   \n",
       "7  [graphics, you, forget, what, reality, is, bea...   \n",
       "8  [audience, kids, teens, adults, average, solit...   \n",
       "9  [decent, fast, rich, boiiiiii, ask, nasa, if, ...   \n",
       "\n",
       "                                     sents_unstopped  \\\n",
       "0                                          [awesome]   \n",
       "1     [wish, gave, factions, starting, map, options]   \n",
       "2           [map, means, wu, takes, free, territory]   \n",
       "3  [enjoy, romance, three, kingdoms, lets, play, ...   \n",
       "4                       [minor, complaints, amazing]   \n",
       "5  [favorite, total, war, series, date, pretty, p...   \n",
       "6   [emperor, china, betrayed, 1010, reunite, china]   \n",
       "7  [graphics, forget, reality, beautiful, decent,...   \n",
       "8  [audience, kids, teens, adults, average, solit...   \n",
       "9  [decent, fast, rich, boiiiiii, ask, nasa, spar...   \n",
       "\n",
       "                                     3gram_sentences  \\\n",
       "0                                          [awesome]   \n",
       "1     [wish, gave, factions, starting, map, options]   \n",
       "2           [map, means, wu, takes, free, territory]   \n",
       "3  [enjoy, romance_three_kingdoms, lets, play, wa...   \n",
       "4                       [minor, complaints, amazing]   \n",
       "5  [favorite_total_war, series, date, pretty, pla...   \n",
       "6   [emperor, china, betrayed, 1010, reunite, china]   \n",
       "7  [graphics, forget, reality, beautiful, decent,...   \n",
       "8  [audience, kids, teens, adults, average, solit...   \n",
       "9  [decent, fast, rich, boiiiiii, ask, nasa, spar...   \n",
       "\n",
       "                               3gram_sentences_lemma  \\\n",
       "0                                                 []   \n",
       "1                   [wish, , faction, , map, option]   \n",
       "2                           [map, , , , , territory]   \n",
       "3  [, romance_three_kingdoms, let, , , , , starti...   \n",
       "4                                    [, complaint, ]   \n",
       "5  [favorite_total_war, series, date, , , medievial]   \n",
       "6               [emperor, china, , , reunite, china]   \n",
       "7  [graphic, , reality, , , , don‘t, , , paintexe...   \n",
       "8  [audience, kid, teen, adult, , , player, pc, r...   \n",
       "9  [, , , boiiiiii, , nasa, , difficulity, press,...   \n",
       "\n",
       "                               3gram_sentences_clean  \n",
       "0                                                 []  \n",
       "1                       [wish, faction, map, option]  \n",
       "2                                   [map, territory]  \n",
       "3  [romance_three_kingdoms, let, starting, map, o...  \n",
       "4                                        [complaint]  \n",
       "5      [favorite_total_war, series, date, medievial]  \n",
       "6                   [emperor, china, reunite, china]  \n",
       "7  [graphic, reality, don‘t, paintexe, gameplay, ...  \n",
       "8  [audience, kid, teen, adult, player, pc, requi...  \n",
       "9  [boiiiiii, nasa, difficulity, press, ‚, brain,...  "
      ]
     },
     "execution_count": 561,
     "metadata": {},
     "output_type": "execute_result"
    }
   ],
   "source": [
    "#WARNING! this cell can be a little slow, especially with larger datasets (it already takes ~3 minutes with 3600+ rows) -- will consider stemming as a future modification\n",
    "\n",
    "sent_df['sents_unstopped'] = sent_df['token_sentences'].map(lambda x: remove_stopwords(x))\n",
    "sent_df['3gram_sentences'] = make_trigrams(sent_df['sents_unstopped'])\n",
    "\n",
    "en_stopwords.extend(['good','better','great','lot','game','like','I','i','one','two','three','thing','bit','total_war','time'])\n",
    "\n",
    "sent_df['3gram_sentences_lemma'] = sent_df['3gram_sentences'].map(lambda x: spacy_lemma(x))\n",
    "sent_df['3gram_sentences_clean'] = sent_df['3gram_sentences_lemma'].map(lambda x: remove_stopwords(x))\n",
    "sent_df.head(10)"
   ]
  },
  {
   "cell_type": "code",
   "execution_count": 562,
   "metadata": {},
   "outputs": [
    {
     "data": {
      "text/html": [
       "<div>\n",
       "<style scoped>\n",
       "    .dataframe tbody tr th:only-of-type {\n",
       "        vertical-align: middle;\n",
       "    }\n",
       "\n",
       "    .dataframe tbody tr th {\n",
       "        vertical-align: top;\n",
       "    }\n",
       "\n",
       "    .dataframe thead th {\n",
       "        text-align: right;\n",
       "    }\n",
       "</style>\n",
       "<table border=\"1\" class=\"dataframe\">\n",
       "  <thead>\n",
       "    <tr style=\"text-align: right;\">\n",
       "      <th></th>\n",
       "      <th>original_sent</th>\n",
       "      <th>test_set_review_number</th>\n",
       "      <th>token_sentences</th>\n",
       "      <th>sents_unstopped</th>\n",
       "      <th>3gram_sentences</th>\n",
       "      <th>3gram_sentences_lemma</th>\n",
       "      <th>3gram_sentences_clean</th>\n",
       "      <th>num_tokens</th>\n",
       "    </tr>\n",
       "  </thead>\n",
       "  <tbody>\n",
       "    <tr>\n",
       "      <th>0</th>\n",
       "      <td>awesome</td>\n",
       "      <td>1</td>\n",
       "      <td>[awesome]</td>\n",
       "      <td>[awesome]</td>\n",
       "      <td>[awesome]</td>\n",
       "      <td>[]</td>\n",
       "      <td>[]</td>\n",
       "      <td>0</td>\n",
       "    </tr>\n",
       "    <tr>\n",
       "      <th>1</th>\n",
       "      <td>great game do wish they gave you more factions...</td>\n",
       "      <td>1</td>\n",
       "      <td>[great, game, do, wish, they, gave, you, more,...</td>\n",
       "      <td>[wish, gave, factions, starting, map, options]</td>\n",
       "      <td>[wish, gave, factions, starting, map, options]</td>\n",
       "      <td>[wish, , faction, , map, option]</td>\n",
       "      <td>[wish, faction, map, option]</td>\n",
       "      <td>4</td>\n",
       "    </tr>\n",
       "    <tr>\n",
       "      <th>2</th>\n",
       "      <td>the whole bottom of the map is empty which mea...</td>\n",
       "      <td>1</td>\n",
       "      <td>[the, whole, bottom, of, the, map, is, empty, ...</td>\n",
       "      <td>[map, means, wu, takes, free, territory]</td>\n",
       "      <td>[map, means, wu, takes, free, territory]</td>\n",
       "      <td>[map, , , , , territory]</td>\n",
       "      <td>[map, territory]</td>\n",
       "      <td>2</td>\n",
       "    </tr>\n",
       "    <tr>\n",
       "      <th>3</th>\n",
       "      <td>really enjoy how romance of the three kingdoms...</td>\n",
       "      <td>1</td>\n",
       "      <td>[really, enjoy, how, romance, of, the, three, ...</td>\n",
       "      <td>[enjoy, romance, three, kingdoms, lets, play, ...</td>\n",
       "      <td>[enjoy, romance_three_kingdoms, lets, play, wa...</td>\n",
       "      <td>[, romance_three_kingdoms, let, , , , , starti...</td>\n",
       "      <td>[romance_three_kingdoms, let, starting, map, o...</td>\n",
       "      <td>5</td>\n",
       "    </tr>\n",
       "    <tr>\n",
       "      <th>4</th>\n",
       "      <td>those are minor complaints to great and amazin...</td>\n",
       "      <td>1</td>\n",
       "      <td>[those, are, minor, complaints, to, great, and...</td>\n",
       "      <td>[minor, complaints, amazing]</td>\n",
       "      <td>[minor, complaints, amazing]</td>\n",
       "      <td>[, complaint, ]</td>\n",
       "      <td>[complaint]</td>\n",
       "      <td>1</td>\n",
       "    </tr>\n",
       "  </tbody>\n",
       "</table>\n",
       "</div>"
      ],
      "text/plain": [
       "                                       original_sent test_set_review_number  \\\n",
       "0                                            awesome                      1   \n",
       "1  great game do wish they gave you more factions...                      1   \n",
       "2  the whole bottom of the map is empty which mea...                      1   \n",
       "3  really enjoy how romance of the three kingdoms...                      1   \n",
       "4  those are minor complaints to great and amazin...                      1   \n",
       "\n",
       "                                     token_sentences  \\\n",
       "0                                          [awesome]   \n",
       "1  [great, game, do, wish, they, gave, you, more,...   \n",
       "2  [the, whole, bottom, of, the, map, is, empty, ...   \n",
       "3  [really, enjoy, how, romance, of, the, three, ...   \n",
       "4  [those, are, minor, complaints, to, great, and...   \n",
       "\n",
       "                                     sents_unstopped  \\\n",
       "0                                          [awesome]   \n",
       "1     [wish, gave, factions, starting, map, options]   \n",
       "2           [map, means, wu, takes, free, territory]   \n",
       "3  [enjoy, romance, three, kingdoms, lets, play, ...   \n",
       "4                       [minor, complaints, amazing]   \n",
       "\n",
       "                                     3gram_sentences  \\\n",
       "0                                          [awesome]   \n",
       "1     [wish, gave, factions, starting, map, options]   \n",
       "2           [map, means, wu, takes, free, territory]   \n",
       "3  [enjoy, romance_three_kingdoms, lets, play, wa...   \n",
       "4                       [minor, complaints, amazing]   \n",
       "\n",
       "                               3gram_sentences_lemma  \\\n",
       "0                                                 []   \n",
       "1                   [wish, , faction, , map, option]   \n",
       "2                           [map, , , , , territory]   \n",
       "3  [, romance_three_kingdoms, let, , , , , starti...   \n",
       "4                                    [, complaint, ]   \n",
       "\n",
       "                               3gram_sentences_clean  num_tokens  \n",
       "0                                                 []           0  \n",
       "1                       [wish, faction, map, option]           4  \n",
       "2                                   [map, territory]           2  \n",
       "3  [romance_three_kingdoms, let, starting, map, o...           5  \n",
       "4                                        [complaint]           1  "
      ]
     },
     "execution_count": 562,
     "metadata": {},
     "output_type": "execute_result"
    }
   ],
   "source": [
    "sent_df['num_tokens']=sent_df['3gram_sentences_clean'].map(lambda x: len(x))\n",
    "sent_df.head()"
   ]
  },
  {
   "cell_type": "code",
   "execution_count": 563,
   "metadata": {},
   "outputs": [
    {
     "name": "stdout",
     "output_type": "stream",
     "text": [
      "0.328\n",
      "504\n"
     ]
    }
   ],
   "source": [
    "test_sent_df = sent_df[sent_df['num_tokens']>1].reset_index(drop=True)\n",
    "dropped_rows = abs(len(sent_df)-len(test_sent_df))/len(sent_df)\n",
    "print(dropped_rows)\n",
    "print(len(test_sent_df))"
   ]
  },
  {
   "cell_type": "code",
   "execution_count": 564,
   "metadata": {},
   "outputs": [
    {
     "data": {
      "text/plain": [
       "0.04534257823191315"
      ]
     },
     "execution_count": 564,
     "metadata": {},
     "output_type": "execute_result"
    }
   ],
   "source": [
    "#Proportion of test set sentences vs the training set\n",
    "\n",
    "497/10961"
   ]
  },
  {
   "cell_type": "code",
   "execution_count": 565,
   "metadata": {},
   "outputs": [
    {
     "data": {
      "text/html": [
       "<div>\n",
       "<style scoped>\n",
       "    .dataframe tbody tr th:only-of-type {\n",
       "        vertical-align: middle;\n",
       "    }\n",
       "\n",
       "    .dataframe tbody tr th {\n",
       "        vertical-align: top;\n",
       "    }\n",
       "\n",
       "    .dataframe thead th {\n",
       "        text-align: right;\n",
       "    }\n",
       "</style>\n",
       "<table border=\"1\" class=\"dataframe\">\n",
       "  <thead>\n",
       "    <tr style=\"text-align: right;\">\n",
       "      <th></th>\n",
       "      <th>num_tokens</th>\n",
       "    </tr>\n",
       "  </thead>\n",
       "  <tbody>\n",
       "    <tr>\n",
       "      <th>count</th>\n",
       "      <td>504.000000</td>\n",
       "    </tr>\n",
       "    <tr>\n",
       "      <th>mean</th>\n",
       "      <td>4.146825</td>\n",
       "    </tr>\n",
       "    <tr>\n",
       "      <th>std</th>\n",
       "      <td>2.777048</td>\n",
       "    </tr>\n",
       "    <tr>\n",
       "      <th>min</th>\n",
       "      <td>2.000000</td>\n",
       "    </tr>\n",
       "    <tr>\n",
       "      <th>25%</th>\n",
       "      <td>2.000000</td>\n",
       "    </tr>\n",
       "    <tr>\n",
       "      <th>50%</th>\n",
       "      <td>3.000000</td>\n",
       "    </tr>\n",
       "    <tr>\n",
       "      <th>75%</th>\n",
       "      <td>5.000000</td>\n",
       "    </tr>\n",
       "    <tr>\n",
       "      <th>max</th>\n",
       "      <td>26.000000</td>\n",
       "    </tr>\n",
       "  </tbody>\n",
       "</table>\n",
       "</div>"
      ],
      "text/plain": [
       "       num_tokens\n",
       "count  504.000000\n",
       "mean     4.146825\n",
       "std      2.777048\n",
       "min      2.000000\n",
       "25%      2.000000\n",
       "50%      3.000000\n",
       "75%      5.000000\n",
       "max     26.000000"
      ]
     },
     "execution_count": 565,
     "metadata": {},
     "output_type": "execute_result"
    }
   ],
   "source": [
    "#In hindsight, I should have reserved 20% of the data for testing.\n",
    "\n",
    "test_sent_df.describe()"
   ]
  },
  {
   "cell_type": "code",
   "execution_count": 566,
   "metadata": {},
   "outputs": [],
   "source": [
    "test_sent_df.to_csv('./dataframes/vldtn_test_df.csv')"
   ]
  },
  {
   "cell_type": "code",
   "execution_count": 567,
   "metadata": {},
   "outputs": [],
   "source": [
    "test_sent_df = pd.read_csv('./dataframes/vldtn_test_df.csv',index_col=0)"
   ]
  },
  {
   "cell_type": "code",
   "execution_count": 568,
   "metadata": {},
   "outputs": [
    {
     "data": {
      "text/html": [
       "<div>\n",
       "<style scoped>\n",
       "    .dataframe tbody tr th:only-of-type {\n",
       "        vertical-align: middle;\n",
       "    }\n",
       "\n",
       "    .dataframe tbody tr th {\n",
       "        vertical-align: top;\n",
       "    }\n",
       "\n",
       "    .dataframe thead th {\n",
       "        text-align: right;\n",
       "    }\n",
       "</style>\n",
       "<table border=\"1\" class=\"dataframe\">\n",
       "  <thead>\n",
       "    <tr style=\"text-align: right;\">\n",
       "      <th></th>\n",
       "      <th>original_sent</th>\n",
       "      <th>test_set_review_number</th>\n",
       "      <th>token_sentences</th>\n",
       "      <th>sents_unstopped</th>\n",
       "      <th>3gram_sentences</th>\n",
       "      <th>3gram_sentences_lemma</th>\n",
       "      <th>3gram_sentences_clean</th>\n",
       "      <th>num_tokens</th>\n",
       "    </tr>\n",
       "  </thead>\n",
       "  <tbody>\n",
       "    <tr>\n",
       "      <th>0</th>\n",
       "      <td>great game do wish they gave you more factions...</td>\n",
       "      <td>1</td>\n",
       "      <td>['great', 'game', 'do', 'wish', 'they', 'gave'...</td>\n",
       "      <td>['wish', 'gave', 'factions', 'starting', 'map'...</td>\n",
       "      <td>['wish', 'gave', 'factions', 'starting', 'map'...</td>\n",
       "      <td>['wish', '', 'faction', '', 'map', 'option']</td>\n",
       "      <td>['wish', 'faction', 'map', 'option']</td>\n",
       "      <td>4</td>\n",
       "    </tr>\n",
       "    <tr>\n",
       "      <th>1</th>\n",
       "      <td>the whole bottom of the map is empty which mea...</td>\n",
       "      <td>1</td>\n",
       "      <td>['the', 'whole', 'bottom', 'of', 'the', 'map',...</td>\n",
       "      <td>['map', 'means', 'wu', 'takes', 'free', 'terri...</td>\n",
       "      <td>['map', 'means', 'wu', 'takes', 'free', 'terri...</td>\n",
       "      <td>['map', '', '', '', '', 'territory']</td>\n",
       "      <td>['map', 'territory']</td>\n",
       "      <td>2</td>\n",
       "    </tr>\n",
       "  </tbody>\n",
       "</table>\n",
       "</div>"
      ],
      "text/plain": [
       "                                       original_sent  test_set_review_number  \\\n",
       "0  great game do wish they gave you more factions...                       1   \n",
       "1  the whole bottom of the map is empty which mea...                       1   \n",
       "\n",
       "                                     token_sentences  \\\n",
       "0  ['great', 'game', 'do', 'wish', 'they', 'gave'...   \n",
       "1  ['the', 'whole', 'bottom', 'of', 'the', 'map',...   \n",
       "\n",
       "                                     sents_unstopped  \\\n",
       "0  ['wish', 'gave', 'factions', 'starting', 'map'...   \n",
       "1  ['map', 'means', 'wu', 'takes', 'free', 'terri...   \n",
       "\n",
       "                                     3gram_sentences  \\\n",
       "0  ['wish', 'gave', 'factions', 'starting', 'map'...   \n",
       "1  ['map', 'means', 'wu', 'takes', 'free', 'terri...   \n",
       "\n",
       "                          3gram_sentences_lemma  \\\n",
       "0  ['wish', '', 'faction', '', 'map', 'option']   \n",
       "1          ['map', '', '', '', '', 'territory']   \n",
       "\n",
       "                  3gram_sentences_clean  num_tokens  \n",
       "0  ['wish', 'faction', 'map', 'option']           4  \n",
       "1                  ['map', 'territory']           2  "
      ]
     },
     "execution_count": 568,
     "metadata": {},
     "output_type": "execute_result"
    }
   ],
   "source": [
    "test_sent_df.head(2)"
   ]
  },
  {
   "cell_type": "code",
   "execution_count": 569,
   "metadata": {},
   "outputs": [
    {
     "data": {
      "text/plain": [
       "original_sent             object\n",
       "test_set_review_number     int64\n",
       "token_sentences           object\n",
       "sents_unstopped           object\n",
       "3gram_sentences           object\n",
       "3gram_sentences_lemma     object\n",
       "3gram_sentences_clean     object\n",
       "num_tokens                 int64\n",
       "dtype: object"
      ]
     },
     "execution_count": 569,
     "metadata": {},
     "output_type": "execute_result"
    }
   ],
   "source": [
    "test_sent_df.dtypes"
   ]
  },
  {
   "cell_type": "code",
   "execution_count": 570,
   "metadata": {},
   "outputs": [],
   "source": [
    "test_sent_df['token_sentences'] = test_sent_df['token_sentences'].map(lambda x: ''.join(c for c in x if c=='_' or c not in string.punctuation).split()) #n-grams underscores must be preserved for readability\n",
    "test_sent_df['sents_unstopped'] = test_sent_df['sents_unstopped'].map(lambda x: ''.join(c for c in x if c=='_' or c not in string.punctuation).split()) \n",
    "test_sent_df['3gram_sentences'] = test_sent_df['3gram_sentences'].map(lambda x: ''.join(c for c in x if c=='_' or c not in string.punctuation).split()) \n",
    "test_sent_df['3gram_sentences_clean'] = test_sent_df['3gram_sentences_clean'].map(lambda x: ''.join(c for c in x if c=='_' or c not in string.punctuation).split()) "
   ]
  },
  {
   "cell_type": "code",
   "execution_count": 571,
   "metadata": {},
   "outputs": [
    {
     "data": {
      "text/html": [
       "<div>\n",
       "<style scoped>\n",
       "    .dataframe tbody tr th:only-of-type {\n",
       "        vertical-align: middle;\n",
       "    }\n",
       "\n",
       "    .dataframe tbody tr th {\n",
       "        vertical-align: top;\n",
       "    }\n",
       "\n",
       "    .dataframe thead th {\n",
       "        text-align: right;\n",
       "    }\n",
       "</style>\n",
       "<table border=\"1\" class=\"dataframe\">\n",
       "  <thead>\n",
       "    <tr style=\"text-align: right;\">\n",
       "      <th></th>\n",
       "      <th>original_sent</th>\n",
       "      <th>test_set_review_number</th>\n",
       "      <th>token_sentences</th>\n",
       "      <th>sents_unstopped</th>\n",
       "      <th>3gram_sentences</th>\n",
       "      <th>3gram_sentences_lemma</th>\n",
       "      <th>3gram_sentences_clean</th>\n",
       "      <th>num_tokens</th>\n",
       "    </tr>\n",
       "  </thead>\n",
       "  <tbody>\n",
       "    <tr>\n",
       "      <th>0</th>\n",
       "      <td>great game do wish they gave you more factions...</td>\n",
       "      <td>1</td>\n",
       "      <td>[great, game, do, wish, they, gave, you, more,...</td>\n",
       "      <td>[wish, gave, factions, starting, map, options]</td>\n",
       "      <td>[wish, gave, factions, starting, map, options]</td>\n",
       "      <td>['wish', '', 'faction', '', 'map', 'option']</td>\n",
       "      <td>[wish, faction, map, option]</td>\n",
       "      <td>4</td>\n",
       "    </tr>\n",
       "    <tr>\n",
       "      <th>1</th>\n",
       "      <td>the whole bottom of the map is empty which mea...</td>\n",
       "      <td>1</td>\n",
       "      <td>[the, whole, bottom, of, the, map, is, empty, ...</td>\n",
       "      <td>[map, means, wu, takes, free, territory]</td>\n",
       "      <td>[map, means, wu, takes, free, territory]</td>\n",
       "      <td>['map', '', '', '', '', 'territory']</td>\n",
       "      <td>[map, territory]</td>\n",
       "      <td>2</td>\n",
       "    </tr>\n",
       "  </tbody>\n",
       "</table>\n",
       "</div>"
      ],
      "text/plain": [
       "                                       original_sent  test_set_review_number  \\\n",
       "0  great game do wish they gave you more factions...                       1   \n",
       "1  the whole bottom of the map is empty which mea...                       1   \n",
       "\n",
       "                                     token_sentences  \\\n",
       "0  [great, game, do, wish, they, gave, you, more,...   \n",
       "1  [the, whole, bottom, of, the, map, is, empty, ...   \n",
       "\n",
       "                                  sents_unstopped  \\\n",
       "0  [wish, gave, factions, starting, map, options]   \n",
       "1        [map, means, wu, takes, free, territory]   \n",
       "\n",
       "                                  3gram_sentences  \\\n",
       "0  [wish, gave, factions, starting, map, options]   \n",
       "1        [map, means, wu, takes, free, territory]   \n",
       "\n",
       "                          3gram_sentences_lemma         3gram_sentences_clean  \\\n",
       "0  ['wish', '', 'faction', '', 'map', 'option']  [wish, faction, map, option]   \n",
       "1          ['map', '', '', '', '', 'territory']              [map, territory]   \n",
       "\n",
       "   num_tokens  \n",
       "0           4  \n",
       "1           2  "
      ]
     },
     "execution_count": 571,
     "metadata": {},
     "output_type": "execute_result"
    }
   ],
   "source": [
    "test_sent_df.head(2)"
   ]
  },
  {
   "cell_type": "code",
   "execution_count": 572,
   "metadata": {},
   "outputs": [],
   "source": [
    "documents = list(test_sent_df['3gram_sentences_clean'])\n",
    "dictionary = gensim.corpora.Dictionary(documents)\n",
    "\n",
    "dictionary.filter_extremes(no_below = 5,no_above=0.5)     \n",
    "\n",
    "corpus = [dictionary.doc2bow(text) for text in documents]"
   ]
  },
  {
   "cell_type": "code",
   "execution_count": 573,
   "metadata": {},
   "outputs": [
    {
     "name": "stdout",
     "output_type": "stream",
     "text": [
      "three_kingdoms series fan diplomacy battle love best_total_war campaign total_war_games fun character shogun play title gameplay\n",
      "china war cao_cao lu_bu liu_bei yuan_shao army character man emperor warlord friend history faction sun_jian\n",
      "faction army diplomacy vassal war player people way city problem campaign option spy three_kingdoms review\n",
      "unit battle faction army general character diplomacy campaign hero building duel enemy way map combat\n",
      "campaign hour issue battle bug crash multiplayer review rome fix play patch work month release\n"
     ]
    }
   ],
   "source": [
    "topic_list = lda_model.print_topics(num_topics=5, num_words=15)\n",
    "for index, i in enumerate(topic_list):\n",
    "    str1 = str(i[1])\n",
    "    for c in \"0123456789+*\\\".\":\n",
    "        str1 = str1.replace(c, \"\")\n",
    "    str1 = str1.replace(\"  \", \" \")\n",
    "    print(str1)"
   ]
  },
  {
   "cell_type": "code",
   "execution_count": 574,
   "metadata": {},
   "outputs": [],
   "source": [
    "#credit to https://www.machinelearningplus.com/nlp/topic-modeling-gensim-python/ for this cell's code, which I modified to suit my needs\n",
    "\n",
    "topic_dict = {'0':'Content & Authenticity',\n",
    "              '1':'Characters',\n",
    "              '2':'Strategic Gameplay',\n",
    "              '3':'Tactical Gameplay',\n",
    "              '4':'UI/UX, Performance, Stability',\n",
    "             }\n",
    "\n",
    "#created a dictionary so I can show topic names instead of numbers, without any complicated code\n",
    "\n",
    "def format_topics_sentences(ldamodel=lda_model, corpus=corpus, documents=documents):\n",
    "    # Init output\n",
    "    sent_topics_df = pd.DataFrame()\n",
    "\n",
    "    # Get main topic in each document\n",
    "    for i, row in enumerate(ldamodel[corpus]):\n",
    "        row = sorted(row, key=lambda x: (x[1]), reverse=True)\n",
    "        \n",
    "        # Get the Dominant topic, Perc Contribution and Keywords for each document\n",
    "        for j, (topic_num, prop_topic) in enumerate(row):\n",
    "            \n",
    "            if j == 0:  # => dominant topic\n",
    "                wp = ldamodel.show_topic(topic_num)\n",
    "                topic_keywords = \", \".join([word for word, prop in wp])\n",
    "                sent_topics_df = sent_topics_df.append(pd.Series([topic_dict[str(topic_num)], round(prop_topic,4), topic_keywords]), ignore_index=True)   #replaced int(topic_num) with\n",
    "                \n",
    "            else:\n",
    "                break\n",
    "                \n",
    "    sent_topics_df.columns = ['Dominant_Topic', 'Perc_Contribution', 'Topic_Keywords']\n",
    "\n",
    "    # Add original text to the end of the output\n",
    "    orig_contents = pd.Series(test_sent_df['original_sent'])\n",
    "    docs = pd.Series(documents)\n",
    "    sent_topics_df = pd.concat([sent_topics_df,docs, orig_contents], axis=1)\n",
    "    return(sent_topics_df)"
   ]
  },
  {
   "cell_type": "code",
   "execution_count": 575,
   "metadata": {},
   "outputs": [],
   "source": [
    "#generate dataframe\n",
    "df_topic_sents_keywords = format_topics_sentences(ldamodel=lda_model, corpus=corpus, documents=documents)"
   ]
  },
  {
   "cell_type": "code",
   "execution_count": 576,
   "metadata": {},
   "outputs": [
    {
     "data": {
      "text/html": [
       "<div>\n",
       "<style scoped>\n",
       "    .dataframe tbody tr th:only-of-type {\n",
       "        vertical-align: middle;\n",
       "    }\n",
       "\n",
       "    .dataframe tbody tr th {\n",
       "        vertical-align: top;\n",
       "    }\n",
       "\n",
       "    .dataframe thead th {\n",
       "        text-align: right;\n",
       "    }\n",
       "</style>\n",
       "<table border=\"1\" class=\"dataframe\">\n",
       "  <thead>\n",
       "    <tr style=\"text-align: right;\">\n",
       "      <th></th>\n",
       "      <th>review_number</th>\n",
       "      <th>dominant_topic</th>\n",
       "      <th>original_text</th>\n",
       "      <th>topic_perc_contrib</th>\n",
       "      <th>tokens</th>\n",
       "      <th>num_tokens</th>\n",
       "      <th>keywords</th>\n",
       "    </tr>\n",
       "  </thead>\n",
       "  <tbody>\n",
       "    <tr>\n",
       "      <th>0</th>\n",
       "      <td>1</td>\n",
       "      <td>Strategic Gameplay</td>\n",
       "      <td>great game do wish they gave you more factions...</td>\n",
       "      <td>0.7929</td>\n",
       "      <td>[wish, faction, map, option]</td>\n",
       "      <td>4</td>\n",
       "      <td>faction, army, diplomacy, vassal, war, player,...</td>\n",
       "    </tr>\n",
       "    <tr>\n",
       "      <th>1</th>\n",
       "      <td>1</td>\n",
       "      <td>Strategic Gameplay</td>\n",
       "      <td>the whole bottom of the map is empty which mea...</td>\n",
       "      <td>0.5874</td>\n",
       "      <td>[map, territory]</td>\n",
       "      <td>2</td>\n",
       "      <td>faction, army, diplomacy, vassal, war, player,...</td>\n",
       "    </tr>\n",
       "    <tr>\n",
       "      <th>2</th>\n",
       "      <td>1</td>\n",
       "      <td>Strategic Gameplay</td>\n",
       "      <td>really enjoy how romance of the three kingdoms...</td>\n",
       "      <td>0.7243</td>\n",
       "      <td>[romance_three_kingdoms, let, starting, map, o...</td>\n",
       "      <td>5</td>\n",
       "      <td>faction, army, diplomacy, vassal, war, player,...</td>\n",
       "    </tr>\n",
       "    <tr>\n",
       "      <th>3</th>\n",
       "      <td>1</td>\n",
       "      <td>Tactical Gameplay</td>\n",
       "      <td>my favorite total war series to date and have ...</td>\n",
       "      <td>0.5686</td>\n",
       "      <td>[favorite_total_war, series, date, medievial]</td>\n",
       "      <td>4</td>\n",
       "      <td>unit, battle, faction, army, general, characte...</td>\n",
       "    </tr>\n",
       "    <tr>\n",
       "      <th>4</th>\n",
       "      <td>2</td>\n",
       "      <td>Tactical Gameplay</td>\n",
       "      <td>became emperor of china then everyone betrayed...</td>\n",
       "      <td>0.7038</td>\n",
       "      <td>[emperor, china, reunite, china]</td>\n",
       "      <td>4</td>\n",
       "      <td>unit, battle, faction, army, general, characte...</td>\n",
       "    </tr>\n",
       "  </tbody>\n",
       "</table>\n",
       "</div>"
      ],
      "text/plain": [
       "   review_number      dominant_topic  \\\n",
       "0              1  Strategic Gameplay   \n",
       "1              1  Strategic Gameplay   \n",
       "2              1  Strategic Gameplay   \n",
       "3              1   Tactical Gameplay   \n",
       "4              2   Tactical Gameplay   \n",
       "\n",
       "                                       original_text  topic_perc_contrib  \\\n",
       "0  great game do wish they gave you more factions...              0.7929   \n",
       "1  the whole bottom of the map is empty which mea...              0.5874   \n",
       "2  really enjoy how romance of the three kingdoms...              0.7243   \n",
       "3  my favorite total war series to date and have ...              0.5686   \n",
       "4  became emperor of china then everyone betrayed...              0.7038   \n",
       "\n",
       "                                              tokens  num_tokens  \\\n",
       "0                       [wish, faction, map, option]           4   \n",
       "1                                   [map, territory]           2   \n",
       "2  [romance_three_kingdoms, let, starting, map, o...           5   \n",
       "3      [favorite_total_war, series, date, medievial]           4   \n",
       "4                   [emperor, china, reunite, china]           4   \n",
       "\n",
       "                                            keywords  \n",
       "0  faction, army, diplomacy, vassal, war, player,...  \n",
       "1  faction, army, diplomacy, vassal, war, player,...  \n",
       "2  faction, army, diplomacy, vassal, war, player,...  \n",
       "3  unit, battle, faction, army, general, characte...  \n",
       "4  unit, battle, faction, army, general, characte...  "
      ]
     },
     "execution_count": 576,
     "metadata": {},
     "output_type": "execute_result"
    }
   ],
   "source": [
    "# Format dataframe\n",
    "df_sent_dom_topic = df_topic_sents_keywords.reset_index()\n",
    "\n",
    "df_sent_dom_topic.columns = ['document_no', 'dominant_topic', 'topic_perc_contrib', 'keywords', 'tokens','original_text']\n",
    "\n",
    "df_sent_dom_topic['num_tokens']=df_sent_dom_topic['tokens'].map(lambda x: len(x))\n",
    "df_sent_dom_topic['review_number'] = test_sent_df['test_set_review_number']\n",
    "\n",
    "df_sent_dom_topic = df_sent_dom_topic[['review_number','dominant_topic','original_text','topic_perc_contrib','tokens','num_tokens','keywords']]\n",
    "\n",
    "# Show dataframe\n",
    "df_sent_dom_topic.head(5)"
   ]
  },
  {
   "cell_type": "code",
   "execution_count": 577,
   "metadata": {},
   "outputs": [],
   "source": [
    "df_sent_dom_topic.to_csv('./dataframes/vldtn_test_sent_topics.csv')"
   ]
  },
  {
   "cell_type": "code",
   "execution_count": 578,
   "metadata": {},
   "outputs": [
    {
     "data": {
      "text/plain": [
       "[['shogun_two', 'shogun', '2']]"
      ]
     },
     "execution_count": 578,
     "metadata": {},
     "output_type": "execute_result"
    }
   ],
   "source": [
    "make_trigrams([['shogun','two','shogun','2']])"
   ]
  },
  {
   "cell_type": "code",
   "execution_count": 579,
   "metadata": {},
   "outputs": [
    {
     "data": {
      "text/plain": [
       "['']"
      ]
     },
     "execution_count": 579,
     "metadata": {},
     "output_type": "execute_result"
    }
   ],
   "source": [
    "spacy_lemma(['map'])"
   ]
  },
  {
   "cell_type": "code",
   "execution_count": 581,
   "metadata": {},
   "outputs": [
    {
     "data": {
      "text/plain": [
       "['']"
      ]
     },
     "execution_count": 581,
     "metadata": {},
     "output_type": "execute_result"
    }
   ],
   "source": [
    "spacy_lemma(['crashing'])"
   ]
  },
  {
   "cell_type": "code",
   "execution_count": 582,
   "metadata": {},
   "outputs": [
    {
     "data": {
      "text/plain": [
       "['crash']"
      ]
     },
     "execution_count": 582,
     "metadata": {},
     "output_type": "execute_result"
    }
   ],
   "source": [
    "spacy_lemma(['crash'])"
   ]
  },
  {
   "cell_type": "code",
   "execution_count": 580,
   "metadata": {},
   "outputs": [
    {
     "data": {
      "text/html": [
       "<div>\n",
       "<style scoped>\n",
       "    .dataframe tbody tr th:only-of-type {\n",
       "        vertical-align: middle;\n",
       "    }\n",
       "\n",
       "    .dataframe tbody tr th {\n",
       "        vertical-align: top;\n",
       "    }\n",
       "\n",
       "    .dataframe thead th {\n",
       "        text-align: right;\n",
       "    }\n",
       "</style>\n",
       "<table border=\"1\" class=\"dataframe\">\n",
       "  <thead>\n",
       "    <tr style=\"text-align: right;\">\n",
       "      <th></th>\n",
       "      <th>review_number</th>\n",
       "      <th>dominant_topic</th>\n",
       "      <th>original_text</th>\n",
       "      <th>topic_perc_contrib</th>\n",
       "      <th>tokens</th>\n",
       "      <th>num_tokens</th>\n",
       "      <th>keywords</th>\n",
       "    </tr>\n",
       "  </thead>\n",
       "  <tbody>\n",
       "    <tr>\n",
       "      <th>30</th>\n",
       "      <td>8</td>\n",
       "      <td>Content &amp; Authenticity</td>\n",
       "      <td>many are very similar and had to constantly ch...</td>\n",
       "      <td>0.3328</td>\n",
       "      <td>[picture, person]</td>\n",
       "      <td>2</td>\n",
       "      <td>three_kingdoms, series, fan, diplomacy, battle...</td>\n",
       "    </tr>\n",
       "    <tr>\n",
       "      <th>31</th>\n",
       "      <td>9</td>\n",
       "      <td>Strategic Gameplay</td>\n",
       "      <td>this is the only total war game have not been ...</td>\n",
       "      <td>0.4194</td>\n",
       "      <td>[finish, week, release, everytime, play, quality]</td>\n",
       "      <td>6</td>\n",
       "      <td>faction, army, diplomacy, vassal, war, player,...</td>\n",
       "    </tr>\n",
       "    <tr>\n",
       "      <th>32</th>\n",
       "      <td>9</td>\n",
       "      <td>Content &amp; Authenticity</td>\n",
       "      <td>today decided to just uninstall it and move on...</td>\n",
       "      <td>0.3328</td>\n",
       "      <td>[today, forcing]</td>\n",
       "      <td>2</td>\n",
       "      <td>three_kingdoms, series, fan, diplomacy, battle...</td>\n",
       "    </tr>\n",
       "    <tr>\n",
       "      <th>33</th>\n",
       "      <td>9</td>\n",
       "      <td>Strategic Gameplay</td>\n",
       "      <td>fan of the era itself or 2 have been too spoil...</td>\n",
       "      <td>0.3606</td>\n",
       "      <td>[fan, era, spoilt, term, fan, rome, warhammer,...</td>\n",
       "      <td>10</td>\n",
       "      <td>faction, army, diplomacy, vassal, war, player,...</td>\n",
       "    </tr>\n",
       "    <tr>\n",
       "      <th>34</th>\n",
       "      <td>10</td>\n",
       "      <td>Strategic Gameplay</td>\n",
       "      <td>this game is amazing although the controls wer...</td>\n",
       "      <td>0.7893</td>\n",
       "      <td>[control, makes_feel, china, chinese_culture, ...</td>\n",
       "      <td>5</td>\n",
       "      <td>faction, army, diplomacy, vassal, war, player,...</td>\n",
       "    </tr>\n",
       "  </tbody>\n",
       "</table>\n",
       "</div>"
      ],
      "text/plain": [
       "    review_number          dominant_topic  \\\n",
       "30              8  Content & Authenticity   \n",
       "31              9      Strategic Gameplay   \n",
       "32              9  Content & Authenticity   \n",
       "33              9      Strategic Gameplay   \n",
       "34             10      Strategic Gameplay   \n",
       "\n",
       "                                        original_text  topic_perc_contrib  \\\n",
       "30  many are very similar and had to constantly ch...              0.3328   \n",
       "31  this is the only total war game have not been ...              0.4194   \n",
       "32  today decided to just uninstall it and move on...              0.3328   \n",
       "33  fan of the era itself or 2 have been too spoil...              0.3606   \n",
       "34  this game is amazing although the controls wer...              0.7893   \n",
       "\n",
       "                                               tokens  num_tokens  \\\n",
       "30                                  [picture, person]           2   \n",
       "31  [finish, week, release, everytime, play, quality]           6   \n",
       "32                                   [today, forcing]           2   \n",
       "33  [fan, era, spoilt, term, fan, rome, warhammer,...          10   \n",
       "34  [control, makes_feel, china, chinese_culture, ...           5   \n",
       "\n",
       "                                             keywords  \n",
       "30  three_kingdoms, series, fan, diplomacy, battle...  \n",
       "31  faction, army, diplomacy, vassal, war, player,...  \n",
       "32  three_kingdoms, series, fan, diplomacy, battle...  \n",
       "33  faction, army, diplomacy, vassal, war, player,...  \n",
       "34  faction, army, diplomacy, vassal, war, player,...  "
      ]
     },
     "execution_count": 580,
     "metadata": {},
     "output_type": "execute_result"
    }
   ],
   "source": [
    "df_sent_dom_topic[30:35]"
   ]
  },
  {
   "cell_type": "markdown",
   "metadata": {},
   "source": [
    "# Critical mistakes, easy to miss\n",
    "I made the mistake of feeding my Phraser the wrong list of sentences earlier. I should have fed it the main training set instead of the test set. It did not form n-grams like \"best_total_war\" at all, which had negative impact when I first checked the data.\n",
    "\n",
    "Also, more errors:\n",
    "\n",
    "I have been training the ngram Phraser on the wrong dataset! I applied it correctly when training the LDA Model, but I didn't replicate it correctly when running the bigram Phraser on subsequent models. It did not combine 'shogun' and 'two' to form 'shogun_two' because I didn't take 'one', 'two', and 'three' out of the first run of stopwords each time.\n",
    "\n",
    "I will take care of these breaking points because the program can still run, but the analysis will be broken due to an incorrectly trained Phraser."
   ]
  },
  {
   "cell_type": "markdown",
   "metadata": {},
   "source": [
    "# It's not perfect\n",
    "\n",
    "SpaCy will read some nouns as verbs or other forms of the word, e.g. \"map\". It appears as a token in an earlier review, but in a later review the word \"map\" is missing from tokens.\n",
    "\n",
    "Could be something to improve, but it could require hard-coding it so that it doesn't output this problem again."
   ]
  },
  {
   "cell_type": "code",
   "execution_count": null,
   "metadata": {},
   "outputs": [],
   "source": []
  },
  {
   "cell_type": "code",
   "execution_count": null,
   "metadata": {},
   "outputs": [],
   "source": []
  }
 ],
 "metadata": {
  "kernelspec": {
   "display_name": "Python 3",
   "language": "python",
   "name": "python3"
  },
  "language_info": {
   "codemirror_mode": {
    "name": "ipython",
    "version": 3
   },
   "file_extension": ".py",
   "mimetype": "text/x-python",
   "name": "python",
   "nbconvert_exporter": "python",
   "pygments_lexer": "ipython3",
   "version": "3.7.3"
  }
 },
 "nbformat": 4,
 "nbformat_minor": 2
}
