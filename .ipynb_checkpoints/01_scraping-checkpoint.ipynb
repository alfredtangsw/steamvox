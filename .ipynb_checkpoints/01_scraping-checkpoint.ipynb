{
 "cells": [
  {
   "cell_type": "markdown",
   "metadata": {},
   "source": [
    "# Step 01 - Scrape Reviews\n",
    "For scraping and preliminary EDA."
   ]
  },
  {
   "cell_type": "code",
   "execution_count": 2,
   "metadata": {},
   "outputs": [],
   "source": [
    "import numpy as np\n",
    "import pandas as pd\n",
    "import json\n",
    "\n",
    "import matplotlib.pyplot as plt\n",
    "\n",
    "import datetime\n",
    "import steamreviews\n",
    "\n",
    "%matplotlib inline"
   ]
  },
  {
   "cell_type": "code",
   "execution_count": 3,
   "metadata": {},
   "outputs": [
    {
     "name": "stdout",
     "output_type": "stream",
     "text": [
      "[appID = 779340] expected #reviews = 8235\n"
     ]
    }
   ],
   "source": [
    "#define params for steamreviews\n",
    "#steamreviews by woctezuma @ https://github.com/woctezuma/download-steam-reviews/tree/master/steamreviews\n",
    "\n",
    "request_params = dict()\n",
    "request_params['filter'] = 'recent'     #recent for reviews written within day_range; updated for reviews updated within day_range\n",
    "request_params['language'] = 'english'  #input language of choice\n",
    "request_params['day_range'] = '365'     #get reviews up to 1 year back from current date\n",
    "\n",
    "app_id = 779340     #Total War: Three Kingdoms appID\n",
    "\n",
    "review_dict, query_count = steamreviews.download_reviews_for_app_id(app_id, chosen_request_params=request_params)  #writes to a /data/ folder in same dir as this ipynb\n",
    "\n",
    "#Caveat: do not expect reliable performance during Steam sales. Steam API will throttle traffic, resulting in 502 Errors.\n",
    "#After some discussion and testing with the author during Summer Sale (July 2019), he has added error handling features and verbosity option for error reporting"
   ]
  },
  {
   "cell_type": "code",
   "execution_count": 7,
   "metadata": {},
   "outputs": [],
   "source": [
    "#read in data as json file; replace this JSON with any JSON scraped for a steam game using Steam game's JSON\n",
    "#Caveat: Do not expect many usable results from Free-To-Play (F2P) games. Most reviews on F2P games are essentially spam.\n",
    "with open('./data/review_779340_1.json') as jsonfile:\n",
    "    jayson = json.load(jsonfile)"
   ]
  },
  {
   "cell_type": "code",
   "execution_count": 8,
   "metadata": {},
   "outputs": [],
   "source": [
    "review_data = [v for v in jayson['reviews'].values()]\n",
    "author_key_list = list(review_data[0]['author'].keys())"
   ]
  },
  {
   "cell_type": "code",
   "execution_count": 9,
   "metadata": {},
   "outputs": [
    {
     "data": {
      "text/plain": [
       "8235"
      ]
     },
     "execution_count": 9,
     "metadata": {},
     "output_type": "execute_result"
    }
   ],
   "source": [
    "#check how many reviews there are in raw data\n",
    "\n",
    "#actual number of reviews may not always match scraping tool's expected reviews; Steam reviews can be deleted or hidden\n",
    "\n",
    "len(review_data)"
   ]
  },
  {
   "cell_type": "code",
   "execution_count": 10,
   "metadata": {},
   "outputs": [
    {
     "data": {
      "text/plain": [
       "'2019-05-23'"
      ]
     },
     "execution_count": 10,
     "metadata": {},
     "output_type": "execute_result"
    }
   ],
   "source": [
    "#earliest review\n",
    "datetime.datetime.utcfromtimestamp(min([review_data[i]['timestamp_created'] for i in range(len(review_data))])).strftime('%Y-%m-%d')"
   ]
  },
  {
   "cell_type": "code",
   "execution_count": 11,
   "metadata": {},
   "outputs": [
    {
     "data": {
      "text/plain": [
       "'2019-07-08'"
      ]
     },
     "execution_count": 11,
     "metadata": {},
     "output_type": "execute_result"
    }
   ],
   "source": [
    "#latest review (as at time when project commenced)\n",
    "datetime.datetime.utcfromtimestamp(max([review_data[i]['timestamp_created'] for i in range(len(review_data))])).strftime('%Y-%m-%d')"
   ]
  },
  {
   "cell_type": "code",
   "execution_count": 12,
   "metadata": {},
   "outputs": [
    {
     "data": {
      "text/plain": [
       "1562591773"
      ]
     },
     "execution_count": 12,
     "metadata": {},
     "output_type": "execute_result"
    }
   ],
   "source": [
    "#use this UNIX timestamp to filter out old data when making a test dataset later\n",
    "max([review_data[i]['timestamp_created'] for i in range(len(review_data))])"
   ]
  },
  {
   "cell_type": "code",
   "execution_count": 13,
   "metadata": {},
   "outputs": [],
   "source": [
    "#for definition of each field in the JSON files, visit (here)[https://partner.steamgames.com/doc/store/getreviews]\n",
    "#tested for loop at first, but comprehensions much faster. Completed the operation within 1 minute vs for loop incomplete after 10 min\n",
    "\n",
    "steam_dict = {'recommendationid':[review_data[i]['recommendationid'] for i in range(len(review_data))],\n",
    "              \n",
    "              'author_steamid':[review_data[i]['author']['steamid'] for i in range(len(review_data))],\n",
    "              \n",
    "              'author_num_games_owned':[review_data[i]['author']['num_games_owned'] for i in range(len(review_data))],\n",
    "              \n",
    "              'author_num_reviews':[review_data[i]['author']['num_reviews'] for i in range(len(review_data))],\n",
    "              \n",
    "              'author_playtime_forever':[review_data[i]['author']['playtime_forever'] for i in range(len(review_data))], \n",
    "              #data recorded in minutes - independently verified: https://steamcommunity.com/id/mydogsnameissnowballball/recommended/730/ - 43586 divided by 724.6h on record = 60 min\n",
    "              \n",
    "              'author_playtime_last_two_weeks':[review_data[i]['author']['playtime_last_two_weeks'] for i in range(len(review_data))],\n",
    "              \n",
    "              'author_last_played':[review_data[i]['author']['last_played'] for i in range(len(review_data))],\n",
    "              \n",
    "              'review':[review_data[i]['review'] for i in range(len(review_data))],\n",
    "              \n",
    "              'timestamp_created':[review_data[i]['timestamp_created'] for i in range(len(review_data))],\n",
    "              \n",
    "              'timestamp_updated':[review_data[i]['timestamp_updated'] for i in range(len(review_data))],\n",
    "              \n",
    "              'voted_up':[review_data[i]['voted_up'] for i in range(len(review_data))],\n",
    "              \n",
    "              'weighted_vote_score':[review_data[i]['weighted_vote_score'] for i in range(len(review_data))],\n",
    "              \n",
    "              'steam_purchase':[review_data[i]['steam_purchase'] for i in range(len(review_data))],\n",
    "              \n",
    "              'received_for_free':[review_data[i]['received_for_free'] for i in range(len(review_data))],\n",
    "              \n",
    "              'written_during_early_access':[review_data[i]['written_during_early_access'] for i in range(len(review_data))]}"
   ]
  },
  {
   "cell_type": "code",
   "execution_count": 14,
   "metadata": {},
   "outputs": [
    {
     "data": {
      "text/html": [
       "<div>\n",
       "<style scoped>\n",
       "    .dataframe tbody tr th:only-of-type {\n",
       "        vertical-align: middle;\n",
       "    }\n",
       "\n",
       "    .dataframe tbody tr th {\n",
       "        vertical-align: top;\n",
       "    }\n",
       "\n",
       "    .dataframe thead th {\n",
       "        text-align: right;\n",
       "    }\n",
       "</style>\n",
       "<table border=\"1\" class=\"dataframe\">\n",
       "  <thead>\n",
       "    <tr style=\"text-align: right;\">\n",
       "      <th></th>\n",
       "      <th>recommendationid</th>\n",
       "      <th>author_steamid</th>\n",
       "      <th>author_num_games_owned</th>\n",
       "      <th>author_num_reviews</th>\n",
       "      <th>author_playtime_forever</th>\n",
       "      <th>author_playtime_last_two_weeks</th>\n",
       "      <th>author_last_played</th>\n",
       "      <th>review</th>\n",
       "      <th>timestamp_created</th>\n",
       "      <th>timestamp_updated</th>\n",
       "      <th>voted_up</th>\n",
       "      <th>weighted_vote_score</th>\n",
       "      <th>steam_purchase</th>\n",
       "      <th>received_for_free</th>\n",
       "      <th>written_during_early_access</th>\n",
       "    </tr>\n",
       "  </thead>\n",
       "  <tbody>\n",
       "    <tr>\n",
       "      <th>0</th>\n",
       "      <td>53962547</td>\n",
       "      <td>76561198208274176</td>\n",
       "      <td>133</td>\n",
       "      <td>3</td>\n",
       "      <td>4108</td>\n",
       "      <td>293</td>\n",
       "      <td>1562591786</td>\n",
       "      <td>It's finally here.</td>\n",
       "      <td>1562591773</td>\n",
       "      <td>1562591773</td>\n",
       "      <td>True</td>\n",
       "      <td>0</td>\n",
       "      <td>True</td>\n",
       "      <td>False</td>\n",
       "      <td>False</td>\n",
       "    </tr>\n",
       "    <tr>\n",
       "      <th>1</th>\n",
       "      <td>53962105</td>\n",
       "      <td>76561198169291439</td>\n",
       "      <td>35</td>\n",
       "      <td>5</td>\n",
       "      <td>9078</td>\n",
       "      <td>1901</td>\n",
       "      <td>1562591587</td>\n",
       "      <td>Well for me game still tons of work. i like it...</td>\n",
       "      <td>1562590376</td>\n",
       "      <td>1562590376</td>\n",
       "      <td>False</td>\n",
       "      <td>0</td>\n",
       "      <td>False</td>\n",
       "      <td>False</td>\n",
       "      <td>False</td>\n",
       "    </tr>\n",
       "    <tr>\n",
       "      <th>2</th>\n",
       "      <td>53959390</td>\n",
       "      <td>76561197994636073</td>\n",
       "      <td>794</td>\n",
       "      <td>13</td>\n",
       "      <td>898</td>\n",
       "      <td>898</td>\n",
       "      <td>1562577496</td>\n",
       "      <td>I pursued Lu Bu. Now I [b]AM[/b] LU BU.</td>\n",
       "      <td>1562581870</td>\n",
       "      <td>1562581870</td>\n",
       "      <td>True</td>\n",
       "      <td>0</td>\n",
       "      <td>True</td>\n",
       "      <td>False</td>\n",
       "      <td>False</td>\n",
       "    </tr>\n",
       "    <tr>\n",
       "      <th>3</th>\n",
       "      <td>53959215</td>\n",
       "      <td>76561198165224929</td>\n",
       "      <td>85</td>\n",
       "      <td>2</td>\n",
       "      <td>2762</td>\n",
       "      <td>321</td>\n",
       "      <td>1562585325</td>\n",
       "      <td>Good, it's nice</td>\n",
       "      <td>1562581291</td>\n",
       "      <td>1562581291</td>\n",
       "      <td>True</td>\n",
       "      <td>0</td>\n",
       "      <td>True</td>\n",
       "      <td>False</td>\n",
       "      <td>False</td>\n",
       "    </tr>\n",
       "    <tr>\n",
       "      <th>4</th>\n",
       "      <td>53958358</td>\n",
       "      <td>76561198005463784</td>\n",
       "      <td>136</td>\n",
       "      <td>1</td>\n",
       "      <td>13120</td>\n",
       "      <td>2389</td>\n",
       "      <td>1562544519</td>\n",
       "      <td>Absolutely great game. \\nAll the new diplomacy...</td>\n",
       "      <td>1562578221</td>\n",
       "      <td>1562578221</td>\n",
       "      <td>True</td>\n",
       "      <td>0</td>\n",
       "      <td>True</td>\n",
       "      <td>False</td>\n",
       "      <td>False</td>\n",
       "    </tr>\n",
       "  </tbody>\n",
       "</table>\n",
       "</div>"
      ],
      "text/plain": [
       "  recommendationid     author_steamid  author_num_games_owned  \\\n",
       "0         53962547  76561198208274176                     133   \n",
       "1         53962105  76561198169291439                      35   \n",
       "2         53959390  76561197994636073                     794   \n",
       "3         53959215  76561198165224929                      85   \n",
       "4         53958358  76561198005463784                     136   \n",
       "\n",
       "   author_num_reviews  author_playtime_forever  \\\n",
       "0                   3                     4108   \n",
       "1                   5                     9078   \n",
       "2                  13                      898   \n",
       "3                   2                     2762   \n",
       "4                   1                    13120   \n",
       "\n",
       "   author_playtime_last_two_weeks  author_last_played  \\\n",
       "0                             293          1562591786   \n",
       "1                            1901          1562591587   \n",
       "2                             898          1562577496   \n",
       "3                             321          1562585325   \n",
       "4                            2389          1562544519   \n",
       "\n",
       "                                              review  timestamp_created  \\\n",
       "0                                 It's finally here.         1562591773   \n",
       "1  Well for me game still tons of work. i like it...         1562590376   \n",
       "2            I pursued Lu Bu. Now I [b]AM[/b] LU BU.         1562581870   \n",
       "3                                    Good, it's nice         1562581291   \n",
       "4  Absolutely great game. \\nAll the new diplomacy...         1562578221   \n",
       "\n",
       "   timestamp_updated  voted_up weighted_vote_score  steam_purchase  \\\n",
       "0         1562591773      True                   0            True   \n",
       "1         1562590376     False                   0           False   \n",
       "2         1562581870      True                   0            True   \n",
       "3         1562581291      True                   0            True   \n",
       "4         1562578221      True                   0            True   \n",
       "\n",
       "   received_for_free  written_during_early_access  \n",
       "0              False                        False  \n",
       "1              False                        False  \n",
       "2              False                        False  \n",
       "3              False                        False  \n",
       "4              False                        False  "
      ]
     },
     "execution_count": 14,
     "metadata": {},
     "output_type": "execute_result"
    }
   ],
   "source": [
    "df = pd.DataFrame(steam_dict)\n",
    "df.head()"
   ]
  },
  {
   "cell_type": "code",
   "execution_count": 16,
   "metadata": {},
   "outputs": [
    {
     "data": {
      "text/plain": [
       "0"
      ]
     },
     "execution_count": 16,
     "metadata": {},
     "output_type": "execute_result"
    }
   ],
   "source": [
    "#check for duplicate reviews\n",
    "\n",
    "abs(len(df['recommendationid'].unique()) - len(df))"
   ]
  },
  {
   "cell_type": "code",
   "execution_count": 338,
   "metadata": {},
   "outputs": [
    {
     "data": {
      "text/plain": [
       "recommendationid                  object\n",
       "author_steamid                    object\n",
       "author_num_games_owned             int64\n",
       "author_num_reviews                 int64\n",
       "author_playtime_forever            int64\n",
       "author_playtime_last_two_weeks     int64\n",
       "author_last_played                 int64\n",
       "review                            object\n",
       "timestamp_created                  int64\n",
       "timestamp_updated                  int64\n",
       "voted_up                            bool\n",
       "weighted_vote_score               object\n",
       "steam_purchase                      bool\n",
       "received_for_free                   bool\n",
       "written_during_early_access         bool\n",
       "dtype: object"
      ]
     },
     "execution_count": 338,
     "metadata": {},
     "output_type": "execute_result"
    }
   ],
   "source": [
    "#check dtypes\n",
    "df.dtypes"
   ]
  },
  {
   "cell_type": "code",
   "execution_count": 17,
   "metadata": {},
   "outputs": [
    {
     "data": {
      "text/html": [
       "<div>\n",
       "<style scoped>\n",
       "    .dataframe tbody tr th:only-of-type {\n",
       "        vertical-align: middle;\n",
       "    }\n",
       "\n",
       "    .dataframe tbody tr th {\n",
       "        vertical-align: top;\n",
       "    }\n",
       "\n",
       "    .dataframe thead th {\n",
       "        text-align: right;\n",
       "    }\n",
       "</style>\n",
       "<table border=\"1\" class=\"dataframe\">\n",
       "  <thead>\n",
       "    <tr style=\"text-align: right;\">\n",
       "      <th></th>\n",
       "      <th>recommendationid</th>\n",
       "      <th>author_steamid</th>\n",
       "      <th>author_num_games_owned</th>\n",
       "      <th>author_num_reviews</th>\n",
       "      <th>author_playtime_forever</th>\n",
       "      <th>author_playtime_last_two_weeks</th>\n",
       "      <th>author_last_played</th>\n",
       "      <th>review</th>\n",
       "      <th>timestamp_created</th>\n",
       "      <th>timestamp_updated</th>\n",
       "      <th>voted_up</th>\n",
       "      <th>weighted_vote_score</th>\n",
       "      <th>steam_purchase</th>\n",
       "      <th>received_for_free</th>\n",
       "      <th>written_during_early_access</th>\n",
       "    </tr>\n",
       "  </thead>\n",
       "  <tbody>\n",
       "    <tr>\n",
       "      <th>0</th>\n",
       "      <td>53962547</td>\n",
       "      <td>76561198208274176</td>\n",
       "      <td>133</td>\n",
       "      <td>3</td>\n",
       "      <td>4108</td>\n",
       "      <td>293</td>\n",
       "      <td>1562591786</td>\n",
       "      <td>It's finally here.</td>\n",
       "      <td>1562591773</td>\n",
       "      <td>1562591773</td>\n",
       "      <td>True</td>\n",
       "      <td>0</td>\n",
       "      <td>True</td>\n",
       "      <td>False</td>\n",
       "      <td>False</td>\n",
       "    </tr>\n",
       "    <tr>\n",
       "      <th>1</th>\n",
       "      <td>53962105</td>\n",
       "      <td>76561198169291439</td>\n",
       "      <td>35</td>\n",
       "      <td>5</td>\n",
       "      <td>9078</td>\n",
       "      <td>1901</td>\n",
       "      <td>1562591587</td>\n",
       "      <td>Well for me game still tons of work. i like it...</td>\n",
       "      <td>1562590376</td>\n",
       "      <td>1562590376</td>\n",
       "      <td>False</td>\n",
       "      <td>0</td>\n",
       "      <td>False</td>\n",
       "      <td>False</td>\n",
       "      <td>False</td>\n",
       "    </tr>\n",
       "    <tr>\n",
       "      <th>2</th>\n",
       "      <td>53959390</td>\n",
       "      <td>76561197994636073</td>\n",
       "      <td>794</td>\n",
       "      <td>13</td>\n",
       "      <td>898</td>\n",
       "      <td>898</td>\n",
       "      <td>1562577496</td>\n",
       "      <td>I pursued Lu Bu. Now I [b]AM[/b] LU BU.</td>\n",
       "      <td>1562581870</td>\n",
       "      <td>1562581870</td>\n",
       "      <td>True</td>\n",
       "      <td>0</td>\n",
       "      <td>True</td>\n",
       "      <td>False</td>\n",
       "      <td>False</td>\n",
       "    </tr>\n",
       "    <tr>\n",
       "      <th>3</th>\n",
       "      <td>53959215</td>\n",
       "      <td>76561198165224929</td>\n",
       "      <td>85</td>\n",
       "      <td>2</td>\n",
       "      <td>2762</td>\n",
       "      <td>321</td>\n",
       "      <td>1562585325</td>\n",
       "      <td>Good, it's nice</td>\n",
       "      <td>1562581291</td>\n",
       "      <td>1562581291</td>\n",
       "      <td>True</td>\n",
       "      <td>0</td>\n",
       "      <td>True</td>\n",
       "      <td>False</td>\n",
       "      <td>False</td>\n",
       "    </tr>\n",
       "    <tr>\n",
       "      <th>4</th>\n",
       "      <td>53958358</td>\n",
       "      <td>76561198005463784</td>\n",
       "      <td>136</td>\n",
       "      <td>1</td>\n",
       "      <td>13120</td>\n",
       "      <td>2389</td>\n",
       "      <td>1562544519</td>\n",
       "      <td>Absolutely great game. \\nAll the new diplomacy...</td>\n",
       "      <td>1562578221</td>\n",
       "      <td>1562578221</td>\n",
       "      <td>True</td>\n",
       "      <td>0</td>\n",
       "      <td>True</td>\n",
       "      <td>False</td>\n",
       "      <td>False</td>\n",
       "    </tr>\n",
       "  </tbody>\n",
       "</table>\n",
       "</div>"
      ],
      "text/plain": [
       "  recommendationid     author_steamid  author_num_games_owned  \\\n",
       "0         53962547  76561198208274176                     133   \n",
       "1         53962105  76561198169291439                      35   \n",
       "2         53959390  76561197994636073                     794   \n",
       "3         53959215  76561198165224929                      85   \n",
       "4         53958358  76561198005463784                     136   \n",
       "\n",
       "   author_num_reviews  author_playtime_forever  \\\n",
       "0                   3                     4108   \n",
       "1                   5                     9078   \n",
       "2                  13                      898   \n",
       "3                   2                     2762   \n",
       "4                   1                    13120   \n",
       "\n",
       "   author_playtime_last_two_weeks  author_last_played  \\\n",
       "0                             293          1562591786   \n",
       "1                            1901          1562591587   \n",
       "2                             898          1562577496   \n",
       "3                             321          1562585325   \n",
       "4                            2389          1562544519   \n",
       "\n",
       "                                              review  timestamp_created  \\\n",
       "0                                 It's finally here.         1562591773   \n",
       "1  Well for me game still tons of work. i like it...         1562590376   \n",
       "2            I pursued Lu Bu. Now I [b]AM[/b] LU BU.         1562581870   \n",
       "3                                    Good, it's nice         1562581291   \n",
       "4  Absolutely great game. \\nAll the new diplomacy...         1562578221   \n",
       "\n",
       "   timestamp_updated  voted_up weighted_vote_score  steam_purchase  \\\n",
       "0         1562591773      True                   0            True   \n",
       "1         1562590376     False                   0           False   \n",
       "2         1562581870      True                   0            True   \n",
       "3         1562581291      True                   0            True   \n",
       "4         1562578221      True                   0            True   \n",
       "\n",
       "   received_for_free  written_during_early_access  \n",
       "0              False                        False  \n",
       "1              False                        False  \n",
       "2              False                        False  \n",
       "3              False                        False  \n",
       "4              False                        False  "
      ]
     },
     "execution_count": 17,
     "metadata": {},
     "output_type": "execute_result"
    }
   ],
   "source": [
    "#preview data\n",
    "df.head()"
   ]
  },
  {
   "cell_type": "code",
   "execution_count": 18,
   "metadata": {},
   "outputs": [
    {
     "data": {
      "text/html": [
       "<div>\n",
       "<style scoped>\n",
       "    .dataframe tbody tr th:only-of-type {\n",
       "        vertical-align: middle;\n",
       "    }\n",
       "\n",
       "    .dataframe tbody tr th {\n",
       "        vertical-align: top;\n",
       "    }\n",
       "\n",
       "    .dataframe thead th {\n",
       "        text-align: right;\n",
       "    }\n",
       "</style>\n",
       "<table border=\"1\" class=\"dataframe\">\n",
       "  <thead>\n",
       "    <tr style=\"text-align: right;\">\n",
       "      <th></th>\n",
       "      <th>recommendationid</th>\n",
       "      <th>author_steamid</th>\n",
       "      <th>author_num_games_owned</th>\n",
       "      <th>author_num_reviews</th>\n",
       "      <th>author_playtime_forever</th>\n",
       "      <th>author_playtime_last_two_weeks</th>\n",
       "      <th>author_last_played</th>\n",
       "      <th>review</th>\n",
       "      <th>timestamp_created</th>\n",
       "      <th>timestamp_updated</th>\n",
       "      <th>voted_up</th>\n",
       "      <th>weighted_vote_score</th>\n",
       "      <th>steam_purchase</th>\n",
       "      <th>received_for_free</th>\n",
       "      <th>written_during_early_access</th>\n",
       "    </tr>\n",
       "  </thead>\n",
       "  <tbody>\n",
       "    <tr>\n",
       "      <th>8230</th>\n",
       "      <td>50776360</td>\n",
       "      <td>76561198139831915</td>\n",
       "      <td>13</td>\n",
       "      <td>1</td>\n",
       "      <td>2047</td>\n",
       "      <td>171</td>\n",
       "      <td>1561968832</td>\n",
       "      <td>game simply dose not load on 1st hour release ...</td>\n",
       "      <td>1558596424</td>\n",
       "      <td>1558596424</td>\n",
       "      <td>False</td>\n",
       "      <td>0.221157893538475037</td>\n",
       "      <td>False</td>\n",
       "      <td>False</td>\n",
       "      <td>False</td>\n",
       "    </tr>\n",
       "    <tr>\n",
       "      <th>8231</th>\n",
       "      <td>50776299</td>\n",
       "      <td>76561198051524426</td>\n",
       "      <td>137</td>\n",
       "      <td>2</td>\n",
       "      <td>6702</td>\n",
       "      <td>1191</td>\n",
       "      <td>1562587614</td>\n",
       "      <td>i haven't even play it but i just to give cred...</td>\n",
       "      <td>1558596164</td>\n",
       "      <td>1558596164</td>\n",
       "      <td>True</td>\n",
       "      <td>0.355761975049972534</td>\n",
       "      <td>True</td>\n",
       "      <td>False</td>\n",
       "      <td>False</td>\n",
       "    </tr>\n",
       "    <tr>\n",
       "      <th>8232</th>\n",
       "      <td>50776268</td>\n",
       "      <td>76561197998239707</td>\n",
       "      <td>190</td>\n",
       "      <td>11</td>\n",
       "      <td>2351</td>\n",
       "      <td>39</td>\n",
       "      <td>1562026953</td>\n",
       "      <td>beautiful    a Great addition to the franchise</td>\n",
       "      <td>1558595971</td>\n",
       "      <td>1558595971</td>\n",
       "      <td>True</td>\n",
       "      <td>0.459968507289886475</td>\n",
       "      <td>True</td>\n",
       "      <td>False</td>\n",
       "      <td>False</td>\n",
       "    </tr>\n",
       "    <tr>\n",
       "      <th>8233</th>\n",
       "      <td>50776247</td>\n",
       "      <td>76561198048592111</td>\n",
       "      <td>138</td>\n",
       "      <td>13</td>\n",
       "      <td>9099</td>\n",
       "      <td>641</td>\n",
       "      <td>1562517286</td>\n",
       "      <td>Huahahaha....hahahaha....</td>\n",
       "      <td>1558595851</td>\n",
       "      <td>1558595851</td>\n",
       "      <td>True</td>\n",
       "      <td>0.320511430501937866</td>\n",
       "      <td>False</td>\n",
       "      <td>False</td>\n",
       "      <td>False</td>\n",
       "    </tr>\n",
       "    <tr>\n",
       "      <th>8234</th>\n",
       "      <td>50776089</td>\n",
       "      <td>76561197979911851</td>\n",
       "      <td>18545</td>\n",
       "      <td>73</td>\n",
       "      <td>1298</td>\n",
       "      <td>0</td>\n",
       "      <td>1558687395</td>\n",
       "      <td>[h1]Total War: THREE KINGDOMS[/h1]\\n\\nTotal Wa...</td>\n",
       "      <td>1558594622</td>\n",
       "      <td>1558598676</td>\n",
       "      <td>True</td>\n",
       "      <td>0.80980914831161499</td>\n",
       "      <td>False</td>\n",
       "      <td>False</td>\n",
       "      <td>False</td>\n",
       "    </tr>\n",
       "  </tbody>\n",
       "</table>\n",
       "</div>"
      ],
      "text/plain": [
       "     recommendationid     author_steamid  author_num_games_owned  \\\n",
       "8230         50776360  76561198139831915                      13   \n",
       "8231         50776299  76561198051524426                     137   \n",
       "8232         50776268  76561197998239707                     190   \n",
       "8233         50776247  76561198048592111                     138   \n",
       "8234         50776089  76561197979911851                   18545   \n",
       "\n",
       "      author_num_reviews  author_playtime_forever  \\\n",
       "8230                   1                     2047   \n",
       "8231                   2                     6702   \n",
       "8232                  11                     2351   \n",
       "8233                  13                     9099   \n",
       "8234                  73                     1298   \n",
       "\n",
       "      author_playtime_last_two_weeks  author_last_played  \\\n",
       "8230                             171          1561968832   \n",
       "8231                            1191          1562587614   \n",
       "8232                              39          1562026953   \n",
       "8233                             641          1562517286   \n",
       "8234                               0          1558687395   \n",
       "\n",
       "                                                 review  timestamp_created  \\\n",
       "8230  game simply dose not load on 1st hour release ...         1558596424   \n",
       "8231  i haven't even play it but i just to give cred...         1558596164   \n",
       "8232     beautiful    a Great addition to the franchise         1558595971   \n",
       "8233                          Huahahaha....hahahaha....         1558595851   \n",
       "8234  [h1]Total War: THREE KINGDOMS[/h1]\\n\\nTotal Wa...         1558594622   \n",
       "\n",
       "      timestamp_updated  voted_up   weighted_vote_score  steam_purchase  \\\n",
       "8230         1558596424     False  0.221157893538475037           False   \n",
       "8231         1558596164      True  0.355761975049972534            True   \n",
       "8232         1558595971      True  0.459968507289886475            True   \n",
       "8233         1558595851      True  0.320511430501937866           False   \n",
       "8234         1558598676      True   0.80980914831161499           False   \n",
       "\n",
       "      received_for_free  written_during_early_access  \n",
       "8230              False                        False  \n",
       "8231              False                        False  \n",
       "8232              False                        False  \n",
       "8233              False                        False  \n",
       "8234              False                        False  "
      ]
     },
     "execution_count": 18,
     "metadata": {},
     "output_type": "execute_result"
    }
   ],
   "source": [
    "df.tail()"
   ]
  },
  {
   "cell_type": "code",
   "execution_count": 20,
   "metadata": {},
   "outputs": [
    {
     "data": {
      "text/plain": [
       "True     0.898846\n",
       "False    0.101154\n",
       "Name: voted_up, dtype: float64"
      ]
     },
     "execution_count": 20,
     "metadata": {},
     "output_type": "execute_result"
    }
   ],
   "source": [
    "#check class balance of player-provided sentiment label\n",
    "df['voted_up'].value_counts(normalize=True)"
   ]
  },
  {
   "cell_type": "code",
   "execution_count": 21,
   "metadata": {},
   "outputs": [
    {
     "data": {
      "text/plain": [
       "dtype('float64')"
      ]
     },
     "execution_count": 21,
     "metadata": {},
     "output_type": "execute_result"
    }
   ],
   "source": [
    "# vote score is a string -- change to a float for plotting\n",
    "df['weighted_vote_score'] = df['weighted_vote_score'].map(lambda x: float(x))\n",
    "df['weighted_vote_score'].dtype"
   ]
  },
  {
   "cell_type": "code",
   "execution_count": 22,
   "metadata": {},
   "outputs": [
    {
     "data": {
      "text/plain": [
       "(array([5900.,   10.,   32.,  128.,  661., 1405.,   50.,   23.,   16.,\n",
       "          10.]),\n",
       " array([0.        , 0.09546572, 0.19093144, 0.28639716, 0.38186288,\n",
       "        0.4773286 , 0.57279432, 0.66826004, 0.76372576, 0.85919148,\n",
       "        0.9546572 ]),\n",
       " <a list of 10 Patch objects>)"
      ]
     },
     "execution_count": 22,
     "metadata": {},
     "output_type": "execute_result"
    },
    {
     "data": {
      "image/png": "[encoded data removed]",
      "text/plain": [
       "<Figure size 432x288 with 1 Axes>"
      ]
     },
     "metadata": {
      "needs_background": "light"
     },
     "output_type": "display_data"
    }
   ],
   "source": [
    "plt.hist(df['weighted_vote_score'])"
   ]
  },
  {
   "cell_type": "markdown",
   "metadata": {},
   "source": [
    "# Weighted Vote Scores - Not Using\n",
    "Most reviews have a weighted vote score of 0. This is scored according to Steam's own methodology, and is a black box. \n",
    "\n",
    "No documentation is available. (At least, I couldn't find any.)\n",
    "\n",
    "It may make sense to ignore the weighted score then, since it is designed for Valve's own purposes and not this particular analysis."
   ]
  },
  {
   "cell_type": "code",
   "execution_count": 23,
   "metadata": {},
   "outputs": [
    {
     "data": {
      "text/plain": [
       "False    0.989678\n",
       "True     0.010322\n",
       "Name: received_for_free, dtype: float64"
      ]
     },
     "execution_count": 23,
     "metadata": {},
     "output_type": "execute_result"
    }
   ],
   "source": [
    "#check how many people didn't pay for this game\n",
    "\n",
    "df['received_for_free'].value_counts(normalize=True)"
   ]
  },
  {
   "cell_type": "code",
   "execution_count": 24,
   "metadata": {},
   "outputs": [
    {
     "data": {
      "text/plain": [
       "True     0.721919\n",
       "False    0.278081\n",
       "Name: steam_purchase, dtype: float64"
      ]
     },
     "execution_count": 24,
     "metadata": {},
     "output_type": "execute_result"
    }
   ],
   "source": [
    "#check if they purchased this game on steam (possible for games to be purchased on other sites and be redeemed on Steam)\n",
    "\n",
    "df['steam_purchase'].value_counts(normalize=True)"
   ]
  },
  {
   "cell_type": "markdown",
   "metadata": {},
   "source": [
    "# References\n",
    "https://github.com/woctezuma/download-steam-reviews/tree/master/steamreviews (Thank you, woctezuma, for creating this tool for public use!)"
   ]
  }
 ],
 "metadata": {
  "kernelspec": {
   "display_name": "Python 3",
   "language": "python",
   "name": "python3"
  },
  "language_info": {
   "codemirror_mode": {
    "name": "ipython",
    "version": 3
   },
   "file_extension": ".py",
   "mimetype": "text/x-python",
   "name": "python",
   "nbconvert_exporter": "python",
   "pygments_lexer": "ipython3",
   "version": "3.7.3"
  }
 },
 "nbformat": 4,
 "nbformat_minor": 2
}
