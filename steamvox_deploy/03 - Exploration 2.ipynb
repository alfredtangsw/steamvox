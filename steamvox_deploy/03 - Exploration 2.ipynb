{
 "cells": [
  {
   "cell_type": "markdown",
   "metadata": {},
   "source": [
    "# Exploration 2\n",
    "This is a notebook for preliminary EDA on a small subset of Steam reviews, to be done while the full set of 250 games' reviews is downloaded."
   ]
  },
  {
   "cell_type": "code",
   "execution_count": 2,
   "metadata": {},
   "outputs": [],
   "source": [
    "import numpy as np\n",
    "import pandas as pd\n",
    "import json\n",
    "import spacy\n",
    "from nltk.tokenize import sent_tokenize, word_tokenize\n",
    "from nltk.stem import WordNetLemmatizer\n",
    "import matplotlib.pyplot as plt\n",
    "import datetime\n",
    "import steamreviews\n",
    "\n",
    "from vaderSentiment.vaderSentiment import SentimentIntensityAnalyzer\n",
    "#NOTE: DO NOT lemmatize text for VADER sentiment analysis!\n",
    "\n",
    "%matplotlib inline"
   ]
  },
  {
   "cell_type": "code",
   "execution_count": 3,
   "metadata": {},
   "outputs": [
    {
     "name": "stdout",
     "output_type": "stream",
     "text": [
      "[appID = 779340] expected #reviews = 8235\n"
     ]
    }
   ],
   "source": [
    "request_params = dict()\n",
    "request_params['filter'] = 'recent'\n",
    "request_params['language'] = 'english'\n",
    "request_params['day_range'] = '365'\n",
    "\n",
    "app_id = 779340\n",
    "review_dict, query_count = steamreviews.download_reviews_for_app_id(app_id, chosen_request_params=request_params)"
   ]
  },
  {
   "cell_type": "code",
   "execution_count": 3,
   "metadata": {},
   "outputs": [],
   "source": [
    "#read in a json file\n",
    "with open('./data/review_779340.json') as jsonfile:\n",
    "    jayson_570 = json.load(jsonfile)"
   ]
  },
  {
   "cell_type": "code",
   "execution_count": 4,
   "metadata": {},
   "outputs": [],
   "source": [
    "review_data = [v for v in jayson_570['reviews'].values()]\n",
    "author_key_list = list(review_data[0]['author'].keys())"
   ]
  },
  {
   "cell_type": "code",
   "execution_count": 5,
   "metadata": {},
   "outputs": [
    {
     "data": {
      "text/plain": [
       "8235"
      ]
     },
     "execution_count": 5,
     "metadata": {},
     "output_type": "execute_result"
    }
   ],
   "source": [
    "len(review_data)"
   ]
  },
  {
   "cell_type": "code",
   "execution_count": 6,
   "metadata": {},
   "outputs": [
    {
     "data": {
      "text/plain": [
       "'2019-05-23'"
      ]
     },
     "execution_count": 6,
     "metadata": {},
     "output_type": "execute_result"
    }
   ],
   "source": [
    "datetime.datetime.utcfromtimestamp(min([review_data[i]['timestamp_created'] for i in range(len(review_data))])).strftime('%Y-%m-%d')"
   ]
  },
  {
   "cell_type": "code",
   "execution_count": 7,
   "metadata": {},
   "outputs": [
    {
     "data": {
      "text/plain": [
       "'2019-07-08'"
      ]
     },
     "execution_count": 7,
     "metadata": {},
     "output_type": "execute_result"
    }
   ],
   "source": [
    "datetime.datetime.utcfromtimestamp(max([review_data[i]['timestamp_created'] for i in range(len(review_data))])).strftime('%Y-%m-%d')"
   ]
  },
  {
   "cell_type": "code",
   "execution_count": 9,
   "metadata": {},
   "outputs": [
    {
     "data": {
      "text/plain": [
       "1562591773"
      ]
     },
     "execution_count": 9,
     "metadata": {},
     "output_type": "execute_result"
    }
   ],
   "source": [
    "max([review_data[i]['timestamp_created'] for i in range(len(review_data))])"
   ]
  },
  {
   "cell_type": "code",
   "execution_count": 335,
   "metadata": {},
   "outputs": [],
   "source": [
    "#for definition of each field in the JSON files, visit (here)[https://partner.steamgames.com/doc/store/getreviews]\n",
    "\n",
    "steam_dict = {'recommendationid':[review_data[i]['recommendationid'] for i in range(len(review_data))],\n",
    "              \n",
    "              'author_steamid':[review_data[i]['author']['steamid'] for i in range(len(review_data))],\n",
    "              \n",
    "              'author_num_games_owned':[review_data[i]['author']['num_games_owned'] for i in range(len(review_data))],\n",
    "              \n",
    "              'author_num_reviews':[review_data[i]['author']['num_reviews'] for i in range(len(review_data))],\n",
    "              \n",
    "              'author_playtime_forever':[review_data[i]['author']['playtime_forever'] for i in range(len(review_data))], \n",
    "              #data recorded in minutes - independently verified: https://steamcommunity.com/id/mydogsnameissnowballball/recommended/730/ - 43586 divided by 724.6h on record = 60 min\n",
    "              \n",
    "              'author_playtime_last_two_weeks':[review_data[i]['author']['playtime_last_two_weeks'] for i in range(len(review_data))],\n",
    "              \n",
    "              'author_last_played':[review_data[i]['author']['last_played'] for i in range(len(review_data))],\n",
    "              \n",
    "              'review':[review_data[i]['review'] for i in range(len(review_data))],\n",
    "              \n",
    "              'timestamp_created':[review_data[i]['timestamp_created'] for i in range(len(review_data))],\n",
    "              \n",
    "              'timestamp_updated':[review_data[i]['timestamp_updated'] for i in range(len(review_data))],\n",
    "              \n",
    "              'voted_up':[review_data[i]['voted_up'] for i in range(len(review_data))],\n",
    "              \n",
    "              'weighted_vote_score':[review_data[i]['weighted_vote_score'] for i in range(len(review_data))],\n",
    "              \n",
    "              'steam_purchase':[review_data[i]['steam_purchase'] for i in range(len(review_data))],\n",
    "              \n",
    "              'received_for_free':[review_data[i]['received_for_free'] for i in range(len(review_data))],\n",
    "              \n",
    "              'written_during_early_access':[review_data[i]['written_during_early_access'] for i in range(len(review_data))]}"
   ]
  },
  {
   "cell_type": "code",
   "execution_count": 336,
   "metadata": {},
   "outputs": [
    {
     "data": {
      "text/html": [
       "<div>\n",
       "<style scoped>\n",
       "    .dataframe tbody tr th:only-of-type {\n",
       "        vertical-align: middle;\n",
       "    }\n",
       "\n",
       "    .dataframe tbody tr th {\n",
       "        vertical-align: top;\n",
       "    }\n",
       "\n",
       "    .dataframe thead th {\n",
       "        text-align: right;\n",
       "    }\n",
       "</style>\n",
       "<table border=\"1\" class=\"dataframe\">\n",
       "  <thead>\n",
       "    <tr style=\"text-align: right;\">\n",
       "      <th></th>\n",
       "      <th>recommendationid</th>\n",
       "      <th>author_steamid</th>\n",
       "      <th>author_num_games_owned</th>\n",
       "      <th>author_num_reviews</th>\n",
       "      <th>author_playtime_forever</th>\n",
       "      <th>author_playtime_last_two_weeks</th>\n",
       "      <th>author_last_played</th>\n",
       "      <th>review</th>\n",
       "      <th>timestamp_created</th>\n",
       "      <th>timestamp_updated</th>\n",
       "      <th>voted_up</th>\n",
       "      <th>weighted_vote_score</th>\n",
       "      <th>steam_purchase</th>\n",
       "      <th>received_for_free</th>\n",
       "      <th>written_during_early_access</th>\n",
       "    </tr>\n",
       "  </thead>\n",
       "  <tbody>\n",
       "    <tr>\n",
       "      <th>0</th>\n",
       "      <td>52863661</td>\n",
       "      <td>76561198284636356</td>\n",
       "      <td>0</td>\n",
       "      <td>1</td>\n",
       "      <td>50005</td>\n",
       "      <td>5778</td>\n",
       "      <td>1561989591</td>\n",
       "      <td>This is for summer sale</td>\n",
       "      <td>1561989688</td>\n",
       "      <td>1561989688</td>\n",
       "      <td>True</td>\n",
       "      <td>0</td>\n",
       "      <td>False</td>\n",
       "      <td>False</td>\n",
       "      <td>False</td>\n",
       "    </tr>\n",
       "    <tr>\n",
       "      <th>1</th>\n",
       "      <td>52863583</td>\n",
       "      <td>76561198046431039</td>\n",
       "      <td>257</td>\n",
       "      <td>4</td>\n",
       "      <td>4344</td>\n",
       "      <td>0</td>\n",
       "      <td>1538599976</td>\n",
       "      <td>shid game</td>\n",
       "      <td>1561989674</td>\n",
       "      <td>1561989674</td>\n",
       "      <td>False</td>\n",
       "      <td>0</td>\n",
       "      <td>False</td>\n",
       "      <td>False</td>\n",
       "      <td>False</td>\n",
       "    </tr>\n",
       "    <tr>\n",
       "      <th>2</th>\n",
       "      <td>52863496</td>\n",
       "      <td>76561198239500310</td>\n",
       "      <td>5</td>\n",
       "      <td>1</td>\n",
       "      <td>200804</td>\n",
       "      <td>1171</td>\n",
       "      <td>1561815091</td>\n",
       "      <td>cancer</td>\n",
       "      <td>1561989661</td>\n",
       "      <td>1561989661</td>\n",
       "      <td>True</td>\n",
       "      <td>0</td>\n",
       "      <td>False</td>\n",
       "      <td>False</td>\n",
       "      <td>False</td>\n",
       "    </tr>\n",
       "    <tr>\n",
       "      <th>3</th>\n",
       "      <td>52863454</td>\n",
       "      <td>76561198379483897</td>\n",
       "      <td>1</td>\n",
       "      <td>2</td>\n",
       "      <td>23878</td>\n",
       "      <td>320</td>\n",
       "      <td>1561968278</td>\n",
       "      <td>Awesome Game</td>\n",
       "      <td>1561989652</td>\n",
       "      <td>1561989652</td>\n",
       "      <td>True</td>\n",
       "      <td>0</td>\n",
       "      <td>False</td>\n",
       "      <td>False</td>\n",
       "      <td>False</td>\n",
       "    </tr>\n",
       "    <tr>\n",
       "      <th>4</th>\n",
       "      <td>52863437</td>\n",
       "      <td>76561198130775669</td>\n",
       "      <td>37</td>\n",
       "      <td>2</td>\n",
       "      <td>3386</td>\n",
       "      <td>0</td>\n",
       "      <td>1552091731</td>\n",
       "      <td>Can't say anything about the normal game, but ...</td>\n",
       "      <td>1561989649</td>\n",
       "      <td>1561989649</td>\n",
       "      <td>True</td>\n",
       "      <td>0</td>\n",
       "      <td>False</td>\n",
       "      <td>False</td>\n",
       "      <td>False</td>\n",
       "    </tr>\n",
       "  </tbody>\n",
       "</table>\n",
       "</div>"
      ],
      "text/plain": [
       "  recommendationid     author_steamid  author_num_games_owned  \\\n",
       "0         52863661  76561198284636356                       0   \n",
       "1         52863583  76561198046431039                     257   \n",
       "2         52863496  76561198239500310                       5   \n",
       "3         52863454  76561198379483897                       1   \n",
       "4         52863437  76561198130775669                      37   \n",
       "\n",
       "   author_num_reviews  author_playtime_forever  \\\n",
       "0                   1                    50005   \n",
       "1                   4                     4344   \n",
       "2                   1                   200804   \n",
       "3                   2                    23878   \n",
       "4                   2                     3386   \n",
       "\n",
       "   author_playtime_last_two_weeks  author_last_played  \\\n",
       "0                            5778          1561989591   \n",
       "1                               0          1538599976   \n",
       "2                            1171          1561815091   \n",
       "3                             320          1561968278   \n",
       "4                               0          1552091731   \n",
       "\n",
       "                                              review  timestamp_created  \\\n",
       "0                            This is for summer sale         1561989688   \n",
       "1                                          shid game         1561989674   \n",
       "2                                             cancer         1561989661   \n",
       "3                                       Awesome Game         1561989652   \n",
       "4  Can't say anything about the normal game, but ...         1561989649   \n",
       "\n",
       "   timestamp_updated  voted_up weighted_vote_score  steam_purchase  \\\n",
       "0         1561989688      True                   0           False   \n",
       "1         1561989674     False                   0           False   \n",
       "2         1561989661      True                   0           False   \n",
       "3         1561989652      True                   0           False   \n",
       "4         1561989649      True                   0           False   \n",
       "\n",
       "   received_for_free  written_during_early_access  \n",
       "0              False                        False  \n",
       "1              False                        False  \n",
       "2              False                        False  \n",
       "3              False                        False  \n",
       "4              False                        False  "
      ]
     },
     "execution_count": 336,
     "metadata": {},
     "output_type": "execute_result"
    }
   ],
   "source": [
    "df_570 = pd.DataFrame(steam_dict)\n",
    "df_570.head()"
   ]
  },
  {
   "cell_type": "code",
   "execution_count": 337,
   "metadata": {},
   "outputs": [
    {
     "data": {
      "text/plain": [
       "39483"
      ]
     },
     "execution_count": 337,
     "metadata": {},
     "output_type": "execute_result"
    }
   ],
   "source": [
    "len(df_570['recommendationid'].unique())"
   ]
  },
  {
   "cell_type": "code",
   "execution_count": 338,
   "metadata": {},
   "outputs": [
    {
     "data": {
      "text/plain": [
       "recommendationid                  object\n",
       "author_steamid                    object\n",
       "author_num_games_owned             int64\n",
       "author_num_reviews                 int64\n",
       "author_playtime_forever            int64\n",
       "author_playtime_last_two_weeks     int64\n",
       "author_last_played                 int64\n",
       "review                            object\n",
       "timestamp_created                  int64\n",
       "timestamp_updated                  int64\n",
       "voted_up                            bool\n",
       "weighted_vote_score               object\n",
       "steam_purchase                      bool\n",
       "received_for_free                   bool\n",
       "written_during_early_access         bool\n",
       "dtype: object"
      ]
     },
     "execution_count": 338,
     "metadata": {},
     "output_type": "execute_result"
    }
   ],
   "source": [
    "df_570.dtypes"
   ]
  },
  {
   "cell_type": "code",
   "execution_count": 339,
   "metadata": {},
   "outputs": [],
   "source": [
    "cols = list(review_data[0].keys())\n",
    "cols.remove('author')\n",
    "cols.remove('language')\n",
    "cols.remove('voted_up')\n",
    "cols.extend(author_key_list)\n",
    "review_df = pd.DataFrame(index=list(range(len(review_data))),columns=cols)"
   ]
  },
  {
   "cell_type": "code",
   "execution_count": 340,
   "metadata": {},
   "outputs": [
    {
     "data": {
      "text/html": [
       "<div>\n",
       "<style scoped>\n",
       "    .dataframe tbody tr th:only-of-type {\n",
       "        vertical-align: middle;\n",
       "    }\n",
       "\n",
       "    .dataframe tbody tr th {\n",
       "        vertical-align: top;\n",
       "    }\n",
       "\n",
       "    .dataframe thead th {\n",
       "        text-align: right;\n",
       "    }\n",
       "</style>\n",
       "<table border=\"1\" class=\"dataframe\">\n",
       "  <thead>\n",
       "    <tr style=\"text-align: right;\">\n",
       "      <th></th>\n",
       "      <th>recommendationid</th>\n",
       "      <th>author_steamid</th>\n",
       "      <th>author_num_games_owned</th>\n",
       "      <th>author_num_reviews</th>\n",
       "      <th>author_playtime_forever</th>\n",
       "      <th>author_playtime_last_two_weeks</th>\n",
       "      <th>author_last_played</th>\n",
       "      <th>review</th>\n",
       "      <th>timestamp_created</th>\n",
       "      <th>timestamp_updated</th>\n",
       "      <th>voted_up</th>\n",
       "      <th>weighted_vote_score</th>\n",
       "      <th>steam_purchase</th>\n",
       "      <th>received_for_free</th>\n",
       "      <th>written_during_early_access</th>\n",
       "    </tr>\n",
       "  </thead>\n",
       "  <tbody>\n",
       "    <tr>\n",
       "      <th>39478</th>\n",
       "      <td>43218554</td>\n",
       "      <td>76561198226892260</td>\n",
       "      <td>11</td>\n",
       "      <td>3</td>\n",
       "      <td>5683</td>\n",
       "      <td>0</td>\n",
       "      <td>1555529790</td>\n",
       "      <td>Eh</td>\n",
       "      <td>1530456245</td>\n",
       "      <td>1530456245</td>\n",
       "      <td>False</td>\n",
       "      <td>0</td>\n",
       "      <td>False</td>\n",
       "      <td>False</td>\n",
       "      <td>False</td>\n",
       "    </tr>\n",
       "    <tr>\n",
       "      <th>39479</th>\n",
       "      <td>43218313</td>\n",
       "      <td>76561198327110279</td>\n",
       "      <td>2</td>\n",
       "      <td>2</td>\n",
       "      <td>273826</td>\n",
       "      <td>5030</td>\n",
       "      <td>1561976649</td>\n",
       "      <td>Addictive &lt;3</td>\n",
       "      <td>1530455675</td>\n",
       "      <td>1530455675</td>\n",
       "      <td>True</td>\n",
       "      <td>0</td>\n",
       "      <td>False</td>\n",
       "      <td>False</td>\n",
       "      <td>False</td>\n",
       "    </tr>\n",
       "    <tr>\n",
       "      <th>39480</th>\n",
       "      <td>43218153</td>\n",
       "      <td>76561198427427512</td>\n",
       "      <td>4</td>\n",
       "      <td>1</td>\n",
       "      <td>8546</td>\n",
       "      <td>0</td>\n",
       "      <td>1559423588</td>\n",
       "      <td>love it</td>\n",
       "      <td>1530455226</td>\n",
       "      <td>1530455226</td>\n",
       "      <td>True</td>\n",
       "      <td>0</td>\n",
       "      <td>False</td>\n",
       "      <td>False</td>\n",
       "      <td>False</td>\n",
       "    </tr>\n",
       "    <tr>\n",
       "      <th>39481</th>\n",
       "      <td>43218066</td>\n",
       "      <td>76561198272170420</td>\n",
       "      <td>3</td>\n",
       "      <td>2</td>\n",
       "      <td>76272</td>\n",
       "      <td>129</td>\n",
       "      <td>1561786512</td>\n",
       "      <td>Dota 2 is a game you will never finish learnin...</td>\n",
       "      <td>1530455043</td>\n",
       "      <td>1542907578</td>\n",
       "      <td>True</td>\n",
       "      <td>0.523809552192687988</td>\n",
       "      <td>False</td>\n",
       "      <td>False</td>\n",
       "      <td>False</td>\n",
       "    </tr>\n",
       "    <tr>\n",
       "      <th>39482</th>\n",
       "      <td>43217892</td>\n",
       "      <td>76561198808466093</td>\n",
       "      <td>0</td>\n",
       "      <td>1</td>\n",
       "      <td>65609</td>\n",
       "      <td>157</td>\n",
       "      <td>1561907644</td>\n",
       "      <td>great dota</td>\n",
       "      <td>1530454697</td>\n",
       "      <td>1530454697</td>\n",
       "      <td>True</td>\n",
       "      <td>0</td>\n",
       "      <td>False</td>\n",
       "      <td>False</td>\n",
       "      <td>False</td>\n",
       "    </tr>\n",
       "  </tbody>\n",
       "</table>\n",
       "</div>"
      ],
      "text/plain": [
       "      recommendationid     author_steamid  author_num_games_owned  \\\n",
       "39478         43218554  76561198226892260                      11   \n",
       "39479         43218313  76561198327110279                       2   \n",
       "39480         43218153  76561198427427512                       4   \n",
       "39481         43218066  76561198272170420                       3   \n",
       "39482         43217892  76561198808466093                       0   \n",
       "\n",
       "       author_num_reviews  author_playtime_forever  \\\n",
       "39478                   3                     5683   \n",
       "39479                   2                   273826   \n",
       "39480                   1                     8546   \n",
       "39481                   2                    76272   \n",
       "39482                   1                    65609   \n",
       "\n",
       "       author_playtime_last_two_weeks  author_last_played  \\\n",
       "39478                               0          1555529790   \n",
       "39479                            5030          1561976649   \n",
       "39480                               0          1559423588   \n",
       "39481                             129          1561786512   \n",
       "39482                             157          1561907644   \n",
       "\n",
       "                                                  review  timestamp_created  \\\n",
       "39478                                                 Eh         1530456245   \n",
       "39479                                       Addictive <3         1530455675   \n",
       "39480                                            love it         1530455226   \n",
       "39481  Dota 2 is a game you will never finish learnin...         1530455043   \n",
       "39482                                         great dota         1530454697   \n",
       "\n",
       "       timestamp_updated  voted_up   weighted_vote_score  steam_purchase  \\\n",
       "39478         1530456245     False                     0           False   \n",
       "39479         1530455675      True                     0           False   \n",
       "39480         1530455226      True                     0           False   \n",
       "39481         1542907578      True  0.523809552192687988           False   \n",
       "39482         1530454697      True                     0           False   \n",
       "\n",
       "       received_for_free  written_during_early_access  \n",
       "39478              False                        False  \n",
       "39479              False                        False  \n",
       "39480              False                        False  \n",
       "39481              False                        False  \n",
       "39482              False                        False  "
      ]
     },
     "execution_count": 340,
     "metadata": {},
     "output_type": "execute_result"
    }
   ],
   "source": [
    "df_570.tail()"
   ]
  },
  {
   "cell_type": "code",
   "execution_count": 341,
   "metadata": {},
   "outputs": [
    {
     "data": {
      "text/html": [
       "<div>\n",
       "<style scoped>\n",
       "    .dataframe tbody tr th:only-of-type {\n",
       "        vertical-align: middle;\n",
       "    }\n",
       "\n",
       "    .dataframe tbody tr th {\n",
       "        vertical-align: top;\n",
       "    }\n",
       "\n",
       "    .dataframe thead th {\n",
       "        text-align: right;\n",
       "    }\n",
       "</style>\n",
       "<table border=\"1\" class=\"dataframe\">\n",
       "  <thead>\n",
       "    <tr style=\"text-align: right;\">\n",
       "      <th></th>\n",
       "      <th>recommendationid</th>\n",
       "      <th>author_steamid</th>\n",
       "      <th>author_num_games_owned</th>\n",
       "      <th>author_num_reviews</th>\n",
       "      <th>author_playtime_forever</th>\n",
       "      <th>author_playtime_last_two_weeks</th>\n",
       "      <th>author_last_played</th>\n",
       "      <th>review</th>\n",
       "      <th>timestamp_created</th>\n",
       "      <th>timestamp_updated</th>\n",
       "      <th>voted_up</th>\n",
       "      <th>weighted_vote_score</th>\n",
       "      <th>steam_purchase</th>\n",
       "      <th>received_for_free</th>\n",
       "      <th>written_during_early_access</th>\n",
       "    </tr>\n",
       "  </thead>\n",
       "  <tbody>\n",
       "    <tr>\n",
       "      <th>39478</th>\n",
       "      <td>43218554</td>\n",
       "      <td>76561198226892260</td>\n",
       "      <td>11</td>\n",
       "      <td>3</td>\n",
       "      <td>5683</td>\n",
       "      <td>0</td>\n",
       "      <td>1555529790</td>\n",
       "      <td>Eh</td>\n",
       "      <td>1530456245</td>\n",
       "      <td>1530456245</td>\n",
       "      <td>False</td>\n",
       "      <td>0</td>\n",
       "      <td>False</td>\n",
       "      <td>False</td>\n",
       "      <td>False</td>\n",
       "    </tr>\n",
       "    <tr>\n",
       "      <th>39479</th>\n",
       "      <td>43218313</td>\n",
       "      <td>76561198327110279</td>\n",
       "      <td>2</td>\n",
       "      <td>2</td>\n",
       "      <td>273826</td>\n",
       "      <td>5030</td>\n",
       "      <td>1561976649</td>\n",
       "      <td>Addictive &lt;3</td>\n",
       "      <td>1530455675</td>\n",
       "      <td>1530455675</td>\n",
       "      <td>True</td>\n",
       "      <td>0</td>\n",
       "      <td>False</td>\n",
       "      <td>False</td>\n",
       "      <td>False</td>\n",
       "    </tr>\n",
       "    <tr>\n",
       "      <th>39480</th>\n",
       "      <td>43218153</td>\n",
       "      <td>76561198427427512</td>\n",
       "      <td>4</td>\n",
       "      <td>1</td>\n",
       "      <td>8546</td>\n",
       "      <td>0</td>\n",
       "      <td>1559423588</td>\n",
       "      <td>love it</td>\n",
       "      <td>1530455226</td>\n",
       "      <td>1530455226</td>\n",
       "      <td>True</td>\n",
       "      <td>0</td>\n",
       "      <td>False</td>\n",
       "      <td>False</td>\n",
       "      <td>False</td>\n",
       "    </tr>\n",
       "    <tr>\n",
       "      <th>39481</th>\n",
       "      <td>43218066</td>\n",
       "      <td>76561198272170420</td>\n",
       "      <td>3</td>\n",
       "      <td>2</td>\n",
       "      <td>76272</td>\n",
       "      <td>129</td>\n",
       "      <td>1561786512</td>\n",
       "      <td>Dota 2 is a game you will never finish learnin...</td>\n",
       "      <td>1530455043</td>\n",
       "      <td>1542907578</td>\n",
       "      <td>True</td>\n",
       "      <td>0.523809552192687988</td>\n",
       "      <td>False</td>\n",
       "      <td>False</td>\n",
       "      <td>False</td>\n",
       "    </tr>\n",
       "    <tr>\n",
       "      <th>39482</th>\n",
       "      <td>43217892</td>\n",
       "      <td>76561198808466093</td>\n",
       "      <td>0</td>\n",
       "      <td>1</td>\n",
       "      <td>65609</td>\n",
       "      <td>157</td>\n",
       "      <td>1561907644</td>\n",
       "      <td>great dota</td>\n",
       "      <td>1530454697</td>\n",
       "      <td>1530454697</td>\n",
       "      <td>True</td>\n",
       "      <td>0</td>\n",
       "      <td>False</td>\n",
       "      <td>False</td>\n",
       "      <td>False</td>\n",
       "    </tr>\n",
       "  </tbody>\n",
       "</table>\n",
       "</div>"
      ],
      "text/plain": [
       "      recommendationid     author_steamid  author_num_games_owned  \\\n",
       "39478         43218554  76561198226892260                      11   \n",
       "39479         43218313  76561198327110279                       2   \n",
       "39480         43218153  76561198427427512                       4   \n",
       "39481         43218066  76561198272170420                       3   \n",
       "39482         43217892  76561198808466093                       0   \n",
       "\n",
       "       author_num_reviews  author_playtime_forever  \\\n",
       "39478                   3                     5683   \n",
       "39479                   2                   273826   \n",
       "39480                   1                     8546   \n",
       "39481                   2                    76272   \n",
       "39482                   1                    65609   \n",
       "\n",
       "       author_playtime_last_two_weeks  author_last_played  \\\n",
       "39478                               0          1555529790   \n",
       "39479                            5030          1561976649   \n",
       "39480                               0          1559423588   \n",
       "39481                             129          1561786512   \n",
       "39482                             157          1561907644   \n",
       "\n",
       "                                                  review  timestamp_created  \\\n",
       "39478                                                 Eh         1530456245   \n",
       "39479                                       Addictive <3         1530455675   \n",
       "39480                                            love it         1530455226   \n",
       "39481  Dota 2 is a game you will never finish learnin...         1530455043   \n",
       "39482                                         great dota         1530454697   \n",
       "\n",
       "       timestamp_updated  voted_up   weighted_vote_score  steam_purchase  \\\n",
       "39478         1530456245     False                     0           False   \n",
       "39479         1530455675      True                     0           False   \n",
       "39480         1530455226      True                     0           False   \n",
       "39481         1542907578      True  0.523809552192687988           False   \n",
       "39482         1530454697      True                     0           False   \n",
       "\n",
       "       received_for_free  written_during_early_access  \n",
       "39478              False                        False  \n",
       "39479              False                        False  \n",
       "39480              False                        False  \n",
       "39481              False                        False  \n",
       "39482              False                        False  "
      ]
     },
     "execution_count": 341,
     "metadata": {},
     "output_type": "execute_result"
    }
   ],
   "source": [
    "df_570.tail()"
   ]
  },
  {
   "cell_type": "code",
   "execution_count": 342,
   "metadata": {},
   "outputs": [
    {
     "data": {
      "text/plain": [
       "True     0.847225\n",
       "False    0.152775\n",
       "Name: voted_up, dtype: float64"
      ]
     },
     "execution_count": 342,
     "metadata": {},
     "output_type": "execute_result"
    }
   ],
   "source": [
    "df_570['voted_up'].value_counts(normalize=True)"
   ]
  },
  {
   "cell_type": "code",
   "execution_count": 343,
   "metadata": {},
   "outputs": [],
   "source": [
    "df_570['weighted_vote_score'] = df_730['weighted_vote_score'].map(lambda x: float(x))"
   ]
  },
  {
   "cell_type": "code",
   "execution_count": 344,
   "metadata": {},
   "outputs": [
    {
     "data": {
      "text/plain": [
       "dtype('float64')"
      ]
     },
     "execution_count": 344,
     "metadata": {},
     "output_type": "execute_result"
    }
   ],
   "source": [
    "df_570['weighted_vote_score'].dtype"
   ]
  },
  {
   "cell_type": "code",
   "execution_count": 345,
   "metadata": {},
   "outputs": [
    {
     "name": "stderr",
     "output_type": "stream",
     "text": [
      "C:\\Users\\Alfred\\Anaconda3\\lib\\site-packages\\numpy\\lib\\histograms.py:754: RuntimeWarning: invalid value encountered in greater_equal\n",
      "  keep = (tmp_a >= first_edge)\n",
      "C:\\Users\\Alfred\\Anaconda3\\lib\\site-packages\\numpy\\lib\\histograms.py:755: RuntimeWarning: invalid value encountered in less_equal\n",
      "  keep &= (tmp_a <= last_edge)\n"
     ]
    },
    {
     "data": {
      "text/plain": [
       "(array([1.8968e+04, 1.0000e+00, 1.0000e+00, 1.2000e+01, 6.1100e+02,\n",
       "        2.5230e+03, 2.5000e+01, 6.0000e+00, 4.0000e+00, 6.0000e+00]),\n",
       " array([0.        , 0.0970237 , 0.19404739, 0.29107109, 0.38809478,\n",
       "        0.48511848, 0.58214217, 0.67916587, 0.77618957, 0.87321326,\n",
       "        0.97023696]),\n",
       " <a list of 10 Patch objects>)"
      ]
     },
     "execution_count": 345,
     "metadata": {},
     "output_type": "execute_result"
    },
    {
     "data": {
      "image/png": "[encoded data removed]",
      "text/plain": [
       "<Figure size 432x288 with 1 Axes>"
      ]
     },
     "metadata": {
      "needs_background": "light"
     },
     "output_type": "display_data"
    }
   ],
   "source": [
    "plt.hist(df_570['weighted_vote_score'])"
   ]
  },
  {
   "cell_type": "markdown",
   "metadata": {},
   "source": [
    "Most reviews have a weighted vote score of 0 throughout 2 years. Are these reviews really \"bomb\" reviews over the whole 2 years?\n",
    "\n",
    "It may make sense to ignore the weighted score then, since it is designed for Valve's own purposes and not this particular analysis."
   ]
  },
  {
   "cell_type": "code",
   "execution_count": 346,
   "metadata": {},
   "outputs": [
    {
     "data": {
      "text/plain": [
       "False    0.994479\n",
       "True     0.005521\n",
       "Name: received_for_free, dtype: float64"
      ]
     },
     "execution_count": 346,
     "metadata": {},
     "output_type": "execute_result"
    }
   ],
   "source": [
    "df_570['received_for_free'].value_counts(normalize=True)"
   ]
  },
  {
   "cell_type": "code",
   "execution_count": 347,
   "metadata": {},
   "outputs": [
    {
     "data": {
      "text/plain": [
       "False    1.0\n",
       "Name: steam_purchase, dtype: float64"
      ]
     },
     "execution_count": 347,
     "metadata": {},
     "output_type": "execute_result"
    }
   ],
   "source": [
    "df_570['steam_purchase'].value_counts(normalize=True)"
   ]
  },
  {
   "cell_type": "code",
   "execution_count": 348,
   "metadata": {},
   "outputs": [
    {
     "data": {
      "text/plain": [
       "'2019-06-01'"
      ]
     },
     "execution_count": 348,
     "metadata": {},
     "output_type": "execute_result"
    }
   ],
   "source": [
    "datetime.datetime.utcfromtimestamp(min(df_730['timestamp_created'])).strftime('%Y-%m-%d')\n",
    "#datetime.datetime.utcfromtimestamp(min(df_730['timestamp_updated'])).strftime('%Y-%m-%d %H:%M:%S')"
   ]
  }
 ],
 "metadata": {
  "kernelspec": {
   "display_name": "Python 3",
   "language": "python",
   "name": "python3"
  },
  "language_info": {
   "codemirror_mode": {
    "name": "ipython",
    "version": 3
   },
   "file_extension": ".py",
   "mimetype": "text/x-python",
   "name": "python",
   "nbconvert_exporter": "python",
   "pygments_lexer": "ipython3",
   "version": "3.7.3"
  }
 },
 "nbformat": 4,
 "nbformat_minor": 2
}
