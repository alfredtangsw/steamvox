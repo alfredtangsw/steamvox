{
 "cells": [
  {
   "cell_type": "code",
   "execution_count": 77,
   "metadata": {},
   "outputs": [],
   "source": [
    "import json\n",
    "import pandas as pd\n",
    "import numpy as np\n",
    "import urllib\n",
    "import requests\n",
    "from bs4 import BeautifulSoup\n",
    "import re\n",
    "import datetime\n",
    "import steampi.api\n",
    "import time"
   ]
  },
  {
   "cell_type": "code",
   "execution_count": 115,
   "metadata": {},
   "outputs": [],
   "source": [
    "with open('../GitHub/steam-api/data/20190623_steam_catalog.json') as steam_games_jsonfile:\n",
    "    steam_data = json.load(steam_games_jsonfile)"
   ]
  },
  {
   "cell_type": "code",
   "execution_count": 117,
   "metadata": {},
   "outputs": [
    {
     "data": {
      "text/plain": [
       "80923"
      ]
     },
     "execution_count": 117,
     "metadata": {},
     "output_type": "execute_result"
    }
   ],
   "source": [
    "num_content = len(steam_data.keys())\n",
    "num_content"
   ]
  },
  {
   "cell_type": "markdown",
   "metadata": {},
   "source": [
    "Total number of purchaseable items is more than 80,000 but this includes DLC!\n",
    "\n",
    "Need to make a decision: Treat DLC as games as well? This is true in some cases but it is not universally applicable. Many games have costume-only DLC."
   ]
  },
  {
   "cell_type": "code",
   "execution_count": 118,
   "metadata": {},
   "outputs": [],
   "source": [
    "steam250_url = 'https://steam250.com/most_played'\n",
    "#Top 250 most played Steam games, based on average number of concurrent players in the last seven days."
   ]
  },
  {
   "cell_type": "code",
   "execution_count": 119,
   "metadata": {},
   "outputs": [],
   "source": [
    "response = requests.get(steam250_url)"
   ]
  },
  {
   "cell_type": "code",
   "execution_count": 120,
   "metadata": {},
   "outputs": [
    {
     "data": {
      "text/plain": [
       "bs4.BeautifulSoup"
      ]
     },
     "execution_count": 120,
     "metadata": {},
     "output_type": "execute_result"
    }
   ],
   "source": [
    "soup = BeautifulSoup(response.text, 'html.parser')\n",
    "type(soup)"
   ]
  },
  {
   "cell_type": "code",
   "execution_count": 121,
   "metadata": {},
   "outputs": [],
   "source": [
    "title_data = soup.find_all('span',class_='title')"
   ]
  },
  {
   "cell_type": "code",
   "execution_count": 122,
   "metadata": {},
   "outputs": [
    {
     "data": {
      "text/plain": [
       "['570', '730', '578080']"
      ]
     },
     "execution_count": 122,
     "metadata": {},
     "output_type": "execute_result"
    }
   ],
   "source": [
    "appid_data = [span.a for span in title_data]\n",
    "appid_string = ''.join(str(x) for x in appid_data)\n",
    "top_250_ids = re.findall(r'app\\/(\\d+)', appid_string)\n",
    "top_250_ids[:3]"
   ]
  },
  {
   "cell_type": "code",
   "execution_count": 123,
   "metadata": {},
   "outputs": [],
   "source": [
    "#soup.find_all('a',class_='genre') \n",
    "#abandoning the genre find_all because there is a better data source out there... and in the worst case, I can label them manually"
   ]
  },
  {
   "cell_type": "code",
   "execution_count": 124,
   "metadata": {},
   "outputs": [
    {
     "data": {
      "text/plain": [
       "['Dota 2', 'Counter-Strike: Global Offensive', \"PLAYERUNKNOWN'S BATTLEGROUNDS\"]"
      ]
     },
     "execution_count": 124,
     "metadata": {},
     "output_type": "execute_result"
    }
   ],
   "source": [
    "top_250_titles = re.findall(r'<a href[^>]*>([^<]+)<\\/a>',appid_string)\n",
    "top_250_titles[:3]"
   ]
  },
  {
   "cell_type": "code",
   "execution_count": 125,
   "metadata": {},
   "outputs": [
    {
     "data": {
      "text/plain": [
       "249"
      ]
     },
     "execution_count": 125,
     "metadata": {},
     "output_type": "execute_result"
    }
   ],
   "source": [
    "release_data = soup.find_all('span',class_='date')\n",
    "len(release_data) #For release date data, 1 entry is missing! (for the game Don't Starve)"
   ]
  },
  {
   "cell_type": "code",
   "execution_count": 126,
   "metadata": {},
   "outputs": [],
   "source": [
    "release_data.insert(111,'<span class=\"date\" title=\"23 Apr 2013\"><a href=\"/2013\"> Apr 2013 </a></span>')"
   ]
  },
  {
   "cell_type": "code",
   "execution_count": 127,
   "metadata": {},
   "outputs": [
    {
     "name": "stdout",
     "output_type": "stream",
     "text": [
      "<span class=\"date\" title=\"23 Apr 2013\"><a href=\"/2013\"> Apr 2013 </a></span>\n",
      "250\n"
     ]
    }
   ],
   "source": [
    "print(release_data[111])\n",
    "print(len(release_data))"
   ]
  },
  {
   "cell_type": "code",
   "execution_count": 128,
   "metadata": {},
   "outputs": [],
   "source": [
    "release_data_string = ''.join(str(x) for x in release_data)\n",
    "top_250_release_date_data = re.findall(r'title=\"([^<]+)\"',release_data_string)"
   ]
  },
  {
   "cell_type": "code",
   "execution_count": 129,
   "metadata": {},
   "outputs": [],
   "source": [
    "def make_date(x):\n",
    "    if x=='NA':\n",
    "        dt_str = 'NA'\n",
    "    \n",
    "    elif x=='':\n",
    "        dt_str = 'NA'\n",
    "    \n",
    "    else:\n",
    "        try:\n",
    "            dt_obj = datetime.datetime.strptime(x, '%b %d, %Y') #Must switch b and d and also change comma back to blank when not querying the API\n",
    "            dt_str = '%s/%s/%s' % (dt_obj.month, dt_obj.day, dt_obj.year)\n",
    "        except ValueError:\n",
    "            dt_obj = datetime.datetime.strptime(x, '%d %b, %Y') #Must switch b and d and also change comma back to blank when not querying the API\n",
    "            dt_str = '%s/%s/%s' % (dt_obj.month, dt_obj.day, dt_obj.year)\n",
    "        \n",
    "    return dt_str\n",
    "\n",
    "#top_250_rls_dates = [make_date(x) for x in top_250_release_date_data]"
   ]
  },
  {
   "cell_type": "code",
   "execution_count": 130,
   "metadata": {},
   "outputs": [
    {
     "data": {
      "text/plain": [
       "['MOBA', 'FPS', 'Survival']"
      ]
     },
     "execution_count": 130,
     "metadata": {},
     "output_type": "execute_result"
    }
   ],
   "source": [
    "genre_data = soup.find_all('a',class_='genre')\n",
    "genre_data_string = ''.join(str(x) for x in genre_data)\n",
    "top_250_genre_data = re.findall(r'<[^>]*>([^<]+)<\\/a>',genre_data_string)\n",
    "top_250_genre_data[:3]"
   ]
  },
  {
   "cell_type": "code",
   "execution_count": 131,
   "metadata": {},
   "outputs": [
    {
     "data": {
      "text/html": [
       "<div>\n",
       "<style scoped>\n",
       "    .dataframe tbody tr th:only-of-type {\n",
       "        vertical-align: middle;\n",
       "    }\n",
       "\n",
       "    .dataframe tbody tr th {\n",
       "        vertical-align: top;\n",
       "    }\n",
       "\n",
       "    .dataframe thead th {\n",
       "        text-align: right;\n",
       "    }\n",
       "</style>\n",
       "<table border=\"1\" class=\"dataframe\">\n",
       "  <thead>\n",
       "    <tr style=\"text-align: right;\">\n",
       "      <th></th>\n",
       "      <th>appid</th>\n",
       "      <th>titles</th>\n",
       "    </tr>\n",
       "  </thead>\n",
       "  <tbody>\n",
       "    <tr>\n",
       "      <th>42</th>\n",
       "      <td>582660</td>\n",
       "      <td>Black Desert Online</td>\n",
       "    </tr>\n",
       "  </tbody>\n",
       "</table>\n",
       "</div>"
      ],
      "text/plain": [
       "     appid               titles\n",
       "42  582660  Black Desert Online"
      ]
     },
     "execution_count": 131,
     "metadata": {},
     "output_type": "execute_result"
    }
   ],
   "source": [
    "top_250_games_df = pd.DataFrame()\n",
    "top_250_games_df['appid'] = top_250_ids\n",
    "top_250_games_df['titles'] = top_250_titles\n",
    "#top_250_games_df['genre'] = top_250_genre_data\n",
    "#top_250_games_df['rls_dates'] = top_250_rls_dates\n",
    "top_250_games_df[top_250_games_df['appid']=='582660']"
   ]
  },
  {
   "cell_type": "code",
   "execution_count": 63,
   "metadata": {},
   "outputs": [
    {
     "data": {
      "text/plain": [
       "dict_keys(['type', 'name', 'steam_appid', 'required_age', 'is_free', 'controller_support', 'detailed_description', 'about_the_game', 'short_description', 'supported_languages', 'header_image', 'website', 'pc_requirements', 'mac_requirements', 'linux_requirements', 'developers', 'publishers', 'packages', 'package_groups', 'platforms', 'metacritic', 'categories', 'genres', 'screenshots', 'movies', 'recommendations', 'achievements', 'release_date', 'support_info', 'background', 'content_descriptors'])"
      ]
     },
     "execution_count": 63,
     "metadata": {},
     "output_type": "execute_result"
    }
   ],
   "source": [
    "(app_details, is_success, status_code) = steampi.api.load_app_details(730)\n",
    "app_details.keys()"
   ]
  },
  {
   "cell_type": "code",
   "execution_count": 69,
   "metadata": {},
   "outputs": [
    {
     "name": "stdout",
     "output_type": "stream",
     "text": [
      "Tom Clancy's Rainbow Six® Siege\n",
      "False\n",
      "['Single-player', 'Multi-player', 'Co-op', 'Steam Trading Cards', 'In-App Purchases', 'Partial Controller Support']\n",
      "['Action']\n",
      "1 Dec, 2015\n"
     ]
    }
   ],
   "source": [
    "print(app_details['name'])\n",
    "print(app_details['is_free'])\n",
    "print([app_details['categories'][i]['description'] for i in range(len(app_details['categories']))])\n",
    "print([app_details['genres'][i]['description'] for i in range(len(app_details['genres']))])\n",
    "print(app_details['release_date']['date'])"
   ]
  },
  {
   "cell_type": "code",
   "execution_count": 134,
   "metadata": {},
   "outputs": [
    {
     "name": "stdout",
     "output_type": "stream",
     "text": [
      "No data found for appID = 582660 with status code = 200\n",
      "No data found for appID = 755790 with status code = 200\n",
      "No data found for appID = 905370 with status code = 200\n",
      "No data found for appID = 386180 with status code = 200\n",
      "No data found for appID = 216150 with status code = 200\n",
      "No data found for appID = 560380 with status code = 200\n"
     ]
    }
   ],
   "source": [
    "title_lst =[]\n",
    "free_lst =[]\n",
    "metacritic_lst=[]\n",
    "cats_lst=[]\n",
    "genres_lst=[]   \n",
    "rls_date_lst=[]\n",
    "error_lst = []\n",
    "\n",
    "for i in range(250):\n",
    "    #get app details for each app in the list\n",
    "    app_id = top_250_ids[i]\n",
    "    (app_details, is_success, status_code) = steampi.api.load_app_details(app_id)\n",
    "    \n",
    "    try:\n",
    "        #extend list of entries for each app (DLCs skipped because not all games have DLCs and we are not yet interested in delving into granular details)\n",
    "        title_lst.append(app_details['name'])\n",
    "        free_lst.append(app_details['is_free'])\n",
    "        #metacritic_lst.append(app_details['metacritic']['score'])\n",
    "        cats_lst.append([app_details['categories'][j]['description'] for j in range(len(app_details['categories']))]) #list comp; many games have more than 1 category\n",
    "        genres_lst.append([app_details['genres'][j]['description'] for j in range(len(app_details['genres']))]) #list comp; many games have more than 1 genre tag on Steam\n",
    "        rls_date_lst.append(app_details['release_date']['date'])\n",
    "\n",
    "    except KeyError:\n",
    "        error_lst.append(app_id)\n",
    "        title_lst.append('NA')\n",
    "        free_lst.append('NA')\n",
    "        cats_lst.append('NA') \n",
    "        genres_lst.append('NA')\n",
    "        rls_date_lst.append('NA')\n",
    "    \n",
    "    time.sleep(np.random.randint(1,5))"
   ]
  },
  {
   "cell_type": "code",
   "execution_count": 135,
   "metadata": {},
   "outputs": [
    {
     "data": {
      "text/html": [
       "<div>\n",
       "<style scoped>\n",
       "    .dataframe tbody tr th:only-of-type {\n",
       "        vertical-align: middle;\n",
       "    }\n",
       "\n",
       "    .dataframe tbody tr th {\n",
       "        vertical-align: top;\n",
       "    }\n",
       "\n",
       "    .dataframe thead th {\n",
       "        text-align: right;\n",
       "    }\n",
       "</style>\n",
       "<table border=\"1\" class=\"dataframe\">\n",
       "  <thead>\n",
       "    <tr style=\"text-align: right;\">\n",
       "      <th></th>\n",
       "      <th>appid</th>\n",
       "      <th>titles</th>\n",
       "      <th>is_free</th>\n",
       "      <th>categories</th>\n",
       "      <th>genres</th>\n",
       "      <th>rls_date</th>\n",
       "    </tr>\n",
       "  </thead>\n",
       "  <tbody>\n",
       "    <tr>\n",
       "      <th>0</th>\n",
       "      <td>570</td>\n",
       "      <td>Dota 2</td>\n",
       "      <td>True</td>\n",
       "      <td>[Multi-player, Co-op, Steam Trading Cards, Ste...</td>\n",
       "      <td>[Action, Free to Play, Strategy]</td>\n",
       "      <td>7/9/2013</td>\n",
       "    </tr>\n",
       "    <tr>\n",
       "      <th>1</th>\n",
       "      <td>730</td>\n",
       "      <td>Counter-Strike: Global Offensive</td>\n",
       "      <td>True</td>\n",
       "      <td>[Multi-player, Steam Achievements, Full contro...</td>\n",
       "      <td>[Action, Free to Play]</td>\n",
       "      <td>8/21/2012</td>\n",
       "    </tr>\n",
       "    <tr>\n",
       "      <th>2</th>\n",
       "      <td>578080</td>\n",
       "      <td>PLAYERUNKNOWN'S BATTLEGROUNDS</td>\n",
       "      <td>False</td>\n",
       "      <td>[Multi-player, Online Multi-Player, Stats]</td>\n",
       "      <td>[Action, Adventure, Massively Multiplayer]</td>\n",
       "      <td>12/21/2017</td>\n",
       "    </tr>\n",
       "    <tr>\n",
       "      <th>3</th>\n",
       "      <td>1046930</td>\n",
       "      <td>Dota Underlords</td>\n",
       "      <td>True</td>\n",
       "      <td>[Single-player, Multi-player, Online Multi-Pla...</td>\n",
       "      <td>[Casual, Free to Play, Strategy, Early Access]</td>\n",
       "      <td>6/20/2019</td>\n",
       "    </tr>\n",
       "    <tr>\n",
       "      <th>4</th>\n",
       "      <td>359550</td>\n",
       "      <td>Tom Clancy's Rainbow Six® Siege</td>\n",
       "      <td>False</td>\n",
       "      <td>[Single-player, Multi-player, Co-op, Steam Tra...</td>\n",
       "      <td>[Action]</td>\n",
       "      <td>12/1/2015</td>\n",
       "    </tr>\n",
       "  </tbody>\n",
       "</table>\n",
       "</div>"
      ],
      "text/plain": [
       "     appid                            titles is_free  \\\n",
       "0      570                            Dota 2    True   \n",
       "1      730  Counter-Strike: Global Offensive    True   \n",
       "2   578080     PLAYERUNKNOWN'S BATTLEGROUNDS   False   \n",
       "3  1046930                   Dota Underlords    True   \n",
       "4   359550   Tom Clancy's Rainbow Six® Siege   False   \n",
       "\n",
       "                                          categories  \\\n",
       "0  [Multi-player, Co-op, Steam Trading Cards, Ste...   \n",
       "1  [Multi-player, Steam Achievements, Full contro...   \n",
       "2         [Multi-player, Online Multi-Player, Stats]   \n",
       "3  [Single-player, Multi-player, Online Multi-Pla...   \n",
       "4  [Single-player, Multi-player, Co-op, Steam Tra...   \n",
       "\n",
       "                                           genres    rls_date  \n",
       "0                [Action, Free to Play, Strategy]    7/9/2013  \n",
       "1                          [Action, Free to Play]   8/21/2012  \n",
       "2      [Action, Adventure, Massively Multiplayer]  12/21/2017  \n",
       "3  [Casual, Free to Play, Strategy, Early Access]   6/20/2019  \n",
       "4                                        [Action]   12/1/2015  "
      ]
     },
     "execution_count": 135,
     "metadata": {},
     "output_type": "execute_result"
    }
   ],
   "source": [
    "top_250_games_df['titles']=title_lst\n",
    "top_250_games_df['is_free']=free_lst\n",
    "#top_250_games_df['metacritic_score']=metacritic_lst\n",
    "top_250_games_df['categories']=cats_lst\n",
    "top_250_games_df['genres']=genres_lst\n",
    "top_250_games_df['rls_date']=[make_date(x) for x in rls_date_lst]\n",
    "\n",
    "top_250_games_df.head()"
   ]
  },
  {
   "cell_type": "code",
   "execution_count": 136,
   "metadata": {},
   "outputs": [
    {
     "data": {
      "text/html": [
       "<div>\n",
       "<style scoped>\n",
       "    .dataframe tbody tr th:only-of-type {\n",
       "        vertical-align: middle;\n",
       "    }\n",
       "\n",
       "    .dataframe tbody tr th {\n",
       "        vertical-align: top;\n",
       "    }\n",
       "\n",
       "    .dataframe thead th {\n",
       "        text-align: right;\n",
       "    }\n",
       "</style>\n",
       "<table border=\"1\" class=\"dataframe\">\n",
       "  <thead>\n",
       "    <tr style=\"text-align: right;\">\n",
       "      <th></th>\n",
       "      <th>appid</th>\n",
       "      <th>titles</th>\n",
       "      <th>is_free</th>\n",
       "      <th>categories</th>\n",
       "      <th>genres</th>\n",
       "      <th>rls_date</th>\n",
       "    </tr>\n",
       "  </thead>\n",
       "  <tbody>\n",
       "    <tr>\n",
       "      <th>42</th>\n",
       "      <td>582660</td>\n",
       "      <td>NA</td>\n",
       "      <td>NA</td>\n",
       "      <td>NA</td>\n",
       "      <td>NA</td>\n",
       "      <td>NA</td>\n",
       "    </tr>\n",
       "    <tr>\n",
       "      <th>58</th>\n",
       "      <td>755790</td>\n",
       "      <td>NA</td>\n",
       "      <td>NA</td>\n",
       "      <td>NA</td>\n",
       "      <td>NA</td>\n",
       "      <td>NA</td>\n",
       "    </tr>\n",
       "    <tr>\n",
       "      <th>71</th>\n",
       "      <td>905370</td>\n",
       "      <td>NA</td>\n",
       "      <td>NA</td>\n",
       "      <td>NA</td>\n",
       "      <td>NA</td>\n",
       "      <td>NA</td>\n",
       "    </tr>\n",
       "    <tr>\n",
       "      <th>108</th>\n",
       "      <td>386180</td>\n",
       "      <td>NA</td>\n",
       "      <td>NA</td>\n",
       "      <td>NA</td>\n",
       "      <td>NA</td>\n",
       "      <td>NA</td>\n",
       "    </tr>\n",
       "    <tr>\n",
       "      <th>113</th>\n",
       "      <td>219740</td>\n",
       "      <td>Don't Starve</td>\n",
       "      <td>False</td>\n",
       "      <td>[Single-player, Full controller support, Steam...</td>\n",
       "      <td>[Adventure, Indie, Simulation]</td>\n",
       "      <td>NA</td>\n",
       "    </tr>\n",
       "    <tr>\n",
       "      <th>155</th>\n",
       "      <td>216150</td>\n",
       "      <td>NA</td>\n",
       "      <td>NA</td>\n",
       "      <td>NA</td>\n",
       "      <td>NA</td>\n",
       "      <td>NA</td>\n",
       "    </tr>\n",
       "    <tr>\n",
       "      <th>192</th>\n",
       "      <td>560380</td>\n",
       "      <td>NA</td>\n",
       "      <td>NA</td>\n",
       "      <td>NA</td>\n",
       "      <td>NA</td>\n",
       "      <td>NA</td>\n",
       "    </tr>\n",
       "  </tbody>\n",
       "</table>\n",
       "</div>"
      ],
      "text/plain": [
       "      appid        titles is_free  \\\n",
       "42   582660            NA      NA   \n",
       "58   755790            NA      NA   \n",
       "71   905370            NA      NA   \n",
       "108  386180            NA      NA   \n",
       "113  219740  Don't Starve   False   \n",
       "155  216150            NA      NA   \n",
       "192  560380            NA      NA   \n",
       "\n",
       "                                            categories  \\\n",
       "42                                                  NA   \n",
       "58                                                  NA   \n",
       "71                                                  NA   \n",
       "108                                                 NA   \n",
       "113  [Single-player, Full controller support, Steam...   \n",
       "155                                                 NA   \n",
       "192                                                 NA   \n",
       "\n",
       "                             genres rls_date  \n",
       "42                               NA       NA  \n",
       "58                               NA       NA  \n",
       "71                               NA       NA  \n",
       "108                              NA       NA  \n",
       "113  [Adventure, Indie, Simulation]       NA  \n",
       "155                              NA       NA  \n",
       "192                              NA       NA  "
      ]
     },
     "execution_count": 136,
     "metadata": {},
     "output_type": "execute_result"
    }
   ],
   "source": [
    "top_250_games_df[top_250_games_df['rls_date']=='NA']"
   ]
  },
  {
   "cell_type": "code",
   "execution_count": 137,
   "metadata": {},
   "outputs": [],
   "source": [
    "top_250_games_df.loc[111,'rls_date'] = '23/12/2019'"
   ]
  },
  {
   "cell_type": "code",
   "execution_count": 138,
   "metadata": {},
   "outputs": [
    {
     "data": {
      "text/plain": [
       "appid                                      594650\n",
       "titles                              Hunt Showdown\n",
       "is_free                                     False\n",
       "categories    [Online Multi-Player, Online Co-op]\n",
       "genres                     [Action, Early Access]\n",
       "rls_date                               23/12/2019\n",
       "Name: 111, dtype: object"
      ]
     },
     "execution_count": 138,
     "metadata": {},
     "output_type": "execute_result"
    }
   ],
   "source": [
    "top_250_games_df.iloc[111,:]"
   ]
  },
  {
   "cell_type": "code",
   "execution_count": 147,
   "metadata": {},
   "outputs": [
    {
     "data": {
      "text/html": [
       "<div>\n",
       "<style scoped>\n",
       "    .dataframe tbody tr th:only-of-type {\n",
       "        vertical-align: middle;\n",
       "    }\n",
       "\n",
       "    .dataframe tbody tr th {\n",
       "        vertical-align: top;\n",
       "    }\n",
       "\n",
       "    .dataframe thead th {\n",
       "        text-align: right;\n",
       "    }\n",
       "</style>\n",
       "<table border=\"1\" class=\"dataframe\">\n",
       "  <thead>\n",
       "    <tr style=\"text-align: right;\">\n",
       "      <th></th>\n",
       "      <th>appid</th>\n",
       "      <th>titles</th>\n",
       "      <th>is_free</th>\n",
       "      <th>categories</th>\n",
       "      <th>genres</th>\n",
       "      <th>rls_date</th>\n",
       "    </tr>\n",
       "  </thead>\n",
       "  <tbody>\n",
       "    <tr>\n",
       "      <th>0</th>\n",
       "      <td>570</td>\n",
       "      <td>Dota 2</td>\n",
       "      <td>True</td>\n",
       "      <td>[Multi-player, Co-op, Steam Trading Cards, Ste...</td>\n",
       "      <td>[Action, Free to Play, Strategy]</td>\n",
       "      <td>7/9/2013</td>\n",
       "    </tr>\n",
       "    <tr>\n",
       "      <th>1</th>\n",
       "      <td>730</td>\n",
       "      <td>Counter-Strike: Global Offensive</td>\n",
       "      <td>True</td>\n",
       "      <td>[Multi-player, Steam Achievements, Full contro...</td>\n",
       "      <td>[Action, Free to Play]</td>\n",
       "      <td>8/21/2012</td>\n",
       "    </tr>\n",
       "    <tr>\n",
       "      <th>2</th>\n",
       "      <td>578080</td>\n",
       "      <td>PLAYERUNKNOWN'S BATTLEGROUNDS</td>\n",
       "      <td>False</td>\n",
       "      <td>[Multi-player, Online Multi-Player, Stats]</td>\n",
       "      <td>[Action, Adventure, Massively Multiplayer]</td>\n",
       "      <td>12/21/2017</td>\n",
       "    </tr>\n",
       "    <tr>\n",
       "      <th>3</th>\n",
       "      <td>1046930</td>\n",
       "      <td>Dota Underlords</td>\n",
       "      <td>True</td>\n",
       "      <td>[Single-player, Multi-player, Online Multi-Pla...</td>\n",
       "      <td>[Casual, Free to Play, Strategy, Early Access]</td>\n",
       "      <td>6/20/2019</td>\n",
       "    </tr>\n",
       "    <tr>\n",
       "      <th>4</th>\n",
       "      <td>359550</td>\n",
       "      <td>Tom Clancy's Rainbow Six® Siege</td>\n",
       "      <td>False</td>\n",
       "      <td>[Single-player, Multi-player, Co-op, Steam Tra...</td>\n",
       "      <td>[Action]</td>\n",
       "      <td>12/1/2015</td>\n",
       "    </tr>\n",
       "  </tbody>\n",
       "</table>\n",
       "</div>"
      ],
      "text/plain": [
       "     appid                            titles is_free  \\\n",
       "0      570                            Dota 2    True   \n",
       "1      730  Counter-Strike: Global Offensive    True   \n",
       "2   578080     PLAYERUNKNOWN'S BATTLEGROUNDS   False   \n",
       "3  1046930                   Dota Underlords    True   \n",
       "4   359550   Tom Clancy's Rainbow Six® Siege   False   \n",
       "\n",
       "                                          categories  \\\n",
       "0  [Multi-player, Co-op, Steam Trading Cards, Ste...   \n",
       "1  [Multi-player, Steam Achievements, Full contro...   \n",
       "2         [Multi-player, Online Multi-Player, Stats]   \n",
       "3  [Single-player, Multi-player, Online Multi-Pla...   \n",
       "4  [Single-player, Multi-player, Co-op, Steam Tra...   \n",
       "\n",
       "                                           genres    rls_date  \n",
       "0                [Action, Free to Play, Strategy]    7/9/2013  \n",
       "1                          [Action, Free to Play]   8/21/2012  \n",
       "2      [Action, Adventure, Massively Multiplayer]  12/21/2017  \n",
       "3  [Casual, Free to Play, Strategy, Early Access]   6/20/2019  \n",
       "4                                        [Action]   12/1/2015  "
      ]
     },
     "execution_count": 147,
     "metadata": {},
     "output_type": "execute_result"
    }
   ],
   "source": [
    "top_250_games_df.head()"
   ]
  },
  {
   "cell_type": "code",
   "execution_count": 139,
   "metadata": {},
   "outputs": [
    {
     "data": {
      "text/plain": [
       "['582660', '755790', '905370', '386180', '216150', '560380']"
      ]
     },
     "execution_count": 139,
     "metadata": {},
     "output_type": "execute_result"
    }
   ],
   "source": [
    "error_lst"
   ]
  },
  {
   "cell_type": "code",
   "execution_count": 140,
   "metadata": {},
   "outputs": [],
   "source": [
    "today = datetime.date.today().strftime('%d%m%Y')"
   ]
  },
  {
   "cell_type": "code",
   "execution_count": 141,
   "metadata": {},
   "outputs": [],
   "source": [
    "top_250_games_df.to_csv('./data/top_250_steam_games_'+str(today)+'.csv')"
   ]
  }
 ],
 "metadata": {
  "kernelspec": {
   "display_name": "Python 3",
   "language": "python",
   "name": "python3"
  },
  "language_info": {
   "codemirror_mode": {
    "name": "ipython",
    "version": 3
   },
   "file_extension": ".py",
   "mimetype": "text/x-python",
   "name": "python",
   "nbconvert_exporter": "python",
   "pygments_lexer": "ipython3",
   "version": "3.7.3"
  }
 },
 "nbformat": 4,
 "nbformat_minor": 2
}
