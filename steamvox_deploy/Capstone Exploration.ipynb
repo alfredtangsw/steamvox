{
 "cells": [
  {
   "cell_type": "code",
   "execution_count": 17,
   "metadata": {},
   "outputs": [],
   "source": [
    "import pandas as pd\n",
    "import numpy as np\n",
    "import json\n",
    "import steamreviews\n",
    "import requests\n",
    "from bs4 import BeautifulSoup\n",
    "import steampi.api"
   ]
  },
  {
   "cell_type": "code",
   "execution_count": 3,
   "metadata": {},
   "outputs": [],
   "source": [
    "steam_id_df=pd.read_csv('./data/top_250_steam_games_24062019.csv',index_col=0)"
   ]
  },
  {
   "cell_type": "code",
   "execution_count": 8,
   "metadata": {},
   "outputs": [],
   "source": [
    "#steam_id_df.genre.value_counts()\n",
    "#need to manually label the genres! Too many sub-classes."
   ]
  },
  {
   "cell_type": "code",
   "execution_count": 29,
   "metadata": {},
   "outputs": [
    {
     "name": "stdout",
     "output_type": "stream",
     "text": [
      "Loading idprocessed_on_20190625.txt\n",
      "Downloading reviews for appID = 440\n",
      "[appID = 440] expected #reviews = 308535\n",
      "Number of queries 150 reached. Cooldown: 310 seconds\n",
      "Number of queries 150 reached. Cooldown: 310 seconds\n",
      "Number of queries 150 reached. Cooldown: 310 seconds\n",
      "Number of queries 150 reached. Cooldown: 310 seconds\n",
      "[appID = 440] num_reviews = 67800 (expected: 308535)\n",
      "Downloading reviews for appID = 779340\n",
      "[appID = 779340] expected #reviews = 4498\n",
      "[appID = 779340] num_reviews = 4498 (expected: 4498)\n",
      "Downloading reviews for appID = 872790\n",
      "[appID = 872790] expected #reviews = 1380\n",
      "[appID = 872790] num_reviews = 1380 (expected: 1380)\n",
      "Downloading reviews for appID = 49520\n",
      "[appID = 49520] expected #reviews = 85391\n",
      "Number of queries 150 reached. Cooldown: 310 seconds\n",
      "Number of queries 150 reached. Cooldown: 310 seconds\n",
      "[appID = 49520] num_reviews = 22584 (expected: 85391)\n",
      "Downloading reviews for appID = 252950\n",
      "[appID = 252950] expected #reviews = 124279\n",
      "Number of queries 150 reached. Cooldown: 310 seconds\n",
      "Number of queries 150 reached. Cooldown: 310 seconds\n",
      "Number of queries 150 reached. Cooldown: 310 seconds\n",
      "[appID = 252950] num_reviews = 50799 (expected: 124279)\n",
      "Downloading reviews for appID = 4000\n",
      "[appID = 4000] expected #reviews = 196498\n",
      "Number of queries 150 reached. Cooldown: 310 seconds\n",
      "Number of queries 150 reached. Cooldown: 310 seconds\n",
      "Number of queries 150 reached. Cooldown: 310 seconds\n",
      "[appID = 4000] num_reviews = 46944 (expected: 196498)\n",
      "Downloading reviews for appID = 105600\n",
      "[appID = 105600] expected #reviews = 144163\n",
      "Number of queries 150 reached. Cooldown: 310 seconds\n",
      "Number of queries 150 reached. Cooldown: 310 seconds\n",
      "Number of queries 150 reached. Cooldown: 310 seconds\n",
      "[appID = 105600] num_reviews = 42152 (expected: 144163)\n",
      "Downloading reviews for appID = 381210\n",
      "[appID = 381210] expected #reviews = 60226\n",
      "Number of queries 150 reached. Cooldown: 310 seconds\n",
      "Number of queries 150 reached. Cooldown: 310 seconds\n",
      "Number of queries 150 reached. Cooldown: 310 seconds\n",
      "[appID = 381210] num_reviews = 35139 (expected: 60226)\n",
      "Downloading reviews for appID = 289070\n",
      "[appID = 289070] expected #reviews = 28358\n",
      "Number of queries 150 reached. Cooldown: 310 seconds\n",
      "[appID = 289070] num_reviews = 14933 (expected: 28358)\n",
      "Downloading reviews for appID = 8930\n",
      "[appID = 8930] expected #reviews = 81239\n",
      "Number of queries 150 reached. Cooldown: 310 seconds\n",
      "[appID = 8930] num_reviews = 13709 (expected: 81239)\n",
      "Game records written: 10\n"
     ]
    },
    {
     "data": {
      "text/plain": [
       "True"
      ]
     },
     "execution_count": 29,
     "metadata": {},
     "output_type": "execute_result"
    }
   ],
   "source": [
    "#reference: https://github.com/woctezuma/download-steam-reviews\n",
    "appids=list(steam_id_df['appid'])\n",
    "appid_batch1 = appids[:10]\n",
    "appid_batch2 = appids[10:20]\n",
    "search_years = 2\n",
    "\n",
    "request_params = dict()\n",
    "request_params['language'] = 'english'\n",
    "request_params['filter'] = 'recent'  # reviews are sorted by helpfulness instead of chronology\n",
    "request_params['day_range'] = (str(search_years*365))  # focus on reviews which were published during the past four weeks\n",
    "\n",
    "steamreviews.download_reviews_for_app_id_batch(appid_batch2,chosen_request_params=request_params)"
   ]
  },
  {
   "cell_type": "code",
   "execution_count": 31,
   "metadata": {},
   "outputs": [
    {
     "name": "stdout",
     "output_type": "stream",
     "text": [
      "Loading idprocessed_on_20190625.txt\n",
      "Skipping previously found appID = 582010\n",
      "Skipping previously found appID = 306130\n",
      "Skipping previously found appID = 292030\n",
      "Skipping previously found appID = 692850\n",
      "Skipping previously found appID = 227300\n",
      "Skipping previously found appID = 394360\n",
      "Skipping previously found appID = 232090\n",
      "Skipping previously found appID = 107410\n",
      "Skipping previously found appID = 377160\n",
      "Skipping previously found appID = 39210\n",
      "Skipping previously found appID = 281990\n",
      "Skipping previously found appID = 444090\n",
      "Skipping previously found appID = 489830\n",
      "Skipping previously found appID = 444200\n",
      "Skipping previously found appID = 841370\n",
      "Skipping previously found appID = 629760\n",
      "Skipping previously found appID = 594570\n",
      "Downloading reviews for appID = 413150\n",
      "[appID = 413150] expected #reviews = 69303\n",
      "Number of queries 150 reached. Cooldown: 310 seconds\n",
      "Number of queries 150 reached. Cooldown: 310 seconds\n",
      "[appID = 413150] num_reviews = 34417 (expected: 69303)\n",
      "Downloading reviews for appID = 304930\n",
      "[appID = 304930] expected #reviews = 135202\n",
      "Number of queries 150 reached. Cooldown: 310 seconds\n",
      "Number of queries 150 reached. Cooldown: 310 seconds\n",
      "[appID = 304930] num_reviews = 27330 (expected: 135202)\n",
      "Downloading reviews for appID = 236390\n",
      "[appID = 236390] expected #reviews = 49540\n",
      "Number of queries 150 reached. Cooldown: 310 seconds\n",
      "[appID = 236390] num_reviews = 16249 (expected: 49540)\n",
      "Game records written: 3\n"
     ]
    },
    {
     "data": {
      "text/plain": [
       "True"
      ]
     },
     "execution_count": 31,
     "metadata": {},
     "output_type": "execute_result"
    }
   ],
   "source": [
    "#appid_batch1 = appids[:10]\n",
    "#appid_batch2 = appids[10:20]\n",
    "appid_batch3 = appids[20:40]\n",
    "\n",
    "steamreviews.download_reviews_for_app_id_batch(appid_batch3,chosen_request_params=request_params)"
   ]
  },
  {
   "cell_type": "code",
   "execution_count": 42,
   "metadata": {},
   "outputs": [
    {
     "name": "stdout",
     "output_type": "stream",
     "text": [
      "Loading idprocessed_on_20190626.txt\n",
      "Skipping previously found appID = 236850\n",
      "Skipping previously found appID = 582660\n",
      "Skipping previously found appID = 255710\n",
      "Skipping previously found appID = 294100\n",
      "Skipping previously found appID = 322330\n",
      "Skipping previously found appID = 221380\n",
      "Skipping previously found appID = 374320\n",
      "Skipping previously found appID = 550\n",
      "Skipping previously found appID = 72850\n",
      "Skipping previously found appID = 644930\n",
      "Skipping previously found appID = 239140\n",
      "Skipping previously found appID = 291550\n",
      "Downloading reviews for appID = 10\n",
      "[appID = 10] expected #reviews = 33812\n",
      "[appID = 10] num_reviews = 9416 (expected: 33812)\n",
      "Skipping previously found appID = 218620\n",
      "Skipping previously found appID = 386360\n",
      "Downloading reviews for appID = 435150\n",
      "[appID = 435150] expected #reviews = 25057\n",
      "Number of queries 150 reached. Cooldown: 310 seconds\n",
      "Number of queries 150 reached. Cooldown: 310 seconds\n",
      "[appID = 435150] num_reviews = 23818 (expected: 25057)\n",
      "Downloading reviews for appID = 221100\n",
      "[appID = 221100] expected #reviews = 106854\n",
      "[appID = 221100] num_reviews = 6300 (expected: 106854)\n",
      "Skipping previously found appID = 251570\n",
      "Skipping previously found appID = 787860\n",
      "Skipping previously found appID = 755790\n",
      "Game records written: 3\n"
     ]
    },
    {
     "data": {
      "text/plain": [
       "True"
      ]
     },
     "execution_count": 42,
     "metadata": {},
     "output_type": "execute_result"
    }
   ],
   "source": [
    "appid_batch4 = appids[40:60]\n",
    "\n",
    "steamreviews.download_reviews_for_app_id_batch(appid_batch4,chosen_request_params=request_params)"
   ]
  },
  {
   "cell_type": "code",
   "execution_count": 44,
   "metadata": {},
   "outputs": [
    {
     "name": "stdout",
     "output_type": "stream",
     "text": [
      "Loading idprocessed_on_20190626.txt\n",
      "Downloading reviews for appID = 427520\n",
      "[appID = 427520] expected #reviews = 31686\n",
      "Number of queries 150 reached. Cooldown: 310 seconds\n",
      "[appID = 427520] num_reviews = 16127 (expected: 31686)\n",
      "Skipping previously found appID = 601510\n",
      "Skipping previously found appID = 48700\n",
      "Skipping previously found appID = 440900\n",
      "Skipping previously found appID = 453480\n",
      "Skipping previously found appID = 438100\n",
      "Skipping previously found appID = 203770\n",
      "Skipping previously found appID = 581320\n",
      "Skipping previously found appID = 812140\n",
      "Skipping previously found appID = 627690\n",
      "Skipping previously found appID = 905370\n",
      "Skipping previously found appID = 211820\n",
      "Skipping previously found appID = 270880\n",
      "Skipping previously found appID = 646570\n",
      "Skipping previously found appID = 244850\n",
      "Skipping previously found appID = 231430\n",
      "Skipping previously found appID = 214950\n",
      "Skipping previously found appID = 552990\n",
      "Skipping previously found appID = 250900\n",
      "Skipping previously found appID = 844870\n",
      "Game records written: 1\n"
     ]
    },
    {
     "data": {
      "text/plain": [
       "True"
      ]
     },
     "execution_count": 44,
     "metadata": {},
     "output_type": "execute_result"
    }
   ],
   "source": [
    "appid_batch5 = appids[60:80]\n",
    "\n",
    "steamreviews.download_reviews_for_app_id_batch(appid_batch5,chosen_request_params=request_params)"
   ]
  },
  {
   "cell_type": "code",
   "execution_count": 46,
   "metadata": {},
   "outputs": [
    {
     "name": "stdout",
     "output_type": "stream",
     "text": [
      "Loading idprocessed_on_20190626.txt\n",
      "Skipping previously found appID = 261640\n",
      "Skipping previously found appID = 761890\n",
      "Skipping previously found appID = 220200\n",
      "Skipping previously found appID = 219990\n",
      "Skipping previously found appID = 242760\n",
      "Skipping previously found appID = 304390\n",
      "Downloading reviews for appID = 457140\n",
      "[appID = 457140] expected #reviews = 6862\n",
      "[appID = 457140] num_reviews = 6145 (expected: 6862)\n",
      "Downloading reviews for appID = 47890\n",
      "[appID = 47890] expected #reviews = 9198\n",
      "[appID = 47890] num_reviews = 3216 (expected: 9198)\n",
      "Skipping previously found appID = 489940\n",
      "Skipping previously found appID = 268500\n",
      "Downloading reviews for appID = 834910\n",
      "[appID = 834910] expected #reviews = 13572\n",
      "Number of queries 150 reached. Cooldown: 310 seconds\n",
      "[appID = 834910] num_reviews = 13570 (expected: 13572)\n",
      "Skipping previously found appID = 240\n",
      "Skipping previously found appID = 976310\n",
      "Skipping previously found appID = 557340\n",
      "Skipping previously found appID = 22380\n",
      "Downloading reviews for appID = 632360\n",
      "[appID = 632360] expected #reviews = 15970\n",
      "Number of queries 150 reached. Cooldown: 310 seconds\n",
      "[appID = 632360] num_reviews = 15964 (expected: 15970)\n",
      "Skipping previously found appID = 383120\n",
      "Skipping previously found appID = 262060\n",
      "Skipping previously found appID = 594650\n",
      "Skipping previously found appID = 477160\n",
      "Game records written: 4\n"
     ]
    },
    {
     "data": {
      "text/plain": [
       "True"
      ]
     },
     "execution_count": 46,
     "metadata": {},
     "output_type": "execute_result"
    }
   ],
   "source": [
    "appid_batch6 = appids[80:100]\n",
    "\n",
    "steamreviews.download_reviews_for_app_id_batch(appid_batch6,chosen_request_params=request_params)"
   ]
  },
  {
   "cell_type": "code",
   "execution_count": 51,
   "metadata": {},
   "outputs": [
    {
     "name": "stdout",
     "output_type": "stream",
     "text": [
      "Loading idprocessed_on_20190626.txt\n",
      "Skipping previously found appID = 8500\n",
      "Skipping previously found appID = 359320\n",
      "Skipping previously found appID = 648350\n",
      "Skipping previously found appID = 433340\n",
      "Downloading reviews for appID = 552500\n",
      "[appID = 552500] expected #reviews = 14262\n",
      "[appID = 552500] num_reviews = 14244 (expected: 14262)\n",
      "Skipping previously found appID = 4700\n",
      "Skipping previously found appID = 513710\n",
      "Skipping previously found appID = 322170\n",
      "Skipping previously found appID = 814380\n",
      "Skipping previously found appID = 386180\n",
      "Game records written: 1\n"
     ]
    },
    {
     "data": {
      "text/plain": [
       "True"
      ]
     },
     "execution_count": 51,
     "metadata": {},
     "output_type": "execute_result"
    }
   ],
   "source": [
    "appid_batch7 = appids[100:110]\n",
    "\n",
    "steamreviews.download_reviews_for_app_id_batch(appid_batch7,chosen_request_params=request_params)"
   ]
  },
  {
   "cell_type": "code",
   "execution_count": 54,
   "metadata": {},
   "outputs": [
    {
     "name": "stdout",
     "output_type": "stream",
     "text": [
      "Loading idprocessed_on_20190627.txt\n",
      "Skipping previously found appID = 227940\n",
      "Skipping previously found appID = 219740\n",
      "Skipping previously found appID = 291480\n",
      "Skipping previously found appID = 311690\n",
      "Skipping previously found appID = 770240\n",
      "Skipping previously found appID = 376210\n",
      "Skipping previously found appID = 700330\n",
      "Skipping previously found appID = 379430\n",
      "Skipping previously found appID = 304050\n",
      "Skipping previously found appID = 813820\n",
      "Skipping previously found appID = 233860\n",
      "Skipping previously found appID = 637090\n",
      "Skipping previously found appID = 275850\n",
      "Skipping previously found appID = 393380\n",
      "Skipping previously found appID = 550650\n",
      "Skipping previously found appID = 460930\n",
      "Skipping previously found appID = 363970\n",
      "Downloading reviews for appID = 379720\n",
      "[appID = 379720] expected #reviews = 43527\n",
      "Number of queries 150 reached. Cooldown: 310 seconds\n",
      "[appID = 379720] num_reviews = 17692 (expected: 43527)\n",
      "Skipping previously found appID = 10500\n",
      "Downloading reviews for appID = 493340\n",
      "[appID = 493340] expected #reviews = 12997\n",
      "[appID = 493340] num_reviews = 5764 (expected: 12997)\n",
      "Game records written: 2\n"
     ]
    },
    {
     "data": {
      "text/plain": [
       "True"
      ]
     },
     "execution_count": 54,
     "metadata": {},
     "output_type": "execute_result"
    }
   ],
   "source": [
    "appid_batch8 = appids[110:130]\n",
    "\n",
    "steamreviews.download_reviews_for_app_id_batch(appid_batch8,chosen_request_params=request_params)"
   ]
  },
  {
   "cell_type": "code",
   "execution_count": null,
   "metadata": {},
   "outputs": [],
   "source": [
    "appid_batch9 = appids[130:150]\n",
    "\n",
    "steamreviews.download_reviews_for_app_id_batch(appid_batch9,chosen_request_params=request_params)"
   ]
  }
 ],
 "metadata": {
  "kernelspec": {
   "display_name": "Python 3",
   "language": "python",
   "name": "python3"
  },
  "language_info": {
   "codemirror_mode": {
    "name": "ipython",
    "version": 3
   },
   "file_extension": ".py",
   "mimetype": "text/x-python",
   "name": "python",
   "nbconvert_exporter": "python",
   "pygments_lexer": "ipython3",
   "version": "3.7.3"
  }
 },
 "nbformat": 4,
 "nbformat_minor": 2
}
